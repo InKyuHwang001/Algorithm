{
  "nbformat": 4,
  "nbformat_minor": 0,
  "metadata": {
    "colab": {
      "provenance": [],
      "authorship_tag": "ABX9TyOZH+gObe5zHoHGcqEc52K4",
      "include_colab_link": true
    },
    "kernelspec": {
      "name": "python3",
      "display_name": "Python 3"
    },
    "language_info": {
      "name": "python"
    }
  },
  "cells": [
    {
      "cell_type": "markdown",
      "metadata": {
        "id": "view-in-github",
        "colab_type": "text"
      },
      "source": [
        "<a href=\"https://colab.research.google.com/github/InKyuHwang001/Algorithm/blob/master/10_04.ipynb\" target=\"_parent\"><img src=\"https://colab.research.google.com/assets/colab-badge.svg\" alt=\"Open In Colab\"/></a>"
      ]
    },
    {
      "cell_type": "markdown",
      "source": [
        "# 프린터\n",
        "- https://school.programmers.co.kr/learn/courses/30/lessons/42587"
      ],
      "metadata": {
        "id": "kOjl7Uamjb0Y"
      }
    },
    {
      "cell_type": "code",
      "execution_count": null,
      "metadata": {
        "id": "l1dLc4V9jRdA"
      },
      "outputs": [],
      "source": [
        "def solution(p, l):\n",
        "    ans = 0\n",
        "    m = max(p)\n",
        "    while True:\n",
        "        v = p.pop(0)\n",
        "        if m == v:\n",
        "            ans +=1\n",
        "            if l == 0:\n",
        "                break\n",
        "            else:\n",
        "                l -= 1\n",
        "            m = max(p)\n",
        "        else:\n",
        "            p.append(v)\n",
        "            if l == 0:\n",
        "                l = len(p) -1\n",
        "            else:\n",
        "                l -= 1\n",
        "    return ans"
      ]
    }
  ]
}