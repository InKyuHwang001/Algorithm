{
 "cells": [
  {
   "cell_type": "markdown",
   "id": "d3d02f04",
   "metadata": {},
   "source": [
    "---\n",
    "# 5. 이진 탐색 문제\n",
    "---\n",
    "## 5.27. 정렬된 배열에서 특정 수의 개수 구하기\n",
    "---\n",
    "- N개의 원소 오름차순 정렬\\/x가 등장하는 횟수\n",
    "- 단, 시간 복잡도 logN이 아니면 시간 초과 판정"
   ]
  },
  {
   "cell_type": "code",
   "execution_count": 2,
   "id": "88ee3051",
   "metadata": {},
   "outputs": [
    {
     "name": "stdout",
     "output_type": "stream",
     "text": [
      "7 2\n",
      "1 1 2 2 2 2 3\n",
      "4\n"
     ]
    }
   ],
   "source": [
    "from bisect import bisect_left, bisect_right\n",
    "\n",
    "#값이[left_value, right_value]인 데이터의 개수를 반환하는 함수\n",
    "def count_by_range(array, left_value, right_value):\n",
    "    right_index=bisect_right(array, right_value)\n",
    "    left_index=bisect_left(array, left_value)\n",
    "    return right_index-left_index\n",
    "\n",
    "n,x=map(int, input().split())#데이터의 개수 N, 찾고자 하는 값 x를 입력받기 \n",
    "array=list(map(int, input().split()))#전체 데이터 입력받기\n",
    "\n",
    "#값이 [x,x]범위에 있는 데이터의 개수 계산\n",
    "count=count_by_range(array,x,x)\n",
    "\n",
    "#값이 x인 원소가 존재하지 않는다면\n",
    "if count==0:\n",
    "    print(-1)\n",
    "#값이 x인 원소가 존재한다면\n",
    "else:\n",
    "    print(count)"
   ]
  },
  {
   "cell_type": "code",
   "execution_count": null,
   "id": "095a5953",
   "metadata": {},
   "outputs": [],
   "source": [
    "#하나 더있다요"
   ]
  },
  {
   "cell_type": "markdown",
   "id": "87f0bab7",
   "metadata": {},
   "source": [
    "---\n",
    "## 5.28. 고정점 찾기\n",
    "---\n",
    "- 고정점: 원소 중에서 그 값이 인텍스와 동일한 원소\n",
    "- 오름차순으로 정렬되어 있는 원소에서 고정점을 출력\n",
    "- 단, 시간 복잡도 logN이 아니면 시간 초과 판정"
   ]
  },
  {
   "cell_type": "code",
   "execution_count": 3,
   "id": "fec0f122",
   "metadata": {},
   "outputs": [
    {
     "name": "stdout",
     "output_type": "stream",
     "text": [
      "5\n",
      "-15 -6 1 3 7\n",
      "3\n"
     ]
    }
   ],
   "source": [
    "#이진 탐색 소스코드 구현\n",
    "def binary_search(array, start, end):\n",
    "    if start>end:\n",
    "        return None\n",
    "    mid=(start+end)//2\n",
    "    #고정점을 찾은 경우 인덱스 반환\n",
    "    if array[mid]==mid:\n",
    "        return mid\n",
    "    #중간점이 가리키는 위치의 값보다 중간점이 작은 경우 왼쪽 확인\n",
    "    elif array[mid]>mid:\n",
    "        return binary_search(array, start, mid-1)\n",
    "    #중간점이 가리키는 위치의 값보다 중간점이 큰 경우 오른쪽 확인\n",
    "    else:\n",
    "        return binary_search(array, mid+1,end)\n",
    "    \n",
    "n=int(input())\n",
    "array=list(map(int, input().split()))\n",
    "\n",
    "#이진 탐색 수행\n",
    "index=binary_search(array,0,n-1)\n",
    "\n",
    "#고정점이 없는 경우 -1 출력\n",
    "if index==None:\n",
    "    print(-1)   \n",
    "#고정점이 있는 경우 해당 인덱스 출력\n",
    "else:\n",
    "    print(index)"
   ]
  },
  {
   "cell_type": "markdown",
   "id": "df5e544f",
   "metadata": {},
   "source": [
    "---\n",
    "## 5.29. 공유기 설치\n",
    "---\n",
    "- https://www.acmicpc.net/problem/2110\n",
    "- N개의 집이 수직선에 존재\\/ 각 집의 좌표는 일치하지 않음\n",
    "- 공유기 C개 설치 예정 \\/한 집에 최대 한개\\/가장 인접한 두 공유기 사이의 거리를 최대로"
   ]
  },
  {
   "cell_type": "code",
   "execution_count": 3,
   "id": "2af3228e",
   "metadata": {
    "scrolled": true
   },
   "outputs": [
    {
     "name": "stdout",
     "output_type": "stream",
     "text": [
      "5 3\n",
      "1\n",
      "2\n",
      "8\n",
      "4\n",
      "9\n",
      "3\n"
     ]
    }
   ],
   "source": [
    "#집의 개수와 공유기의 개수를 입력\n",
    "n, c =list(map(int, input().split(' ')))\n",
    "\n",
    "#전체 집의 좌표 정보를 입력받기\n",
    "array=[]\n",
    "for _ in range(n):\n",
    "    array.append(int(input()))\n",
    "array.sort()#이진 탐색 수행을 위해 정렬 수행\n",
    "\n",
    "start=array[1]-array[0]# 집의 좌표중 가장 작은 값\n",
    "end=array[-1]-array[0]#집의 좌표중 가장 큰 값\n",
    "result=0\n",
    "\n",
    "while(start<=end):\n",
    "    mid=(start+end)//2#mid는 가장 인접한 두 공유기 사이의 거리를 의미\n",
    "    value=array[0]\n",
    "    count=1\n",
    "    #현재 mid값을 이용해 공유기를 설치\n",
    "    for i in range(1, n):#앞에서부터 차근차근 설치\n",
    "        if array[i]>=value+mid:\n",
    "            value=array[i]\n",
    "            count+=1\n",
    "    if count>=c:#C개 이상의 공유기를 설치할 수 있는 경유, 거리를 증가\n",
    "        start=mid+1\n",
    "        result=mid#최적의 결과를 저장\n",
    "    else: #C개 이상의 공유기를 설치할 수 없는 경우 거리를 감소\n",
    "        end=mid-1\n",
    "        \n",
    "print(result)"
   ]
  },
  {
   "cell_type": "markdown",
   "id": "c4e0c2a4",
   "metadata": {},
   "source": [
    "---\n",
    "## 5.30. 가사 검색\n",
    "---\n",
    "- https://programmers.co.kr/learn/courses/30/lessons/60060\n",
    "- 키워드가 몇 개 포함되어 있는지 \n",
    "- ?가 포함된 패턴: ?는 하나의 글자를 의미하며 모든 문자에 매칭\n",
    "- 가사의 단어가 담긴 words와 qusries가 주어질때 몇개인지 순서대로 배열에 담는 함수 출력"
   ]
  },
  {
   "cell_type": "code",
   "execution_count": 4,
   "id": "8e10da2c",
   "metadata": {},
   "outputs": [],
   "source": [
    "#https://programmers.co.kr/learn/courses/30/lessons/60060\n",
    "from bisect import bisect_left, bisect_right\n",
    "\n",
    "# 값이 [left_value, right_value]인 데이터의 개수를 반환하는 함수\n",
    "def count_by_range(a, left_value, right_value):\n",
    "    right_index = bisect_right(a, right_value)\n",
    "    left_index = bisect_left(a, left_value)\n",
    "    return right_index - left_index\n",
    "\n",
    "# 모든 단어들을 길이마다 나누어서 저장하기 위한 리스트\n",
    "array = [[] for _ in range(10001)]\n",
    "# 모든 단어들을 길이마다 나누어서 뒤집어 저장하기 위한 리스트\n",
    "reversed_array = [[] for _ in range(10001)]\n",
    "\n",
    "def solution(words, queries):\n",
    "    answer = []\n",
    "    for word in words: # 모든 단어를 접미사 와일드카드 배열, 접두사 와일드카드 배열에 각각 삽입\n",
    "        array[len(word)].append(word) # 단어를 삽입\n",
    "        reversed_array[len(word)].append(word[::-1]) # 단어를 뒤집어서 삽입\n",
    "\n",
    "    for i in range(10001): # 이진 탐색을 수행하기 위해 각 단어 리스트 정렬 수행\n",
    "        array[i].sort()\n",
    "        reversed_array[i].sort()\n",
    "\n",
    "    for q in queries: # 쿼리를 하나씩 확인하며 처리\n",
    "        if q[0] != '?': # 접미사에 와일드 카드가 붙은 경우\n",
    "            res = count_by_range(array[len(q)], q.replace('?', 'a'), q.replace('?', 'z'))\n",
    "        else: # 접두사에 와일드 카드가 붙은 경우\n",
    "            res = count_by_range(reversed_array[len(q)], q[::-1].replace('?', 'a'), q[::-1].replace('?', 'z'))\n",
    "        # 검색된 단어의 개수를 저장\n",
    "        answer.append(res)\n",
    "    return answer"
   ]
  },
  {
   "cell_type": "code",
   "execution_count": null,
   "id": "ec9b23d0",
   "metadata": {},
   "outputs": [],
   "source": []
  }
 ],
 "metadata": {
  "kernelspec": {
   "display_name": "Python 3 (ipykernel)",
   "language": "python",
   "name": "python3"
  },
  "language_info": {
   "codemirror_mode": {
    "name": "ipython",
    "version": 3
   },
   "file_extension": ".py",
   "mimetype": "text/x-python",
   "name": "python",
   "nbconvert_exporter": "python",
   "pygments_lexer": "ipython3",
   "version": "3.9.7"
  }
 },
 "nbformat": 4,
 "nbformat_minor": 5
}
