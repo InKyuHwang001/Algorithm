{
  "nbformat": 4,
  "nbformat_minor": 0,
  "metadata": {
    "colab": {
      "provenance": [],
      "authorship_tag": "ABX9TyONzLdCTpODgjnH01+lbx4x",
      "include_colab_link": true
    },
    "kernelspec": {
      "name": "python3",
      "display_name": "Python 3"
    },
    "language_info": {
      "name": "python"
    }
  },
  "cells": [
    {
      "cell_type": "markdown",
      "metadata": {
        "id": "view-in-github",
        "colab_type": "text"
      },
      "source": [
        "<a href=\"https://colab.research.google.com/github/InKyuHwang001/Algorithm/blob/master/10_15.ipynb\" target=\"_parent\"><img src=\"https://colab.research.google.com/assets/colab-badge.svg\" alt=\"Open In Colab\"/></a>"
      ]
    },
    {
      "cell_type": "markdown",
      "source": [
        "# 주식가격\n",
        "- https://school.programmers.co.kr/learn/courses/30/lessons/42584"
      ],
      "metadata": {
        "id": "X5DFg4U9KbgE"
      }
    },
    {
      "cell_type": "code",
      "source": [
        "#1차 풀이 \n",
        "##2중 루프라 뭔가 찝찝함\n",
        "def solution(prices):\n",
        "    answer = [0] * len(prices)\n",
        "    for i in range(len(prices)):\n",
        "        for j in range(i+1, len(prices)):\n",
        "            answer[i] += 1\n",
        "            if prices[i] > prices[j]:\n",
        "                break\n",
        "    return answer"
      ],
      "metadata": {
        "id": "AHdSU-hPLYRG"
      },
      "execution_count": null,
      "outputs": []
    },
    {
      "cell_type": "markdown",
      "source": [
        "- 큐로 품\n",
        "- 큐 선택이유 : 가격보가 낮으면 한번에 쏘다지는 느낌이여서 "
      ],
      "metadata": {
        "id": "wIoCnVKFKhoC"
      }
    },
    {
      "cell_type": "code",
      "source": [
        "from collections import deque\n",
        "\n",
        "def solution(prices):\n",
        "    prices=deque(prices)\n",
        "    answer = []\n",
        "    \n",
        "    while prices:\n",
        "        p0=prices.popleft()\n",
        "        cnt=0\n",
        "        for price in prices:\n",
        "            cnt += 1\n",
        "            if price< p0:\n",
        "                break\n",
        "        answer.append(cnt)\n",
        "        \n",
        "    return answer"
      ],
      "metadata": {
        "id": "py2DKwE1KSbI"
      },
      "execution_count": null,
      "outputs": []
    }
  ]
}