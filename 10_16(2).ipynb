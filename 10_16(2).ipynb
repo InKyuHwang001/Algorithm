{
  "nbformat": 4,
  "nbformat_minor": 0,
  "metadata": {
    "colab": {
      "provenance": [],
      "authorship_tag": "ABX9TyMMXe2YzZRd42lpIqtzqDEw",
      "include_colab_link": true
    },
    "kernelspec": {
      "name": "python3",
      "display_name": "Python 3"
    },
    "language_info": {
      "name": "python"
    }
  },
  "cells": [
    {
      "cell_type": "markdown",
      "metadata": {
        "id": "view-in-github",
        "colab_type": "text"
      },
      "source": [
        "<a href=\"https://colab.research.google.com/github/InKyuHwang001/Algorithm/blob/master/10_16(2).ipynb\" target=\"_parent\"><img src=\"https://colab.research.google.com/assets/colab-badge.svg\" alt=\"Open In Colab\"/></a>"
      ]
    },
    {
      "cell_type": "markdown",
      "source": [
        "# 더 맵게\n",
        "- https://school.programmers.co.kr/learn/courses/30/lessons/42626"
      ],
      "metadata": {
        "id": "_yIirmlSBMIV"
      }
    },
    {
      "cell_type": "markdown",
      "source": [
        "heapq는 일반적인 리스트와 다르게, 가지고 있는 요소를 push, pop 할때마다 **자동으로 정렬**해주는 녀석이다.**정렬 비용을 감소**시킴으로써 효율성 이슈를 해결했다."
      ],
      "metadata": {
        "id": "8Duuf71eBZRT"
      }
    },
    {
      "cell_type": "code",
      "execution_count": null,
      "metadata": {
        "id": "_NV7PpI5BIQW"
      },
      "outputs": [],
      "source": [
        "from heapq import heapify, heappop, heappush\n",
        "def solution(scoville, K):\n",
        "    answer = 0\n",
        "    heapify(scoville)\n",
        "    \n",
        "    while scoville[0] < K:\n",
        "        mix =  heappop(scoville)+ (heappop(scoville)*2)\n",
        "        heappush(scoville, mix)\n",
        "        answer += 1\n",
        "        if len(scoville) == 1 and scoville[0] < K:\n",
        "            return -1\n",
        "    return answer"
      ]
    }
  ]
}