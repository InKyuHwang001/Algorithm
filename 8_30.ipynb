{
  "nbformat": 4,
  "nbformat_minor": 0,
  "metadata": {
    "colab": {
      "name": "8/30.ipynb",
      "provenance": [],
      "collapsed_sections": [],
      "authorship_tag": "ABX9TyMdowFA3AQUJw6qIydysg/L",
      "include_colab_link": true
    },
    "kernelspec": {
      "name": "python3",
      "display_name": "Python 3"
    },
    "language_info": {
      "name": "python"
    }
  },
  "cells": [
    {
      "cell_type": "markdown",
      "metadata": {
        "id": "view-in-github",
        "colab_type": "text"
      },
      "source": [
        "<a href=\"https://colab.research.google.com/github/InKyuHwang001/Algorithm/blob/master/8_30.ipynb\" target=\"_parent\"><img src=\"https://colab.research.google.com/assets/colab-badge.svg\" alt=\"Open In Colab\"/></a>"
      ]
    },
    {
      "cell_type": "markdown",
      "source": [
        "# 키패드 누르기\n",
        "- https://school.programmers.co.kr/learn/courses/30/lessons/67256"
      ],
      "metadata": {
        "id": "Sr2CLCAp14Uc"
      }
    },
    {
      "cell_type": "code",
      "source": [
        "def solution(numbers, hand):\n",
        "    answer = ''\n",
        "    key_list = [['1', '2', '3'], \n",
        "                ['4', '5', '6'], \n",
        "                ['7', '8', '9'], \n",
        "                ['*', '0', '#']]\n",
        "    left = '*'\n",
        "    right = '#'\n",
        "    for num in numbers:\n",
        "        if num in [1, 4, 7]:\n",
        "            answer +='L'\n",
        "            left = str(num)\n",
        "        elif num in [3, 6, 9]:\n",
        "            answer += 'R'\n",
        "            right = str(num)\n",
        "        else:\n",
        "            for i in range(len(key_list)):\n",
        "                for j in range(len(key_list[i])):\n",
        "                    if left == key_list[i][j]:\n",
        "                        l_loc = [i, j]\n",
        "                    if right == key_list[i][j]:\n",
        "                        r_loc = [i, j]\n",
        "                    if str(num) == key_list[i][j]:\n",
        "                        n_loc = [i, j]\n",
        "            l_len = abs(n_loc[0]-l_loc[0]) + abs(n_loc[1]-l_loc[1])\n",
        "            r_len = abs(n_loc[0]-r_loc[0]) + abs(n_loc[1]-r_loc[1])\n",
        "            if l_len < r_len:\n",
        "                answer += 'L'\n",
        "                left = str(num)\n",
        "            elif r_len < l_len:\n",
        "                answer += 'R'\n",
        "                right = str(num)\n",
        "            else:\n",
        "                if hand == 'left':\n",
        "                    answer+= 'L'\n",
        "                    left = str(num)\n",
        "                else:\n",
        "                    answer+= 'R'\n",
        "                    right = str(num)\n",
        "    return answer"
      ],
      "metadata": {
        "id": "VsGLz1as14Kj"
      },
      "execution_count": null,
      "outputs": []
    },
    {
      "cell_type": "code",
      "source": [
        "def solution(numbers, hand):\n",
        "    answer = ''\n",
        "    key_dict = {1:(0,0),2:(0,1),3:(0,2),\n",
        "                4:(1,0),5:(1,1),6:(1,2),\n",
        "                7:(2,0),8:(2,1),9:(2,2),\n",
        "                '*':(3,0),0:(3,1),'#':(3,2)}\n",
        "\n",
        "    left = [1,4,7]\n",
        "    right = [3,6,9]\n",
        "    lhand = '*'\n",
        "    rhand = '#'\n",
        "    for i in numbers:\n",
        "        if i in left:\n",
        "            answer += 'L'\n",
        "            lhand = i\n",
        "        elif i in right:\n",
        "            answer += 'R'\n",
        "            rhand = i\n",
        "        else:\n",
        "            curPos = key_dict[i]\n",
        "            lPos = key_dict[lhand]\n",
        "            rPos = key_dict[rhand]\n",
        "            ldist = abs(curPos[0]-lPos[0]) + abs(curPos[1]-lPos[1])\n",
        "            rdist = abs(curPos[0]-rPos[0]) + abs(curPos[1]-rPos[1])\n",
        "\n",
        "            if ldist < rdist:\n",
        "                answer += 'L'\n",
        "                lhand = i\n",
        "            elif ldist > rdist:\n",
        "                answer += 'R'\n",
        "                rhand = i\n",
        "            else:\n",
        "                if hand == 'left':\n",
        "                    answer += 'L'\n",
        "                    lhand = i\n",
        "                else:\n",
        "                    answer += 'R'\n",
        "                    rhand = i\n",
        "\n",
        "    return answer"
      ],
      "metadata": {
        "id": "Rehb_Mkv14B9"
      },
      "execution_count": null,
      "outputs": []
    },
    {
      "cell_type": "markdown",
      "source": [
        "# 크레인 인형뽑기 게임\n",
        "- https://school.programmers.co.kr/learn/courses/30/lessons/64061"
      ],
      "metadata": {
        "id": "4nnGXJd_132z"
      }
    },
    {
      "cell_type": "code",
      "source": [
        "def solution(board, moves):\n",
        "    answer = 0\n",
        "    bucket = []\n",
        "    \n",
        "    for move in moves:\n",
        "        for line in board:\n",
        "            if line[move-1] != 0:\n",
        "                bucket.append(line[move-1])\n",
        "                line[move-1] = 0\n",
        "                break\n",
        "        if len(bucket) >= 2 and bucket[-1] == bucket[-2]:\n",
        "            answer += 2\n",
        "            bucket = bucket[:-2]\n",
        "            \n",
        "    return answer"
      ],
      "metadata": {
        "id": "OH8J8shA13tC"
      },
      "execution_count": null,
      "outputs": []
    },
    {
      "cell_type": "markdown",
      "source": [
        "# 없는 숫자 더하기\n",
        "- https://school.programmers.co.kr/learn/courses/30/lessons/86051"
      ],
      "metadata": {
        "id": "JWA-OZ0U13Vp"
      }
    },
    {
      "cell_type": "code",
      "source": [
        "def solution(numbers):\n",
        "    answer = 0\n",
        "    for i in range(10):\n",
        "        if i not in numbers:\n",
        "            answer+=i\n",
        "    return answer"
      ],
      "metadata": {
        "id": "YzTXoczA13Kb"
      },
      "execution_count": null,
      "outputs": []
    },
    {
      "cell_type": "code",
      "source": [
        "def solution(numbers):\n",
        "    return 45 - sum(numbers)"
      ],
      "metadata": {
        "id": "V_-_ayFr13BS"
      },
      "execution_count": null,
      "outputs": []
    },
    {
      "cell_type": "markdown",
      "source": [
        "# 음양 더하기\n",
        "- https://school.programmers.co.kr/learn/courses/30/lessons/76501"
      ],
      "metadata": {
        "id": "_L6dsjUB12vp"
      }
    },
    {
      "cell_type": "code",
      "source": [
        "def solution(absolutes, signs):\n",
        "    answer = 0\n",
        "    for x, y in zip(absolutes, signs):\n",
        "        if y:\n",
        "            answer+=x\n",
        "        else:\n",
        "            answer-=x\n",
        "            \n",
        "    return answer"
      ],
      "metadata": {
        "id": "jp-gIvef12jw"
      },
      "execution_count": null,
      "outputs": []
    }
  ]
}