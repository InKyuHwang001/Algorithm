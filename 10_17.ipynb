{
  "nbformat": 4,
  "nbformat_minor": 0,
  "metadata": {
    "colab": {
      "provenance": [],
      "authorship_tag": "ABX9TyMo0ONjkBimiZwaKvrywNAr",
      "include_colab_link": true
    },
    "kernelspec": {
      "name": "python3",
      "display_name": "Python 3"
    },
    "language_info": {
      "name": "python"
    }
  },
  "cells": [
    {
      "cell_type": "markdown",
      "metadata": {
        "id": "view-in-github",
        "colab_type": "text"
      },
      "source": [
        "<a href=\"https://colab.research.google.com/github/InKyuHwang001/Algorithm/blob/master/10_17.ipynb\" target=\"_parent\"><img src=\"https://colab.research.google.com/assets/colab-badge.svg\" alt=\"Open In Colab\"/></a>"
      ]
    },
    {
      "cell_type": "markdown",
      "source": [
        "# 오픈채팅방\n",
        "- https://school.programmers.co.kr/learn/courses/30/lessons/42888"
      ],
      "metadata": {
        "id": "za-Y7SMow10u"
      }
    },
    {
      "cell_type": "markdown",
      "source": [
        "1. id가 어떻게 변하는 지를 구한다.\n",
        "2. 진퇴면 변한이름을 넣어 출력"
      ],
      "metadata": {
        "id": "shzUjCj1w1PY"
      }
    },
    {
      "cell_type": "code",
      "execution_count": null,
      "metadata": {
        "id": "_kubJgC5u-WJ"
      },
      "outputs": [],
      "source": [
        "def solution(record):\n",
        "    answer = []\n",
        "    dic = {}\n",
        "    \n",
        "    for sentence in record:\n",
        "        sentence_split = sentence.split()\n",
        "        if len(sentence_split) == 3:\n",
        "            dic[sentence_split[1]]=sentence_split[2]\n",
        "    \n",
        "    for sentence in record:\n",
        "        sentence_split = sentence.split()\n",
        "        if sentence_split[0] == 'Enter':\n",
        "            answer.append(dic[sentence_split[1]]+'님이 들어왔습니다.')\n",
        "        elif sentence_split[0] == 'Leave':\n",
        "            answer.append(dic[sentence_split[1]]+'님이 나갔습니다.')\n",
        "            \n",
        "    return answer"
      ]
    }
  ]
}