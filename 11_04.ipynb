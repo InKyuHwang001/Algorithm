{
  "nbformat": 4,
  "nbformat_minor": 0,
  "metadata": {
    "colab": {
      "provenance": [],
      "authorship_tag": "ABX9TyOXgmI1xmffnB+5BZRrLRzA",
      "include_colab_link": true
    },
    "kernelspec": {
      "name": "python3",
      "display_name": "Python 3"
    },
    "language_info": {
      "name": "python"
    }
  },
  "cells": [
    {
      "cell_type": "markdown",
      "metadata": {
        "id": "view-in-github",
        "colab_type": "text"
      },
      "source": [
        "<a href=\"https://colab.research.google.com/github/InKyuHwang001/Algorithm/blob/master/11_04.ipynb\" target=\"_parent\"><img src=\"https://colab.research.google.com/assets/colab-badge.svg\" alt=\"Open In Colab\"/></a>"
      ]
    },
    {
      "cell_type": "markdown",
      "source": [
        "# 큰 수 만들기"
      ],
      "metadata": {
        "id": "cho4oqKzp612"
      }
    },
    {
      "cell_type": "code",
      "execution_count": null,
      "metadata": {
        "id": "mdvbBwiYp4pR"
      },
      "outputs": [],
      "source": [
        "def solution(number, k):\n",
        "    number =list(number)\n",
        "    result=[number.pop(0)]\n",
        "    for n in number:\n",
        "        if result[-1] < n:\n",
        "            while result and result[-1] < n and k>0:\n",
        "                result.pop()\n",
        "                k -= 1\n",
        "            result.append(n)\n",
        "        elif k == 0 or result[-1] >= n:\n",
        "            result.append(n)\n",
        "            \n",
        "    if k :\n",
        "        result=result[:-k]\n",
        "    answer = ''.join(result)\n",
        "\n",
        "    return answer"
      ]
    }
  ]
}