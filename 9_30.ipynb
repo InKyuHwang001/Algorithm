{
  "nbformat": 4,
  "nbformat_minor": 0,
  "metadata": {
    "colab": {
      "provenance": [],
      "authorship_tag": "ABX9TyOg6b4j4BsysM1M6rOMOWWv",
      "include_colab_link": true
    },
    "kernelspec": {
      "name": "python3",
      "display_name": "Python 3"
    },
    "language_info": {
      "name": "python"
    }
  },
  "cells": [
    {
      "cell_type": "markdown",
      "metadata": {
        "id": "view-in-github",
        "colab_type": "text"
      },
      "source": [
        "<a href=\"https://colab.research.google.com/github/InKyuHwang001/Algorithm/blob/master/9_30.ipynb\" target=\"_parent\"><img src=\"https://colab.research.google.com/assets/colab-badge.svg\" alt=\"Open In Colab\"/></a>"
      ]
    },
    {
      "cell_type": "markdown",
      "source": [
        "# n^2 배열 자르기\n",
        "- https://school.programmers.co.kr/learn/courses/30/lessons/87390"
      ],
      "metadata": {
        "id": "tGBOce3xYt44"
      }
    },
    {
      "cell_type": "markdown",
      "source": [
        "## 1차(실패 시간초과)"
      ],
      "metadata": {
        "id": "s9yCxcZzaZE1"
      }
    },
    {
      "cell_type": "code",
      "execution_count": null,
      "metadata": {
        "id": "M92beKT5Yr78"
      },
      "outputs": [],
      "source": [
        "def solution(n, left, right):\n",
        "    #행렬을 만든다.\n",
        "    sq=[[0 for _ in range(n)] for _ in range(n)]\n",
        "    #행렬에 값을 입력한다.\n",
        "    for y in range(n):\n",
        "        for x in range(n):\n",
        "            sq[y][x] = (max(y,x)+1)\n",
        "    #값을 리스트에 넣는다.\n",
        "    list_=[]\n",
        "    for y in range(n):\n",
        "        for x in range(n):\n",
        "            list_.append(sq[y][x])\n",
        "    #답을 구한다.\n",
        "    return list_[left: right+1]"
      ]
    },
    {
      "cell_type": "markdown",
      "source": [
        "## 2차"
      ],
      "metadata": {
        "id": "1sIGzFH-eU5y"
      }
    },
    {
      "cell_type": "code",
      "source": [
        "#left에서 right 까지만 구할수? => 수식화해서 해보자\n",
        "def solution(n, left, right):\n",
        "    answer = []\n",
        "    for i in range(left,right+1):\n",
        "        answer.append(max(i//n,i%n)+1)\n",
        "    return answer"
      ],
      "metadata": {
        "id": "OyRnkRgvecYV"
      },
      "execution_count": null,
      "outputs": []
    }
  ]
}