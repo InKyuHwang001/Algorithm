{
  "nbformat": 4,
  "nbformat_minor": 0,
  "metadata": {
    "colab": {
      "provenance": [],
      "collapsed_sections": [],
      "authorship_tag": "ABX9TyN5iltjiUu6rdtr0FMfI587",
      "include_colab_link": true
    },
    "kernelspec": {
      "name": "python3",
      "display_name": "Python 3"
    },
    "language_info": {
      "name": "python"
    }
  },
  "cells": [
    {
      "cell_type": "markdown",
      "metadata": {
        "id": "view-in-github",
        "colab_type": "text"
      },
      "source": [
        "<a href=\"https://colab.research.google.com/github/InKyuHwang001/Algorithm/blob/master/11_15.ipynb\" target=\"_parent\"><img src=\"https://colab.research.google.com/assets/colab-badge.svg\" alt=\"Open In Colab\"/></a>"
      ]
    },
    {
      "cell_type": "markdown",
      "source": [
        "# 행렬 테두리 회전하기\n",
        "- https://school.programmers.co.kr/learn/courses/30/lessons/77485"
      ],
      "metadata": {
        "id": "raDblD1f21vI"
      }
    },
    {
      "cell_type": "code",
      "execution_count": null,
      "metadata": {
        "id": "KxpV1buh2yAg"
      },
      "outputs": [],
      "source": [
        "def solution(rows, columns, queries):\n",
        "    answer = []\n",
        "    \n",
        "    #나의 array\n",
        "    array = [[0 for _ in range(columns)] for _ in range(rows)]\n",
        "    t = 1\n",
        "    for row in range(rows):\n",
        "        for col in range(columns):\n",
        "            array[row][col] = t\n",
        "            t += 1\n",
        "    #모범 array\n",
        "    # board = [[i+(j)*columns for i in range(1,columns+1)] for j in range(rows)]\n",
        "\n",
        "    for x1,y1,x2,y2 in queries:\n",
        "        #x1,y1,x2,y2=x1-1,y1-1,x2-1,y2-1로 하면 보다 쉬워짐\n",
        "        tmp = array[x1-1][y1-1]\n",
        "        mini = tmp\n",
        "        for k in range(x1-1,x2-1):\n",
        "            test = array[k+1][y1-1]\n",
        "            array[k][y1-1] = test\n",
        "            mini = min(mini, test)\n",
        "        for k in range(y1-1,y2-1):\n",
        "            test = array[x2-1][k+1]\n",
        "            array[x2-1][k] = test\n",
        "            mini = min(mini, test)\n",
        "        for k in range(x2-1,x1-1,-1):\n",
        "            test = array[k-1][y2-1]\n",
        "            array[k][y2-1] = test\n",
        "            mini = min(mini, test)\n",
        "        for k in range(y2-1,y1-1,-1):\n",
        "            test = array[x1-1][k-1]\n",
        "            array[x1-1][k] = test\n",
        "            mini = min(mini, test)\n",
        "\n",
        "        array[x1-1][y1] = tmp\n",
        "        answer.append(mini)\n",
        "      \n",
        "    return answer"
      ]
    }
  ]
}