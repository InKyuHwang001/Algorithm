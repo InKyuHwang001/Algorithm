{
  "nbformat": 4,
  "nbformat_minor": 0,
  "metadata": {
    "colab": {
      "provenance": [],
      "authorship_tag": "ABX9TyOE7H1nJAkqPD52neMwHVlF",
      "include_colab_link": true
    },
    "kernelspec": {
      "name": "python3",
      "display_name": "Python 3"
    },
    "language_info": {
      "name": "python"
    }
  },
  "cells": [
    {
      "cell_type": "markdown",
      "metadata": {
        "id": "view-in-github",
        "colab_type": "text"
      },
      "source": [
        "<a href=\"https://colab.research.google.com/github/InKyuHwang001/Algorithm/blob/master/GROUP_BY.ipynb\" target=\"_parent\"><img src=\"https://colab.research.google.com/assets/colab-badge.svg\" alt=\"Open In Colab\"/></a>"
      ]
    },
    {
      "cell_type": "markdown",
      "source": [
        "# 고양이와 개는 몇 마리 있을까"
      ],
      "metadata": {
        "id": "5n8U03JyDXqY"
      }
    },
    {
      "cell_type": "code",
      "execution_count": null,
      "metadata": {
        "id": "W7l8Ff0UDWqK"
      },
      "outputs": [],
      "source": [
        "SELECT ANIMAL_TYPE, COUNT(ANIMAL_TYPE) \n",
        "FROM ANIMAL_INS \n",
        "GROUP BY ANIMAL_TYPE \n",
        "ORDER BY ANIMAL_TYPE"
      ]
    },
    {
      "cell_type": "markdown",
      "source": [
        "# 동명 동물 수 찾기\n"
      ],
      "metadata": {
        "id": "vddvHsGCDeTI"
      }
    },
    {
      "cell_type": "code",
      "source": [
        "SELECT NAME, COUNT(NAME) AS 'COUNT' \n",
        "FROM ANIMAL_INS \n",
        "GROUP BY NAME \n",
        "HAVING COUNT(NAME) > 1 \n",
        "ORDER BY NAME"
      ],
      "metadata": {
        "id": "8w_IagGcDeKm"
      },
      "execution_count": null,
      "outputs": []
    },
    {
      "cell_type": "markdown",
      "source": [
        "# 입양 시각 구하기(1)\n"
      ],
      "metadata": {
        "id": "SvffzxxYDeAu"
      }
    },
    {
      "cell_type": "code",
      "source": [
        "SELECT HOUR(DATETIME) AS 'HOUR', COUNT(HOUR(DATETIME)) AS 'COUNT' \n",
        "FROM ANIMAL_OUTS \n",
        "WHERE HOUR(DATETIME) >= 9 AND HOUR(DATETIME) <= 19 \n",
        "GROUP BY HOUR(DATETIME) \n",
        "ORDER BY HOUR(DATETIME)"
      ],
      "metadata": {
        "id": "GdFkG_PrDd2X"
      },
      "execution_count": null,
      "outputs": []
    },
    {
      "cell_type": "markdown",
      "source": [
        "# 입양 시각 구하기(2)"
      ],
      "metadata": {
        "id": "aUGiUixLDc4s"
      }
    },
    {
      "cell_type": "code",
      "source": [
        "SET @HOUR = -1;\n",
        "SELECT (@HOUR := @HOUR +1) AS HOUR,\n",
        "    (SELECT COUNT(HOUR(DATETIME)) \n",
        "    FROM ANIMAL_OUTS \n",
        "    WHERE HOUR(DATETIME)=@HOUR) AS COUNT \n",
        "    FROM ANIMAL_OUTS\n",
        "WHERE @HOUR < 23;"
      ],
      "metadata": {
        "id": "GZ55vO3MDdZO"
      },
      "execution_count": null,
      "outputs": []
    }
  ]
}