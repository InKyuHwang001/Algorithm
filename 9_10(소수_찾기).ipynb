{
  "nbformat": 4,
  "nbformat_minor": 0,
  "metadata": {
    "colab": {
      "provenance": [],
      "collapsed_sections": [],
      "authorship_tag": "ABX9TyOOoWsJRTbs7EB/ic3hWmtW",
      "include_colab_link": true
    },
    "kernelspec": {
      "name": "python3",
      "display_name": "Python 3"
    },
    "language_info": {
      "name": "python"
    }
  },
  "cells": [
    {
      "cell_type": "markdown",
      "metadata": {
        "id": "view-in-github",
        "colab_type": "text"
      },
      "source": [
        "<a href=\"https://colab.research.google.com/github/InKyuHwang001/Algorithm/blob/master/9_10(%EC%86%8C%EC%88%98_%EC%B0%BE%EA%B8%B0).ipynb\" target=\"_parent\"><img src=\"https://colab.research.google.com/assets/colab-badge.svg\" alt=\"Open In Colab\"/></a>"
      ]
    },
    {
      "cell_type": "markdown",
      "source": [
        "# 소수 찾기\n",
        "- https://school.programmers.co.kr/learn/courses/30/lessons/12921"
      ],
      "metadata": {
        "id": "XFJ2q5CR-S2M"
      }
    },
    {
      "cell_type": "code",
      "execution_count": null,
      "metadata": {
        "id": "H4P3agxz4_eF"
      },
      "outputs": [],
      "source": [
        "# 실패\n",
        "def solution(n):\n",
        "    sum = 0\n",
        "    s = 0\n",
        "    for i in range(2,n+1):\n",
        "        for j in range(2,i):\n",
        "            if i % j == 0:\n",
        "                s += 1\n",
        "        if s == 0:\n",
        "               sum += 1\n",
        "        s = 0\n",
        "    return sum"
      ]
    },
    {
      "cell_type": "code",
      "source": [
        "def solution(n):\n",
        "    num = set(range(2,n+1))\n",
        "    \n",
        "    for i in range(2,n+1):\n",
        "        if i in num:\n",
        "            num-=set(range(2*i,n+1,i))\n",
        "    return len(num)"
      ],
      "metadata": {
        "id": "ot2ylh0l8k_g"
      },
      "execution_count": null,
      "outputs": []
    },
    {
      "cell_type": "markdown",
      "source": [
        "## 에라토스테네스의 체 (소수 찾기)"
      ],
      "metadata": {
        "id": "SgPb8Ydx-H6J"
      }
    },
    {
      "cell_type": "code",
      "source": [
        "n=1000\n",
        "a = [True] * (n + 1)\n",
        "m = int(n**0.5)\n",
        "\n",
        "for i in range(2, m + 1):\n",
        "    if a[i] == True:\n",
        "        for j in range(i + i, n + 1, i):\n",
        "            a[j] = False\n",
        "\n",
        "print([i for i in range(2, n + 1) if a[i] == True])"
      ],
      "metadata": {
        "colab": {
          "base_uri": "https://localhost:8080/"
        },
        "id": "5dmqFec9-cwt",
        "outputId": "97290433-7c61-479b-b813-9c9c04154c72"
      },
      "execution_count": 3,
      "outputs": [
        {
          "output_type": "stream",
          "name": "stdout",
          "text": [
            "[2, 3, 5, 7, 11, 13, 17, 19, 23, 29, 31, 37, 41, 43, 47, 53, 59, 61, 67, 71, 73, 79, 83, 89, 97, 101, 103, 107, 109, 113, 127, 131, 137, 139, 149, 151, 157, 163, 167, 173, 179, 181, 191, 193, 197, 199, 211, 223, 227, 229, 233, 239, 241, 251, 257, 263, 269, 271, 277, 281, 283, 293, 307, 311, 313, 317, 331, 337, 347, 349, 353, 359, 367, 373, 379, 383, 389, 397, 401, 409, 419, 421, 431, 433, 439, 443, 449, 457, 461, 463, 467, 479, 487, 491, 499, 503, 509, 521, 523, 541, 547, 557, 563, 569, 571, 577, 587, 593, 599, 601, 607, 613, 617, 619, 631, 641, 643, 647, 653, 659, 661, 673, 677, 683, 691, 701, 709, 719, 727, 733, 739, 743, 751, 757, 761, 769, 773, 787, 797, 809, 811, 821, 823, 827, 829, 839, 853, 857, 859, 863, 877, 881, 883, 887, 907, 911, 919, 929, 937, 941, 947, 953, 967, 971, 977, 983, 991, 997]\n"
          ]
        }
      ]
    }
  ]
}