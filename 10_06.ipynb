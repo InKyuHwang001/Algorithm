{
  "nbformat": 4,
  "nbformat_minor": 0,
  "metadata": {
    "colab": {
      "provenance": [],
      "authorship_tag": "ABX9TyOp6VLJuzzCnUcm5+neGFZf",
      "include_colab_link": true
    },
    "kernelspec": {
      "name": "python3",
      "display_name": "Python 3"
    },
    "language_info": {
      "name": "python"
    }
  },
  "cells": [
    {
      "cell_type": "markdown",
      "metadata": {
        "id": "view-in-github",
        "colab_type": "text"
      },
      "source": [
        "<a href=\"https://colab.research.google.com/github/InKyuHwang001/Algorithm/blob/master/10_06.ipynb\" target=\"_parent\"><img src=\"https://colab.research.google.com/assets/colab-badge.svg\" alt=\"Open In Colab\"/></a>"
      ]
    },
    {
      "cell_type": "markdown",
      "source": [
        "# 전화번호 목록\n",
        "- https://school.programmers.co.kr/learn/courses/30/lessons/42577"
      ],
      "metadata": {
        "id": "8xoXp7a5XT1T"
      }
    },
    {
      "cell_type": "markdown",
      "source": [
        "하나라도 접두어인가?\n",
        "1.loop\n",
        "1.sort loop\n",
        "1.hash"
      ],
      "metadata": {
        "id": "dLpKrnrSYBvc"
      }
    },
    {
      "cell_type": "markdown",
      "source": [
        "## 틀린거"
      ],
      "metadata": {
        "id": "881w7tVLXU-U"
      }
    },
    {
      "cell_type": "code",
      "execution_count": null,
      "metadata": {
        "id": "5CQ6pKIxabHx"
      },
      "outputs": [],
      "source": [
        "def solution(phone_book):\n",
        "    for i in range(len(phone_book)):\n",
        "        for j in range(i+1, len(phone_book)):\n",
        "            if phone_book[j].startswith(phone_book[i]):\n",
        "                return False\n",
        "            elif phone_book[i].startswith(phone_book[j]):\n",
        "                return False\n",
        "    return True"
      ]
    },
    {
      "cell_type": "markdown",
      "source": [
        "## sort, loop"
      ],
      "metadata": {
        "id": "yg8K0-EBYmOD"
      }
    },
    {
      "cell_type": "code",
      "source": [
        "def solution(phone_book):\n",
        "    phone_book.sort()\n",
        "    for i in range(len(phone_book) - 1):\n",
        "        if phone_book[i+1].startswith(phone_book[i]):\n",
        "            return False\n",
        "    return True\n",
        "#1.전화번호부 소팅\n",
        "#2.루프로 확인한다."
      ],
      "metadata": {
        "id": "m3D6cs-tYran"
      },
      "execution_count": null,
      "outputs": []
    },
    {
      "cell_type": "code",
      "source": [
        "def solution(phone_book):\n",
        "    phone_book.sort()\n",
        "    for p1,p2 in zip(phone_book, phone_book[1:]):\n",
        "        if p2.startswith(p1):\n",
        "            return False\n",
        "    return True"
      ],
      "metadata": {
        "id": "3pb-9sl3ZL5v"
      },
      "execution_count": null,
      "outputs": []
    },
    {
      "cell_type": "markdown",
      "source": [
        "## 해쉬로 푼거"
      ],
      "metadata": {
        "id": "bTPZh8ZxXXMV"
      }
    },
    {
      "cell_type": "code",
      "source": [
        "def solution(phone_book):\n",
        "    # 1. Hash map을 만든다\n",
        "    hash_map = {}\n",
        "    for phone_number in phone_book:\n",
        "        hash_map[phone_number] = 1\n",
        "    \n",
        "    # 2. 접두어가 Hash map에 존재하는지 찾는다\n",
        "    for phone_number in phone_book:\n",
        "        jubdoo = \"\"\n",
        "        for number in phone_number:\n",
        "            jubdoo += number\n",
        "            # 3. 접두어를 찾아야 한다 (기존 번호와 같은 경우 제외)\n",
        "            if jubdoo in hash_map and jubdoo != phone_number:\n",
        "                return False\n",
        "    return True"
      ],
      "metadata": {
        "id": "rzTeeD8BX5qD"
      },
      "execution_count": null,
      "outputs": []
    },
    {
      "cell_type": "markdown",
      "source": [
        "- https://coding-grandpa.tistory.com/86 참조"
      ],
      "metadata": {
        "id": "mF2ZHxVFcKBk"
      }
    }
  ]
}