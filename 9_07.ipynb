{
  "nbformat": 4,
  "nbformat_minor": 0,
  "metadata": {
    "colab": {
      "provenance": [],
      "authorship_tag": "ABX9TyN0DwQ/s6Mjw4zF9Zp3CqWv",
      "include_colab_link": true
    },
    "kernelspec": {
      "name": "python3",
      "display_name": "Python 3"
    },
    "language_info": {
      "name": "python"
    }
  },
  "cells": [
    {
      "cell_type": "markdown",
      "metadata": {
        "id": "view-in-github",
        "colab_type": "text"
      },
      "source": [
        "<a href=\"https://colab.research.google.com/github/InKyuHwang001/Algorithm/blob/master/9_07.ipynb\" target=\"_parent\"><img src=\"https://colab.research.google.com/assets/colab-badge.svg\" alt=\"Open In Colab\"/></a>"
      ]
    },
    {
      "cell_type": "markdown",
      "source": [
        "# 문자열 다루기 기본\n",
        "- https://school.programmers.co.kr/learn/courses/30/lessons/12918"
      ],
      "metadata": {
        "id": "AAQ5BB2nwusF"
      }
    },
    {
      "cell_type": "code",
      "source": [
        "def solution(s):\n",
        "    if (len(s) == 4 or len(s) == 6) and s.isdigit():\n",
        "        return True\n",
        "    else:\n",
        "        return False"
      ],
      "metadata": {
        "id": "c8goCaiRyAUc"
      },
      "execution_count": null,
      "outputs": []
    },
    {
      "cell_type": "code",
      "source": [
        "def alpha_string46(s):\n",
        "    try:\n",
        "        int(s)\n",
        "    except:\n",
        "        return False\n",
        "    return len(s) == 4 or len(s) == 6 "
      ],
      "metadata": {
        "id": "6Cr1ib14wuiX"
      },
      "execution_count": null,
      "outputs": []
    },
    {
      "cell_type": "markdown",
      "source": [
        "# 서울에서 김서방 찾기\n",
        "- https://school.programmers.co.kr/learn/courses/30/lessons/12919"
      ],
      "metadata": {
        "id": "lMN-LSBqwuXu"
      }
    },
    {
      "cell_type": "code",
      "execution_count": null,
      "metadata": {
        "id": "t_7Gj9BMvP4W"
      },
      "outputs": [],
      "source": [
        "def solution(seoul):\n",
        "    answer = ''\n",
        "    for i in range(len(seoul)):\n",
        "        if seoul[i]==\"Kim\":\n",
        "            answer=\"김서방은 \"+str(i)+\"에 있다\"\n",
        "            break\n",
        "    return answer"
      ]
    },
    {
      "cell_type": "code",
      "source": [
        "def solution(seoul):\n",
        "    return \"김서방은 {}에 있다\".format(seoul.index('Kim'))"
      ],
      "metadata": {
        "id": "dhOd1iTXzajO"
      },
      "execution_count": null,
      "outputs": []
    }
  ]
}