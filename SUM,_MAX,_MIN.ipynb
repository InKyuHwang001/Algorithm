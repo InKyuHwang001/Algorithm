{
  "nbformat": 4,
  "nbformat_minor": 0,
  "metadata": {
    "colab": {
      "provenance": [],
      "authorship_tag": "ABX9TyM3rLBwunWDNaaDQXM2SLjm",
      "include_colab_link": true
    },
    "kernelspec": {
      "name": "python3",
      "display_name": "Python 3"
    },
    "language_info": {
      "name": "python"
    }
  },
  "cells": [
    {
      "cell_type": "markdown",
      "metadata": {
        "id": "view-in-github",
        "colab_type": "text"
      },
      "source": [
        "<a href=\"https://colab.research.google.com/github/InKyuHwang001/Algorithm/blob/master/SUM%2C_MAX%2C_MIN.ipynb\" target=\"_parent\"><img src=\"https://colab.research.google.com/assets/colab-badge.svg\" alt=\"Open In Colab\"/></a>"
      ]
    },
    {
      "cell_type": "markdown",
      "source": [
        "# 최댓값 구하기 MAX({AAA})\n",
        "- https://school.programmers.co.kr/learn/courses/30/lessons/59415"
      ],
      "metadata": {
        "id": "lkJFq-HANuYT"
      }
    },
    {
      "cell_type": "code",
      "execution_count": null,
      "metadata": {
        "id": "i6g3cs0qNs9e"
      },
      "outputs": [],
      "source": [
        "SELECT MAX(DATETIME) \n",
        "FROM ANIMAL_INS"
      ]
    },
    {
      "cell_type": "markdown",
      "source": [
        "# 최솟값 구하기 MIN({AAA})\n",
        "- https://school.programmers.co.kr/learn/courses/30/lessons/59038"
      ],
      "metadata": {
        "id": "RJtqVCyBN_OV"
      }
    },
    {
      "cell_type": "code",
      "source": [
        "SELECT MIN(DATETIME) \n",
        "FROM ANIMAL_INS "
      ],
      "metadata": {
        "id": "fdnClouGN_kw"
      },
      "execution_count": null,
      "outputs": []
    },
    {
      "cell_type": "markdown",
      "source": [
        "# 동물 수 구하기 COUNT(*)\n",
        "- https://school.programmers.co.kr/learn/courses/30/lessons/59408"
      ],
      "metadata": {
        "id": "-MaFqG3XN_61"
      }
    },
    {
      "cell_type": "code",
      "source": [
        "SELECT COUNT(*)\n",
        "FROM ANIMAL_INS"
      ],
      "metadata": {
        "id": "uKH2LLEjOARS"
      },
      "execution_count": null,
      "outputs": []
    },
    {
      "cell_type": "markdown",
      "source": [
        "# 중복 제거하기(DISTINCT)\n",
        "- https://school.programmers.co.kr/learn/courses/30/lessons/59408"
      ],
      "metadata": {
        "id": "C6bscvrgQLLj"
      }
    },
    {
      "cell_type": "code",
      "source": [
        "SELECT COUNT(DISTINCT NAME)\n",
        "FROM ANIMAL_INS\n",
        "WHERE NAME IS NOT NULL"
      ],
      "metadata": {
        "id": "6hTaccVdQLjJ"
      },
      "execution_count": null,
      "outputs": []
    }
  ]
}