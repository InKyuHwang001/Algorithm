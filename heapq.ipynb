{
  "nbformat": 4,
  "nbformat_minor": 0,
  "metadata": {
    "colab": {
      "provenance": [],
      "authorship_tag": "ABX9TyNVopf9e7ZPG9HcF2yqGBk+",
      "include_colab_link": true
    },
    "kernelspec": {
      "name": "python3",
      "display_name": "Python 3"
    },
    "language_info": {
      "name": "python"
    }
  },
  "cells": [
    {
      "cell_type": "markdown",
      "metadata": {
        "id": "view-in-github",
        "colab_type": "text"
      },
      "source": [
        "<a href=\"https://colab.research.google.com/github/InKyuHwang001/Algorithm/blob/master/heapq.ipynb\" target=\"_parent\"><img src=\"https://colab.research.google.com/assets/colab-badge.svg\" alt=\"Open In Colab\"/></a>"
      ]
    },
    {
      "cell_type": "markdown",
      "source": [
        "## 사용이유\n",
        "수행시간 때문"
      ],
      "metadata": {
        "id": "W2TG9xsn04ua"
      }
    },
    {
      "cell_type": "code",
      "execution_count": 5,
      "metadata": {
        "colab": {
          "base_uri": "https://localhost:8080/"
        },
        "id": "wWnjadTtwfOT",
        "outputId": "0c6babdc-9be2-459f-eff4-98276e92554b"
      },
      "outputs": [
        {
          "output_type": "execute_result",
          "data": {
            "text/plain": [
              "[1, 2, 5, 4]"
            ]
          },
          "metadata": {},
          "execution_count": 5
        }
      ],
      "source": [
        "from heapq import heappush, heappop,heapify\n",
        "heap=[]\n",
        "heappush(heap, 4)\n",
        "heappush(heap, 1)\n",
        "heappush(heap, 5)\n",
        "heappush(heap, 2)\n",
        "heap"
      ]
    },
    {
      "cell_type": "code",
      "source": [
        "## 가장 작은 원소 삭제\n",
        "heappop(heap)\n",
        "print(heap)\n",
        "heappop(heap)\n",
        "print(heap)"
      ],
      "metadata": {
        "colab": {
          "base_uri": "https://localhost:8080/"
        },
        "id": "aPixYNC71fEh",
        "outputId": "0c36f343-e525-4f3c-fe72-a20577edd202"
      },
      "execution_count": 6,
      "outputs": [
        {
          "output_type": "stream",
          "name": "stdout",
          "text": [
            "[2, 4, 5]\n",
            "[4, 5]\n"
          ]
        }
      ]
    },
    {
      "cell_type": "code",
      "source": [
        "#리스트를 힙화\n",
        "heapify(heap)"
      ],
      "metadata": {
        "id": "bSWKtzpb1uOV"
      },
      "execution_count": 7,
      "outputs": []
    }
  ]
}