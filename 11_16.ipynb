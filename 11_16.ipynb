{
  "nbformat": 4,
  "nbformat_minor": 0,
  "metadata": {
    "colab": {
      "provenance": [],
      "authorship_tag": "ABX9TyN9xXHm9lHCCn9Cb+vlXR+b"
    },
    "kernelspec": {
      "name": "python3",
      "display_name": "Python 3"
    },
    "language_info": {
      "name": "python"
    }
  },
  "cells": [
    {
      "cell_type": "markdown",
      "source": [
        "# 양궁대회\n",
        "- https://school.programmers.co.kr/learn/courses/30/lessons/92342"
      ],
      "metadata": {
        "id": "-Pq493Q7uih5"
      }
    },
    {
      "cell_type": "code",
      "execution_count": null,
      "metadata": {
        "id": "fAY8ZPieuZ-T"
      },
      "outputs": [],
      "source": [
        "from itertools import combinations_with_replacement\n",
        "\n",
        "\n",
        "def solution(n, info):\n",
        "    answer = [-1]\n",
        "    max_gap = -1  # 점수 차\n",
        "\n",
        "    for combi in combinations_with_replacement(range(11), n):  # 중복 조합으로 0~10점까지 n개 뽑기\n",
        "        info2 = [0] * 11  # 라이언의 과녁 점수\n",
        "\n",
        "        for i in combi:  # combi에 해당하는 화살들을 라이언 과녁 점수에 넣기\n",
        "            info2[10 - i] += 1\n",
        "\n",
        "        apeach, lion = 0, 0\n",
        "        for idx in range(11):\n",
        "            if info[idx] == info2[idx] == 0:  # 라이언과 어피치 모두 한번도 화살을 맞히지 못한 경우\n",
        "                continue\n",
        "            elif info[idx] >= info2[idx]:  # 어피치가 라이언이 쏜 화살의 수 이상을 맞힌 경우\n",
        "                apeach += 10 - idx\n",
        "            else:  # 라이언이 어피치보다 많은 수의 화살을 맞힌 경우\n",
        "                lion += 10 - idx\n",
        "\n",
        "        if lion > apeach:  # 라이언이 점수가 더 높은 경우\n",
        "            gap = lion - apeach  # 점수 차\n",
        "            if gap > max_gap:  # 기존보다 더 큰 점수 차인 경우\n",
        "                max_gap = gap\n",
        "                answer = info2\n",
        "    return answer"
      ]
    }
  ]
}