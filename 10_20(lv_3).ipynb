{
  "nbformat": 4,
  "nbformat_minor": 0,
  "metadata": {
    "colab": {
      "provenance": [],
      "authorship_tag": "ABX9TyNxQUDk7HqyMz+NgNd0EJHi",
      "include_colab_link": true
    },
    "kernelspec": {
      "name": "python3",
      "display_name": "Python 3"
    },
    "language_info": {
      "name": "python"
    }
  },
  "cells": [
    {
      "cell_type": "markdown",
      "metadata": {
        "id": "view-in-github",
        "colab_type": "text"
      },
      "source": [
        "<a href=\"https://colab.research.google.com/github/InKyuHwang001/Algorithm/blob/master/10_20(lv_3).ipynb\" target=\"_parent\"><img src=\"https://colab.research.google.com/assets/colab-badge.svg\" alt=\"Open In Colab\"/></a>"
      ]
    },
    {
      "cell_type": "markdown",
      "source": [
        "# 네트워크\n",
        "- https://school.programmers.co.kr/learn/courses/30/lessons/43162"
      ],
      "metadata": {
        "id": "aoW1noxPuN2J"
      }
    },
    {
      "cell_type": "code",
      "execution_count": null,
      "metadata": {
        "id": "ioFIJg2IqA4u"
      },
      "outputs": [],
      "source": [
        "from collections import deque\n",
        "\n",
        "#컴퓨터 수, 연결된 정보\n",
        "def solution(n, computers):\n",
        "    answer = 0\n",
        "    visited = [False for i in range(n)]\n",
        "    \n",
        "    for com in range(n):\n",
        "        if visited[com] == False:\n",
        "            visited[com] = True\n",
        "            q=deque()\n",
        "            q.append(com)\n",
        "            while q:\n",
        "                co = q.popleft()\n",
        "                visited[co] = True\n",
        "                for connect in range(n):\n",
        "                    if connect != co and computers[co][connect] == 1:\n",
        "                        if visited[connect] == False:\n",
        "                            q.append(connect)\n",
        "            answer +=1\n",
        "    return answer"
      ]
    }
  ]
}