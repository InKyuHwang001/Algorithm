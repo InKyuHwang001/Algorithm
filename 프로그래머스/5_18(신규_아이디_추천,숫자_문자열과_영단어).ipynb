{
  "nbformat": 4,
  "nbformat_minor": 0,
  "metadata": {
    "colab": {
      "name": "5/18(신규 아이디 추천,숫자 문자열과 영단어).ipynb",
      "provenance": [],
      "collapsed_sections": []
    },
    "kernelspec": {
      "name": "python3",
      "display_name": "Python 3"
    },
    "language_info": {
      "name": "python"
    }
  },
  "cells": [
    {
      "cell_type": "markdown",
      "source": [
        "# 신규 아이디 추천\n",
        "\n",
        "- https://programmers.co.kr/learn/courses/30/lessons/72410"
      ],
      "metadata": {
        "id": "_v0Ea0g81rOC"
      }
    },
    {
      "cell_type": "code",
      "source": [
        "import re\n",
        "def solution(new_id):\n",
        "    st = new_id\n",
        "    st = st.lower() #1단계\n",
        "    st = re.sub('[^a-z0-9\\-_.]', '', st) #2단계\n",
        "    st = re.sub('\\.+', '.', st) #3단계\n",
        "    st = re.sub('^[.]|[.]$', '', st) #4단계\n",
        "    st = 'a' if len(st) == 0 else st[:15] #5단계\n",
        "    st = re.sub('^[.]|[.]$', '', st) #6단계\n",
        "    st = st if len(st) > 2 else st + \"\".join([st[-1] for i in range(3-len(st))]) #7단계\n",
        "    return st"
      ],
      "metadata": {
        "id": "5nvr2ywOpFER"
      },
      "execution_count": null,
      "outputs": []
    },
    {
      "cell_type": "code",
      "source": [
        "def solution(new_id):\n",
        "    answer = ''\n",
        "    # 1\n",
        "    new_id = new_id.lower()\n",
        "    # 2\n",
        "    for c in new_id:\n",
        "        if c.isalpha() or c.isdigit() or c in ['-', '_', '.']:\n",
        "            answer += c\n",
        "    # 3\n",
        "    while '..' in answer:\n",
        "        answer = answer.replace('..', '.')\n",
        "    # 4\n",
        "    if answer[0] == '.':\n",
        "        answer = answer[1:] if len(answer) > 1 else '.'\n",
        "    if answer[-1] == '.':\n",
        "        answer = answer[:-1]\n",
        "    # 5\n",
        "    if answer == '':\n",
        "        answer = 'a'\n",
        "    # 6\n",
        "    if len(answer) > 15:\n",
        "        answer = answer[:15]\n",
        "        if answer[-1] == '.':\n",
        "            answer = answer[:-1]\n",
        "    # 7\n",
        "    while len(answer) < 3:\n",
        "        answer += answer[-1]\n",
        "    return answer"
      ],
      "metadata": {
        "id": "cccfTdegr4ja"
      },
      "execution_count": null,
      "outputs": []
    },
    {
      "cell_type": "markdown",
      "source": [
        "# 숫자 문자열과 영단어\n",
        "- https://programmers.co.kr/learn/courses/30/lessons/81301"
      ],
      "metadata": {
        "id": "NqgW9eCwu4DT"
      }
    },
    {
      "cell_type": "code",
      "source": [
        "def solution(s):\n",
        "    words = ['zero', 'one', 'two', 'three', 'four', 'five', 'six', 'seven', 'eight', 'nine']\n",
        "\n",
        "    for i in range(len(words)):\n",
        "        s = s.replace(words[i], str(i))\n",
        "\n",
        "    return int(s)"
      ],
      "metadata": {
        "id": "G4N9N5q1vKKR"
      },
      "execution_count": null,
      "outputs": []
    },
    {
      "cell_type": "code",
      "source": [
        "num_dic = {\"zero\":\"0\", \"one\":\"1\", \"two\":\"2\", \"three\":\"3\", \"four\":\"4\", \"five\":\"5\", \"six\":\"6\", \"seven\":\"7\", \"eight\":\"8\", \"nine\":\"9\"}\n",
        "\n",
        "def solution(s):\n",
        "    answer = s\n",
        "    for key, value in num_dic.items():\n",
        "        answer = answer.replace(key, value)\n",
        "    return int(answer)"
      ],
      "metadata": {
        "id": "8DhvYOhywbaA"
      },
      "execution_count": null,
      "outputs": []
    }
  ]
}