{
  "nbformat": 4,
  "nbformat_minor": 0,
  "metadata": {
    "colab": {
      "name": "5/19(키패드 누르기,크레인 인형뽑기 게임 ).ipynb",
      "provenance": [],
      "collapsed_sections": []
    },
    "kernelspec": {
      "name": "python3",
      "display_name": "Python 3"
    },
    "language_info": {
      "name": "python"
    }
  },
  "cells": [
    {
      "cell_type": "markdown",
      "source": [
        "# 키패드 누르기\n",
        "- https://programmers.co.kr/learn/courses/30/lessons/67256\n"
      ],
      "metadata": {
        "id": "_v0Ea0g81rOC"
      }
    },
    {
      "cell_type": "code",
      "source": [
        "def solution(numbers, hand):\n",
        "    answer = ''\n",
        "    key_list = [['1', '2', '3'], \n",
        "                ['4', '5', '6'], \n",
        "                ['7', '8', '9'], \n",
        "                ['*', '0', '#']]\n",
        "    left = '*'\n",
        "    right = '#'\n",
        "    for num in numbers:\n",
        "        if num in [1, 4, 7]:\n",
        "            answer +='L'\n",
        "            left = str(num)\n",
        "        elif num in [3, 6, 9]:\n",
        "            answer += 'R'\n",
        "            right = str(num)\n",
        "        else:\n",
        "            for i in range(len(key_list)):\n",
        "                for j in range(len(key_list[i])):\n",
        "                    if left == key_list[i][j]:\n",
        "                        l_loc = [i, j]\n",
        "                    if right == key_list[i][j]:\n",
        "                        r_loc = [i, j]\n",
        "                    if str(num) == key_list[i][j]:\n",
        "                        n_loc = [i, j]\n",
        "            l_len = abs(n_loc[0]-l_loc[0]) + abs(n_loc[1]-l_loc[1])\n",
        "            r_len = abs(n_loc[0]-r_loc[0]) + abs(n_loc[1]-r_loc[1])\n",
        "            if l_len < r_len:\n",
        "                answer += 'L'\n",
        "                left = str(num)\n",
        "            elif r_len < l_len:\n",
        "                answer += 'R'\n",
        "                right = str(num)\n",
        "            else:\n",
        "                if hand == 'left':\n",
        "                    answer+= 'L'\n",
        "                    left = str(num)\n",
        "                else:\n",
        "                    answer+= 'R'\n",
        "                    right = str(num)\n",
        "    return answer"
      ],
      "metadata": {
        "id": "B01NxqMyzF4R"
      },
      "execution_count": null,
      "outputs": []
    },
    {
      "cell_type": "code",
      "source": [
        "def solution(numbers, hand):\n",
        "    #답, 키 위치, 왼손오른손 초기 위치 설정\n",
        "    answer=''\n",
        "    key_list={1:(0,0),2:(0,1),3:(0,2),\n",
        "             4:(1,0),5:(1,1),6:(1,2),\n",
        "             7:(2,0),8:(2,1),9:(2,2),\n",
        "             '*':(3,0),0:(3,1),'#':(3,2)}\n",
        "    leftHand='*'\n",
        "    rightHand='#'\n",
        "    #숫자를 입력받은 것중에\n",
        "    for num in numbers:\n",
        "        #왼손 기본이면\n",
        "        if num in [1,4,7]:\n",
        "            answer+='L'\n",
        "            leftHand=num\n",
        "        #오른 기본이면\n",
        "        elif num in [3,6,9]:\n",
        "            answer+='R'\n",
        "            rightHand=num\n",
        "        #중앙에 있는 숫자들\n",
        "        else:\n",
        "            #위치 찾기\n",
        "            newPos=key_list[num]\n",
        "            #양손손위치\n",
        "            rightPos=key_list[rightHand]\n",
        "            leftPos=key_list[leftHand]\n",
        "            #양손과의 거리\n",
        "            disRight=abs(newPos[0]-rightPos[0])+abs(newPos[1]-rightPos[1])\n",
        "            disLeft=abs(newPos[0]-leftPos[0])+abs(newPos[1]-leftPos[1])\n",
        "            # 양손간의 거리비교\n",
        "            if disRight<disLeft:\n",
        "                answer+='R'\n",
        "                rightHand=num\n",
        "            elif disRight>disLeft:\n",
        "                answer+='L'\n",
        "                leftHand=num\n",
        "            #거리가 같은 경우\n",
        "            else:\n",
        "                if hand=='right':\n",
        "                    answer+='R'\n",
        "                    rightHand=num\n",
        "                else:\n",
        "                    answer+='L'\n",
        "                    leftHand=num\n",
        "    return answer"
      ],
      "metadata": {
        "id": "he3DzXNC3mkU"
      },
      "execution_count": null,
      "outputs": []
    },
    {
      "cell_type": "markdown",
      "source": [
        "# 크레인 인형뽑기 게임\n",
        "- https://programmers.co.kr/learn/courses/30/lessons/64061"
      ],
      "metadata": {
        "id": "NqgW9eCwu4DT"
      }
    },
    {
      "cell_type": "code",
      "source": [
        "def solution(board, moves):\n",
        "    answer = 0\n",
        "    bucket = []\n",
        "    \n",
        "    for move in moves:\n",
        "        for line in board:\n",
        "            if line[move-1] != 0:\n",
        "                bucket.append(line[move-1])\n",
        "                line[move-1] = 0\n",
        "                break\n",
        "\n",
        "        if len(bucket) >= 2 and bucket[-1] == bucket[-2]:\n",
        "            answer += 2\n",
        "            bucket = bucket[:-2]\n",
        "            \n",
        "    return answer"
      ],
      "metadata": {
        "id": "dgsSZ9DLCm78"
      },
      "execution_count": null,
      "outputs": []
    },
    {
      "cell_type": "code",
      "source": [
        "def solution(board, moves):\n",
        "    stacklist = []\n",
        "    answer = 0\n",
        "\n",
        "    for i in moves:\n",
        "        for j in range(len(board)):\n",
        "            if board[j][i-1] != 0:\n",
        "                stacklist.append(board[j][i-1])\n",
        "                board[j][i-1] = 0\n",
        "\n",
        "                if len(stacklist) > 1:\n",
        "                    if stacklist[-1] == stacklist[-2]:\n",
        "                        stacklist.pop(-1)\n",
        "                        stacklist.pop(-1)\n",
        "                        answer += 2     \n",
        "                break\n",
        "\n",
        "    return answer"
      ],
      "metadata": {
        "id": "XauQGBsRBMCt"
      },
      "execution_count": null,
      "outputs": []
    }
  ]
}