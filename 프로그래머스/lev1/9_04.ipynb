{
  "nbformat": 4,
  "nbformat_minor": 0,
  "metadata": {
    "colab": {
      "provenance": [],
      "collapsed_sections": [],
      "authorship_tag": "ABX9TyMfDlYbIp7ytGdoOohyZIaa",
      "include_colab_link": true
    },
    "kernelspec": {
      "name": "python3",
      "display_name": "Python 3"
    },
    "language_info": {
      "name": "python"
    }
  },
  "cells": [
    {
      "cell_type": "markdown",
      "metadata": {
        "id": "view-in-github",
        "colab_type": "text"
      },
      "source": [
        "<a href=\"https://colab.research.google.com/github/InKyuHwang001/Algorithm/blob/master/9_04.ipynb\" target=\"_parent\"><img src=\"https://colab.research.google.com/assets/colab-badge.svg\" alt=\"Open In Colab\"/></a>"
      ]
    },
    {
      "cell_type": "markdown",
      "source": [
        "# [1차] 비밀지도\n",
        "- https://school.programmers.co.kr/learn/courses/30/lessons/17681"
      ],
      "metadata": {
        "id": "B7PacD9YYuLG"
      }
    },
    {
      "cell_type": "code",
      "source": [
        "def solution(n, arr1, arr2):\n",
        "    answer = []\n",
        "    for i,j in zip(arr1,arr2):\n",
        "        a12 = str(bin(i|j)[2:])\n",
        "        a12=a12.rjust(n,'0')\n",
        "        a12=a12.replace('1','#')\n",
        "        a12=a12.replace('0',' ')\n",
        "        answer.append(a12)\n",
        "    return answer\n",
        "#문자.rjust(n):우측정렬 n:숫자 \n",
        "#cjust(n) 중앙정렬, ljust(n) 좌측정렬"
      ],
      "metadata": {
        "id": "UmITWXBWYut9"
      },
      "execution_count": null,
      "outputs": []
    },
    {
      "cell_type": "markdown",
      "source": [
        "# 가운데 글자 가져오기\n",
        "- https://school.programmers.co.kr/learn/courses/30/lessons/12903"
      ],
      "metadata": {
        "id": "Zj-wg2oeYuCi"
      }
    },
    {
      "cell_type": "code",
      "execution_count": null,
      "metadata": {
        "id": "pyDKUr5CUDBX"
      },
      "outputs": [],
      "source": [
        "def solution(s):\n",
        "    if len(s)%2==0:\n",
        "        return s[(len(s)//2-1) : (len(s)//2+1)]\n",
        "    else:\n",
        "        return s[len(s)//2]"
      ]
    },
    {
      "cell_type": "markdown",
      "source": [
        "# [1차] 다트 게임\n",
        "- https://school.programmers.co.kr/learn/courses/30/lessons/17682"
      ],
      "metadata": {
        "id": "Dr3NK_I6Y-8M"
      }
    },
    {
      "cell_type": "code",
      "source": [
        "def solution(dartResult):\n",
        "    n = ''\n",
        "    score = []\n",
        "    for i in dartResult:\n",
        "        if i.isnumeric():\n",
        "            n += i\n",
        "        elif i == 'S':\n",
        "            n = int(n)**1\n",
        "            score.append(n)\n",
        "            n = ''\n",
        "        elif i == 'D':\n",
        "            n = int(n)**2\n",
        "            score.append(n)\n",
        "            n = ''\n",
        "        elif i == 'T':\n",
        "            n = int(n)**3\n",
        "            score.append(n)\n",
        "            n = ''\n",
        "        elif i == '*':\n",
        "            if len(score) > 1:\n",
        "                score[-2] = score[-2] * 2\n",
        "                score[-1] = score[-1] * 2\n",
        "            else:\n",
        "                score[-1] = score[-1] * 2\n",
        "        elif i == '#':\n",
        "            score[-1] = score[-1] * -1\n",
        "        \n",
        "    return sum(score)"
      ],
      "metadata": {
        "id": "87N5WSbWY2YX"
      },
      "execution_count": null,
      "outputs": []
    }
  ]
}