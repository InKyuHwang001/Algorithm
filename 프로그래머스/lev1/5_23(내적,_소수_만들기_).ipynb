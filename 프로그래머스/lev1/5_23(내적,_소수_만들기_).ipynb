{
  "nbformat": 4,
  "nbformat_minor": 0,
  "metadata": {
    "colab": {
      "name": "5/23(내적, 소수 만들기 ).ipynb",
      "provenance": [],
      "collapsed_sections": []
    },
    "kernelspec": {
      "name": "python3",
      "display_name": "Python 3"
    },
    "language_info": {
      "name": "python"
    }
  },
  "cells": [
    {
      "cell_type": "markdown",
      "source": [
        "# 내적\n",
        "- https://programmers.co.kr/learn/courses/30/lessons/70128\n"
      ],
      "metadata": {
        "id": "_v0Ea0g81rOC"
      }
    },
    {
      "cell_type": "code",
      "source": [
        "def solution(a, b):\n",
        "    answer = 0\n",
        "    for anum, bnum in zip(a, b):\n",
        "        answer+=anum*bnum\n",
        "    return answer"
      ],
      "metadata": {
        "id": "-BQlJYM6Mh6l"
      },
      "execution_count": null,
      "outputs": []
    },
    {
      "cell_type": "code",
      "source": [
        "def solution(a, b):\n",
        "\n",
        "    return sum([x*y for x, y in zip(a,b)])"
      ],
      "metadata": {
        "id": "1QUixvjbMhyG"
      },
      "execution_count": null,
      "outputs": []
    },
    {
      "cell_type": "markdown",
      "source": [
        "# 소수 만들기\n",
        "- https://programmers.co.kr/learn/courses/30/lessons/12977"
      ],
      "metadata": {
        "id": "NqgW9eCwu4DT"
      }
    },
    {
      "cell_type": "code",
      "source": [
        "def solution(nums):\n",
        "    from itertools import combinations as cb\n",
        "    answer = 0\n",
        "    for a in cb(nums, 3):\n",
        "        cand = sum(a)\n",
        "        for j in range(2, cand):\n",
        "            if cand%j==0:\n",
        "                break\n",
        "        else:\n",
        "            answer += 1\n",
        "    return answer\n",
        "\n",
        "    ##itertools에 combination이용"
      ],
      "metadata": {
        "id": "88kjHmQ9PgFR"
      },
      "execution_count": null,
      "outputs": []
    },
    {
      "cell_type": "code",
      "source": [
        "## 아리스토텔레스의 체 반환 이용 \n",
        "\n",
        "from itertools import combinations\n",
        "\n",
        "# 아리스토텔레스의 체 반환\n",
        "def aristoSieve(size):\n",
        "    aristo = [True] * (size + 1)\n",
        "    aristo[0], aristo[1] = False, False\n",
        "    \n",
        "    # 1 ~ 1000까지의 아리스토텔레스의 체\n",
        "    for i in range(2, int(size ** 0.5) + 1):\n",
        "        if aristo[i] == True:\n",
        "            for j in range(i + i, size + 1, i):\n",
        "                aristo[j] = False\n",
        "                \n",
        "    return aristo\n",
        "\n",
        "# 솔루션 함수\n",
        "def solution(nums):\n",
        "    answer = 0\n",
        "    # 아리스토 체 생성\n",
        "    aristo = aristoSieve(3000)\n",
        "    # 숫자 3개를 조합해서 나오는 것을 출력\n",
        "    combi = list(combinations(nums, 3))\n",
        "    \n",
        "    for case in combi:\n",
        "        if aristo[sum(case)]:\n",
        "            answer += 1\n",
        "\n",
        "    return answer\n",
        "\n",
        "\n",
        "\n",
        "    #소수를 구별하는 방법은\n",
        "    # 1. 페르마의 마지막 정리 등의 이론을 이용한 의사 소수를 판별하는 방법 2. 아리스토텔레스의 체 반환 이용방법이 있고 2번은 간단하나 큰수에선 비효율 적이다.\n",
        "    "
      ],
      "metadata": {
        "id": "TBP03cQNPvcW"
      },
      "execution_count": null,
      "outputs": []
    }
  ]
}