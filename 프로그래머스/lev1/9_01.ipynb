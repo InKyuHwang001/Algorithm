{
  "nbformat": 4,
  "nbformat_minor": 0,
  "metadata": {
    "colab": {
      "provenance": [],
      "collapsed_sections": [],
      "authorship_tag": "ABX9TyOodzI1HGmJ6feLMC9IIEYi",
      "include_colab_link": true
    },
    "kernelspec": {
      "name": "python3",
      "display_name": "Python 3"
    },
    "language_info": {
      "name": "python"
    }
  },
  "cells": [
    {
      "cell_type": "markdown",
      "metadata": {
        "id": "view-in-github",
        "colab_type": "text"
      },
      "source": [
        "<a href=\"https://colab.research.google.com/github/InKyuHwang001/Algorithm/blob/master/9_01.ipynb\" target=\"_parent\"><img src=\"https://colab.research.google.com/assets/colab-badge.svg\" alt=\"Open In Colab\"/></a>"
      ]
    },
    {
      "cell_type": "markdown",
      "source": [
        "# K번째수\n",
        "- https://school.programmers.co.kr/learn/courses/30/lessons/42748"
      ],
      "metadata": {
        "id": "TEgHqyGmT06U"
      }
    },
    {
      "cell_type": "code",
      "execution_count": null,
      "metadata": {
        "id": "4VAqkd6ESBm3"
      },
      "outputs": [],
      "source": [
        "def solution(array, commands):\n",
        "    answer = []\n",
        "    for command in commands:\n",
        "        i, j, k= command\n",
        "        tmp=array[i-1: j]\n",
        "        tmp.sort()\n",
        "        answer.append(tmp[k-1])\n",
        "    return answer"
      ]
    },
    {
      "cell_type": "markdown",
      "source": [
        "# 모의고사\n",
        "- https://school.programmers.co.kr/learn/courses/30/lessons/42840"
      ],
      "metadata": {
        "id": "C0oGcHdWT5k_"
      }
    },
    {
      "cell_type": "code",
      "source": [
        "def solution(answers):\n",
        "    answer = []\n",
        "    li=[0,0,0]\n",
        "    a1=[1, 2, 3, 4, 5]\n",
        "    a2=[2, 1, 2, 3, 2, 4, 2, 5]\n",
        "    a3=[3, 3, 1, 1, 2, 2, 4, 4, 5, 5]\n",
        "    for i in range(len(answers)):\n",
        "        if answers[i]== a1[i%len(a1)]:\n",
        "            li[0]+=1\n",
        "        if answers[i]== a2[i%len(a2)]:\n",
        "            li[1]+=1\n",
        "        if answers[i]== a3[i%len(a3)]:\n",
        "            li[2]+=1\n",
        "    for i in range(3):\n",
        "        if li[i]==max(li):\n",
        "            answer.append(i+1)\n",
        "    return answer"
      ],
      "metadata": {
        "id": "9rukFgUeT5-n"
      },
      "execution_count": null,
      "outputs": []
    },
    {
      "cell_type": "markdown",
      "source": [
        "# 체육복\n",
        "- https://school.programmers.co.kr/learn/courses/30/lessons/42862"
      ],
      "metadata": {
        "id": "9aSX3W_taaoW"
      }
    },
    {
      "cell_type": "code",
      "source": [
        "def solution(n, lost, reserve):\n",
        "    reserve_set = set(reserve)-set(lost) \n",
        "    lost_set = set(lost)-set(reserve) \n",
        "    \n",
        "    for reserve_person in reserve_set: \n",
        "        if reserve_person-1 in lost_set: \n",
        "            lost_set.remove(reserve_person-1) \n",
        "        elif reserve_person+1 in lost_set: \n",
        "            lost_set.remove(reserve_person+1) \n",
        "    \n",
        "    return n-len(lost_set)"
      ],
      "metadata": {
        "id": "yR0aHJJOaa-S"
      },
      "execution_count": null,
      "outputs": []
    }
  ]
}