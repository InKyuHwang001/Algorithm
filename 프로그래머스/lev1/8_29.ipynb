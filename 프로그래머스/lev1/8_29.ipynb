{
  "nbformat": 4,
  "nbformat_minor": 0,
  "metadata": {
    "colab": {
      "name": "8/29.ipynb",
      "provenance": [],
      "collapsed_sections": [],
      "authorship_tag": "ABX9TyNkPb+RpneK4HORhZPaRGib",
      "include_colab_link": true
    },
    "kernelspec": {
      "name": "python3",
      "display_name": "Python 3"
    },
    "language_info": {
      "name": "python"
    }
  },
  "cells": [
    {
      "cell_type": "markdown",
      "metadata": {
        "id": "view-in-github",
        "colab_type": "text"
      },
      "source": [
        "<a href=\"https://colab.research.google.com/github/InKyuHwang001/Algorithm/blob/master/8_29.ipynb\" target=\"_parent\"><img src=\"https://colab.research.google.com/assets/colab-badge.svg\" alt=\"Open In Colab\"/></a>"
      ]
    },
    {
      "cell_type": "markdown",
      "source": [
        "# 같은 숫자는 싫어\n",
        "- https://school.programmers.co.kr/learn/courses/30/lessons/12906"
      ],
      "metadata": {
        "id": "jipT_70ViZ-8"
      }
    },
    {
      "cell_type": "code",
      "source": [
        "def solution(arr):\n",
        "    answer = []\n",
        "    for i in range(len(arr)):\n",
        "        if i==0:\n",
        "            answer.append(arr[i])\n",
        "        elif arr[i] !=arr[i-1]:\n",
        "            answer.append(arr[i])\n",
        "    return answer"
      ],
      "metadata": {
        "id": "s7d4BgWWiZ0n"
      },
      "execution_count": null,
      "outputs": []
    },
    {
      "cell_type": "code",
      "source": [
        "def no_continuous(s):\n",
        "    a=[ v for i,v in enumerate(s) if s[i-1]!=s[i]]\n",
        "\n",
        "    return a"
      ],
      "metadata": {
        "id": "gQfm4fNNiZiZ"
      },
      "execution_count": null,
      "outputs": []
    },
    {
      "cell_type": "markdown",
      "source": [
        "# 최소직사각형\n",
        "- https://school.programmers.co.kr/learn/courses/30/lessons/86491"
      ],
      "metadata": {
        "id": "GoLaAbh8iZDG"
      }
    },
    {
      "cell_type": "code",
      "source": [
        "def solution(sizes):\n",
        "    w = []\n",
        "    h = []\n",
        "    for i in range(len(sizes)):\n",
        "        if sizes[i][0] >= sizes[i][1]:\n",
        "            w.append(sizes[i][0])\n",
        "            h.append(sizes[i][1])\n",
        "        else:\n",
        "            h.append(sizes[i][0])\n",
        "            w.append(sizes[i][1])\n",
        "\n",
        "    return max(w) * max(h)"
      ],
      "metadata": {
        "id": "afaLqy_ViYvG"
      },
      "execution_count": null,
      "outputs": []
    },
    {
      "cell_type": "code",
      "execution_count": null,
      "metadata": {
        "id": "aGdhdqZViLbA"
      },
      "outputs": [],
      "source": [
        "def solution(sizes):\n",
        "    return max(max(x) for x in sizes) * max(min(x) for x in sizes)"
      ]
    },
    {
      "cell_type": "markdown",
      "source": [
        "# 로또의 최고 순위와 최저 순위\n",
        "- https://school.programmers.co.kr/learn/courses/30/lessons/77484"
      ],
      "metadata": {
        "id": "lMk5MKUIloY1"
      }
    },
    {
      "cell_type": "code",
      "source": [
        "def solution(lottos, win_nums):\n",
        "    answer = [6,6,5,4,3,2,1]\n",
        "    l0=lottos.count(0)\n",
        "    count=0\n",
        "    for i in range(len(lottos)):\n",
        "        if lottos[i] in win_nums:\n",
        "            count+=1   \n",
        "    return  [answer[count+l0],answer[count]]"
      ],
      "metadata": {
        "id": "P628lWZ1loHq"
      },
      "execution_count": null,
      "outputs": []
    },
    {
      "cell_type": "code",
      "source": [
        "def solution(lottos, win_nums):\n",
        "    zero = lottos.count(0)\n",
        "    a= [x for x in lottos if x in win_nums]\n",
        "    max = zero+len(a)\n",
        "    min = len(a)\n",
        "\n",
        "    max = 7- max if max >=1 else 6\n",
        "    min = 7- min if min >=1 else 6\n",
        "    return [max,min]"
      ],
      "metadata": {
        "id": "s-6BTh41l_Gd"
      },
      "execution_count": null,
      "outputs": []
    },
    {
      "cell_type": "markdown",
      "source": [
        "# 숫자 문자열과 영단어\n",
        "- https://school.programmers.co.kr/learn/courses/30/lessons/81301"
      ],
      "metadata": {
        "id": "giaY3IbmmKfU"
      }
    },
    {
      "cell_type": "code",
      "source": [
        "def solution(s):\n",
        "    words = ['zero', 'one', 'two', 'three', 'four', 'five', 'six', 'seven', 'eight', 'nine']\n",
        "    for i in range(10):\n",
        "        s=s.replace(words[i], str(i))\n",
        "    return int(s)"
      ],
      "metadata": {
        "id": "-raNG-2AmK1o"
      },
      "execution_count": null,
      "outputs": []
    }
  ]
}