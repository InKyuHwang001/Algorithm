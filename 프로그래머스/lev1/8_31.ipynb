{
  "nbformat": 4,
  "nbformat_minor": 0,
  "metadata": {
    "colab": {
      "name": "8/31.ipynb",
      "provenance": [],
      "collapsed_sections": [],
      "authorship_tag": "ABX9TyPFv41SKWMUGEoUTzHrSmIO",
      "include_colab_link": true
    },
    "kernelspec": {
      "name": "python3",
      "display_name": "Python 3"
    },
    "language_info": {
      "name": "python"
    }
  },
  "cells": [
    {
      "cell_type": "markdown",
      "metadata": {
        "id": "view-in-github",
        "colab_type": "text"
      },
      "source": [
        "<a href=\"https://colab.research.google.com/github/InKyuHwang001/Algorithm/blob/master/8_31.ipynb\" target=\"_parent\"><img src=\"https://colab.research.google.com/assets/colab-badge.svg\" alt=\"Open In Colab\"/></a>"
      ]
    },
    {
      "cell_type": "markdown",
      "source": [
        "# 내적\n",
        "- https://school.programmers.co.kr/learn/courses/30/lessons/70128"
      ],
      "metadata": {
        "id": "c6ElIsg8cve3"
      }
    },
    {
      "cell_type": "code",
      "execution_count": null,
      "metadata": {
        "id": "Xlht2V19ctVs"
      },
      "outputs": [],
      "source": [
        "def solution(a, b):\n",
        "    answer=0\n",
        "    for x,y in zip(a,b):\n",
        "        answer+=x*y\n",
        "    return answer"
      ]
    },
    {
      "cell_type": "code",
      "source": [
        "def solution(a, b):\n",
        "    return sum([x*y for x, y in zip(a,b)])"
      ],
      "metadata": {
        "id": "7E77MMtHc4P2"
      },
      "execution_count": null,
      "outputs": []
    },
    {
      "cell_type": "markdown",
      "source": [
        "# 소수 만들기\n",
        "- https://school.programmers.co.kr/learn/courses/30/lessons/12977"
      ],
      "metadata": {
        "id": "YwKCeJwXfm9v"
      }
    },
    {
      "cell_type": "code",
      "source": [
        "def solution(nums):\n",
        "    from itertools import combinations as cb\n",
        "    answer = 0\n",
        "    for a in cb(nums, 3):\n",
        "        cand = sum(a)\n",
        "        for j in range(2, cand):\n",
        "            if cand%j==0:\n",
        "                break\n",
        "        else:\n",
        "            answer += 1\n",
        "    return answer"
      ],
      "metadata": {
        "id": "LTmKmH0Cfs1Z"
      },
      "execution_count": null,
      "outputs": []
    },
    {
      "cell_type": "markdown",
      "source": [
        "# 폰켓몬\n",
        "- https://school.programmers.co.kr/learn/courses/30/lessons/1845"
      ],
      "metadata": {
        "id": "_ijurQb2j2bt"
      }
    },
    {
      "cell_type": "code",
      "source": [
        "def solution(nums):\n",
        "    b=len(nums)//2\n",
        "    a=len(set(nums))\n",
        "    return a if b>=a else b "
      ],
      "metadata": {
        "id": "zaCC5zaWA0dD"
      },
      "execution_count": null,
      "outputs": []
    },
    {
      "cell_type": "code",
      "source": [
        "def solution(nums):\n",
        "    hm={x: 0 for x in set(nums)}\n",
        "    for x in nums:\n",
        "        hm[x]+=1\n",
        "    a=len(nums)//2\n",
        "    b=len(hm)\n",
        "    return a if a<=b else b"
      ],
      "metadata": {
        "id": "1muvPHu8B-dv"
      },
      "execution_count": null,
      "outputs": []
    },
    {
      "cell_type": "markdown",
      "source": [
        "# 완주하지 못한 선수\n",
        "- https://school.programmers.co.kr/learn/courses/30/lessons/42576"
      ],
      "metadata": {
        "id": "VOCSDn10DnJ2"
      }
    },
    {
      "cell_type": "code",
      "source": [
        "def solution(participant, completion):\n",
        "    participant.sort()\n",
        "    completion.sort()\n",
        "    for num in range(len(participant)):\n",
        "        if participant[num] !=completion[num]:\n",
        "            return participant[num]\n",
        "    return participant[-1]"
      ],
      "metadata": {
        "id": "BhdS6TEcDnlM"
      },
      "execution_count": null,
      "outputs": []
    },
    {
      "cell_type": "code",
      "source": [
        "def solution(participant, completion):\n",
        "    hm={x:0 for x in participant}\n",
        "    for x in participant:\n",
        "        hm[x]+=1\n",
        "    for x in completion:\n",
        "        hm[x]-=1\n",
        "    for k,v in hm.items():\n",
        "        if v==1:\n",
        "            return k"
      ],
      "metadata": {
        "id": "B3qhMxzkDn_B"
      },
      "execution_count": null,
      "outputs": []
    }
  ]
}