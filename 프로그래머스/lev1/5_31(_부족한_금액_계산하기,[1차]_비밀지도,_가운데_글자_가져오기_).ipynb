{
  "nbformat": 4,
  "nbformat_minor": 0,
  "metadata": {
    "colab": {
      "name": "5/31( 부족한 금액 계산하기,[1차] 비밀지도, 가운데 글자 가져오기 ).ipynb",
      "provenance": [],
      "collapsed_sections": []
    },
    "kernelspec": {
      "name": "python3",
      "display_name": "Python 3"
    },
    "language_info": {
      "name": "python"
    }
  },
  "cells": [
    {
      "cell_type": "markdown",
      "source": [
        "# 부족한 금액 계산하기\n",
        "- https://programmers.co.kr/learn/courses/30/lessons/82612"
      ],
      "metadata": {
        "id": "_v0Ea0g81rOC"
      }
    },
    {
      "cell_type": "code",
      "source": [
        "def solution(price, money, count):\n",
        "    al=sum([x for x in range(1,count+1)])\n",
        "    answer =al*price-money\n",
        "    if answer<=0:\n",
        "        answer=0\n",
        "    return answer\n",
        "#max를 사용하면 코드를 줄일 수 있음\n",
        "#1+2+..n=n*(n+1)/2   식이 있다면 식을 이용하자"
      ],
      "metadata": {
        "id": "8PYsAAyN9i8Y"
      },
      "execution_count": null,
      "outputs": []
    },
    {
      "cell_type": "code",
      "source": [
        "def solution(price, money, count):\n",
        "    return max(0,price*(count+1)*count//2-money)"
      ],
      "metadata": {
        "id": "65U3QQNN9At8"
      },
      "execution_count": null,
      "outputs": []
    },
    {
      "cell_type": "markdown",
      "source": [
        "# [1차] 비밀지도\n",
        "- https://programmers.co.kr/learn/courses/30/lessons/17681"
      ],
      "metadata": {
        "id": "c8gGwr8FcPxQ"
      }
    },
    {
      "cell_type": "code",
      "source": [
        "def solution(n, arr1, arr2):\n",
        "    answer = []\n",
        "    for x, y in zip(arr1,arr2):\n",
        "        temp=str(bin(x|y))[2:]\n",
        "        temp='0'*(n-len(temp))+temp\n",
        "        temp=temp.replace('1','#')\n",
        "        temp=temp.replace('0',' ')\n",
        "        answer.append(temp)\n",
        "    return answer\n",
        "  #bin(2)=0b10이 나옴"
      ],
      "metadata": {
        "id": "BecRcvyIeYL-"
      },
      "execution_count": null,
      "outputs": []
    },
    {
      "cell_type": "code",
      "source": [
        "def solution(n, arr1, arr2):\n",
        "    answer = []\n",
        "    for i,j in zip(arr1,arr2):\n",
        "        a12 = str(bin(i|j)[2:])\n",
        "        a12=a12.rjust(n,'0')\n",
        "        a12=a12.replace('1','#')\n",
        "        a12=a12.replace('0',' ')\n",
        "        answer.append(a12)\n",
        "    return answer\n",
        "#문자.rjust(n):우측정렬 n:숫자 \n",
        "#cjust(n) 중앙정렬, ljust(n) 좌측정렬"
      ],
      "metadata": {
        "id": "sfScD2u_ekn1"
      },
      "execution_count": null,
      "outputs": []
    },
    {
      "cell_type": "markdown",
      "source": [
        "# 가운데 글자 가져오기\n",
        "\n",
        "- https://programmers.co.kr/learn/courses/30/lessons/12903"
      ],
      "metadata": {
        "id": "xa6OGeE2EbGp"
      }
    },
    {
      "cell_type": "code",
      "source": [
        "def solution(s):\n",
        "    if len(s)%2==0:\n",
        "        answer=s[len(s)//2-1:len(s)//2+1]\n",
        "    else:\n",
        "        answer=s[len(s)//2]\n",
        "    return answer"
      ],
      "metadata": {
        "id": "NV3lN_rTEXuM"
      },
      "execution_count": null,
      "outputs": []
    },
    {
      "cell_type": "code",
      "source": [
        "def string_middle(str):\n",
        "    return str[(len(str)-1)//2:len(str)//2+1]"
      ],
      "metadata": {
        "id": "WlujBsqYELRT"
      },
      "execution_count": null,
      "outputs": []
    }
  ]
}