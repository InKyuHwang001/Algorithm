{
  "nbformat": 4,
  "nbformat_minor": 0,
  "metadata": {
    "colab": {
      "provenance": [],
      "authorship_tag": "ABX9TyOYLye8gnFeIXV9J8jW0pyC",
      "include_colab_link": true
    },
    "kernelspec": {
      "name": "python3",
      "display_name": "Python 3"
    },
    "language_info": {
      "name": "python"
    }
  },
  "cells": [
    {
      "cell_type": "markdown",
      "metadata": {
        "id": "view-in-github",
        "colab_type": "text"
      },
      "source": [
        "<a href=\"https://colab.research.google.com/github/InKyuHwang001/Algorithm/blob/master/9_05.ipynb\" target=\"_parent\"><img src=\"https://colab.research.google.com/assets/colab-badge.svg\" alt=\"Open In Colab\"/></a>"
      ]
    },
    {
      "cell_type": "markdown",
      "source": [
        "# 나누어 떨어지는 숫자 배열\n",
        "- https://school.programmers.co.kr/learn/courses/30/lessons/12910"
      ],
      "metadata": {
        "id": "iJQd_2pGppFx"
      }
    },
    {
      "cell_type": "code",
      "execution_count": null,
      "metadata": {
        "id": "W4qzojuBpmLv"
      },
      "outputs": [],
      "source": [
        "def solution(arr, divisor):\n",
        "    answer = []\n",
        "    for i in arr:\n",
        "        if i%divisor==0:\n",
        "            answer.append(i)\n",
        "    answer.sort()\n",
        "    if len(answer)!=0:\n",
        "        return answer\n",
        "    else:\n",
        "        return [-1]"
      ]
    },
    {
      "cell_type": "code",
      "source": [
        "def solution(arr, divisor):\n",
        "    arr = [x for x in arr if x % divisor == 0];\n",
        "    arr.sort();\n",
        "    return arr if len(arr) != 0 else [-1];"
      ],
      "metadata": {
        "id": "K_HLgAcCp403"
      },
      "execution_count": null,
      "outputs": []
    },
    {
      "cell_type": "markdown",
      "source": [
        "# 두 정수 사이의 합\n",
        "- https://school.programmers.co.kr/learn/courses/30/lessons/12912"
      ],
      "metadata": {
        "id": "5VvmSklwp5Zb"
      }
    },
    {
      "cell_type": "code",
      "source": [
        "def solution(a, b):\n",
        "    answer = 0\n",
        "    for x in range(min(a,b), max(a,b)+1):\n",
        "        answer+=x\n",
        "    return answer"
      ],
      "metadata": {
        "id": "VLbRGJX3p6Cg"
      },
      "execution_count": null,
      "outputs": []
    },
    {
      "cell_type": "code",
      "source": [
        "def adder(a, b):\n",
        "    if a > b: a, b = b, a\n",
        "\n",
        "    return sum(range(a,b+1))"
      ],
      "metadata": {
        "id": "rpCUpH-ep5t6"
      },
      "execution_count": null,
      "outputs": []
    }
  ]
}