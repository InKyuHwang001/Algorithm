{
  "cells": [
    {
      "cell_type": "markdown",
      "metadata": {
        "id": "_v0Ea0g81rOC"
      },
      "source": [
        "#신고 결과 받기\n",
        "- https://programmers.co.kr/learn/courses/30/lessons/92334?language=python3\n"
      ]
    },
    {
      "cell_type": "code",
      "execution_count": null,
      "metadata": {
        "id": "WzGRJQ0yjZqK"
      },
      "outputs": [],
      "source": [
        "def solution(id_list, report, k):\n",
        "    # 정답의 공간 말들기\n",
        "    answer = [0] * len(id_list)\n",
        "        \n",
        "    reports = {x : 0 for x in id_list}\n",
        "      #{'apeach': 0, 'frodo': 0, 'muzi': 0, 'neo': 0}\n",
        "    \n",
        "    #reports에 숫자 세기\n",
        "    for r in set(report):\n",
        "        reports[r.split()[1]] += 1\n",
        "\n",
        "    #report에서\n",
        "    for r in set(report):\n",
        "        #reports의 결과가 k이상이라면\n",
        "        if reports[r.split()[1]] >= k:\n",
        "            #answer에 r.split()[0]의 값에 위치에 +1한다.\n",
        "            answer[id_list.index(r.split()[0])] += 1\n",
        "\n",
        "    return answer\n",
        "#{x : 0 for x in id_list} 숫자를 세고 싶을 때 사용하기\n",
        "#set(집합자료형)의 특징은 자료형의 중복을 제거하기 위한 필터 역할로 종종 사용\n",
        "#index(x) 함수는 리스트에 x 값이 있으면 x의 위치 값을 돌려준다."
      ]
    },
    {
      "cell_type": "code",
      "execution_count": null,
      "metadata": {
        "id": "7PNboD8UkzI6"
      },
      "outputs": [],
      "source": [
        "def solution(id_list, report, k):\n",
        "    answer = [0] * len(id_list)\n",
        "    dic_report = {id: [] for id in id_list} # 해당 유저를 신고한 ID\n",
        "    for i in set(report):\n",
        "        i = i.split()\n",
        "        dic_report[i[1]].append(i[0])\n",
        "\n",
        "    for key, value in dic_report.items():\n",
        "        if len(value) >= k:\n",
        "            for j in value:\n",
        "                answer[id_list.index(j)] += 1\n",
        "\n",
        "    return answer\n",
        "#{'apeach': [],\n",
        "# 'frodo': ['muzi', 'apeach'],\n",
        "# 'muzi': ['apeach'],\n",
        "# 'neo': ['frodo', 'muzi']}"
      ]
    },
    {
      "cell_type": "markdown",
      "metadata": {
        "id": "NqgW9eCwu4DT"
      },
      "source": [
        "# 로또의 최고 순위와 최저 순위\n",
        "- https://programmers.co.kr/learn/courses/30/lessons/77484"
      ]
    },
    {
      "cell_type": "code",
      "execution_count": null,
      "metadata": {
        "id": "R-fmK4Haw049"
      },
      "outputs": [],
      "source": [
        "def solution(lottos, win_nums):\n",
        "    #0의 숫자 세기\n",
        "    zero = lottos.count(0)\n",
        "    #롯도 정답의 숫자\n",
        "    a= [x for x in lottos if x in win_nums]\n",
        "    #최댓값\n",
        "    max = zero+len(a)\n",
        "    #최솟값\n",
        "    min = len(a)\n",
        "\n",
        "    #등수 구하기\n",
        "    max = 7- max if max >=1 else 6\n",
        "    min = 7- min if min >=1 else 6\n",
        "    return [max,min]"
      ]
    },
    {
      "cell_type": "code",
      "execution_count": null,
      "metadata": {
        "id": "vu8IYTezw-LJ"
      },
      "outputs": [],
      "source": [
        "def solution(lottos, win_nums):\n",
        "    rank=[6,6,5,4,3,2,1]\n",
        "    cnt_0 = lottos.count(0)\n",
        "    ans = 0\n",
        "    for x in win_nums:\n",
        "        if x in lottos:\n",
        "            ans += 1\n",
        "    return rank[cnt_0 + ans],rank[ans]"
      ]
    }
  ],
  "metadata": {
    "colab": {
      "collapsed_sections": [],
      "name": "5/17(신고 결과 받기,로또의 최고 순위와 최저 순위).ipynb",
      "provenance": []
    },
    "kernelspec": {
      "display_name": "Python 3",
      "name": "python3"
    },
    "language_info": {
      "name": "python"
    }
  },
  "nbformat": 4,
  "nbformat_minor": 0
}
