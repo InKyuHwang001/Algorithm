{
  "nbformat": 4,
  "nbformat_minor": 0,
  "metadata": {
    "colab": {
      "provenance": [],
      "authorship_tag": "ABX9TyN9SeexLT4AAmAw63l+5qoR",
      "include_colab_link": true
    },
    "kernelspec": {
      "name": "python3",
      "display_name": "Python 3"
    },
    "language_info": {
      "name": "python"
    }
  },
  "cells": [
    {
      "cell_type": "markdown",
      "metadata": {
        "id": "view-in-github",
        "colab_type": "text"
      },
      "source": [
        "<a href=\"https://colab.research.google.com/github/InKyuHwang001/Algorithm/blob/master/SELECT(1_2).ipynb\" target=\"_parent\"><img src=\"https://colab.research.google.com/assets/colab-badge.svg\" alt=\"Open In Colab\"/></a>"
      ]
    },
    {
      "cell_type": "markdown",
      "source": [
        "# 모든 레코드 조회하기\n",
        "- https://school.programmers.co.kr/learn/courses/30/lessons/59034"
      ],
      "metadata": {
        "id": "RxZjNnbefZD6"
      }
    },
    {
      "cell_type": "code",
      "execution_count": null,
      "metadata": {
        "id": "PM1eWO7CfR2K"
      },
      "outputs": [],
      "source": [
        "SELECT * FROM ANIMAL_INS\n",
        "ORDER BY ANIMAL_ID"
      ]
    },
    {
      "cell_type": "markdown",
      "source": [
        "# 역순 정렬하기(ORDER BY {COLUMID} {ASC/DESC})\n",
        "- https://school.programmers.co.kr/learn/courses/30/lessons/59035"
      ],
      "metadata": {
        "id": "ZXBv8aEvfeCW"
      }
    },
    {
      "cell_type": "code",
      "source": [
        "SELECT NAME, DATETIME FROM ANIMAL_INS\n",
        "ORDER BY ANIMAL_ID DESC"
      ],
      "metadata": {
        "id": "uHVxHzf2fehL"
      },
      "execution_count": null,
      "outputs": []
    },
    {
      "cell_type": "markdown",
      "source": [
        "# 아픈 동물 찾기(WHERE A= a)\n",
        "- https://school.programmers.co.kr/learn/courses/30/lessons/59036"
      ],
      "metadata": {
        "id": "yhlCCzkOgZDc"
      }
    },
    {
      "cell_type": "code",
      "source": [
        "SELECT ANIMAL_ID, NAME FROM ANIMAL_INS\n",
        "WHERE INTAKE_CONDITION = 'Sick'"
      ],
      "metadata": {
        "id": "I2ghwqptgY4U"
      },
      "execution_count": null,
      "outputs": []
    },
    {
      "cell_type": "markdown",
      "source": [
        "# 어린 동물 찾기(!=)\n",
        "- https://school.programmers.co.kr/learn/courses/30/lessons/59037"
      ],
      "metadata": {
        "id": "Js9dLwfEiTTE"
      }
    },
    {
      "cell_type": "code",
      "source": [
        "SELECT ANIMAL_ID, NAME FROM ANIMAL_INS \n",
        "WHERE INTAKE_CONDITION\t!= 'Aged'"
      ],
      "metadata": {
        "id": "Y7SZlDx6iT4t"
      },
      "execution_count": null,
      "outputs": []
    }
  ]
}