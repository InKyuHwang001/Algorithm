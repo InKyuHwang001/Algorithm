{
  "nbformat": 4,
  "nbformat_minor": 0,
  "metadata": {
    "colab": {
      "provenance": [],
      "authorship_tag": "ABX9TyM3mmoQPxOeeIW9kixTH9Lr",
      "include_colab_link": true
    },
    "kernelspec": {
      "name": "python3",
      "display_name": "Python 3"
    },
    "language_info": {
      "name": "python"
    }
  },
  "cells": [
    {
      "cell_type": "markdown",
      "metadata": {
        "id": "view-in-github",
        "colab_type": "text"
      },
      "source": [
        "<a href=\"https://colab.research.google.com/github/InKyuHwang001/Algorithm/blob/master/IS_NULL.ipynb\" target=\"_parent\"><img src=\"https://colab.research.google.com/assets/colab-badge.svg\" alt=\"Open In Colab\"/></a>"
      ]
    },
    {
      "cell_type": "markdown",
      "source": [
        "# 이름이 없는 동물의 아이디 (WHERE 콜럼 IS NULL)\n",
        "- https://school.programmers.co.kr/learn/courses/30/lessons/59039"
      ],
      "metadata": {
        "id": "FEIO_uewt7SH"
      }
    },
    {
      "cell_type": "code",
      "source": [
        "SELECT ANIMAL_ID FROM ANIMAL_INS\n",
        "WHERE NAME IS NULL"
      ],
      "metadata": {
        "id": "Lq5Guhgyt7J7"
      },
      "execution_count": null,
      "outputs": []
    },
    {
      "cell_type": "markdown",
      "source": [
        "# 이름이 있는 동물의 아이디(IS NOT NULL)\n",
        "- https://school.programmers.co.kr/learn/courses/30/lessons/59407"
      ],
      "metadata": {
        "id": "HRC1sZ3nt6ww"
      }
    },
    {
      "cell_type": "code",
      "source": [
        "SELECT ANIMAL_ID FROM ANIMAL_INS\n",
        "WHERE NAME IS NOT NULL"
      ],
      "metadata": {
        "id": "JnrJRBNVt6nu"
      },
      "execution_count": null,
      "outputs": []
    },
    {
      "cell_type": "markdown",
      "source": [
        "# NULL 처리하기(IFNULL(콜럼, \"나올 값\") AS 콜럼)\n",
        "- https://school.programmers.co.kr/learn/courses/30/lessons/59410"
      ],
      "metadata": {
        "id": "s7szaOYdt6Rz"
      }
    },
    {
      "cell_type": "code",
      "execution_count": null,
      "metadata": {
        "id": "jq95zLh-t3iz"
      },
      "outputs": [],
      "source": [
        "SELECT ANIMAL_TYPE, IFNULL(NAME, \"No name\") AS NAME, SEX_UPON_INTAKE \n",
        "FROM ANIMAL_INS"
      ]
    }
  ]
}