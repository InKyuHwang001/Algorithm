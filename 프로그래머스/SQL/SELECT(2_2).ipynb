{
  "nbformat": 4,
  "nbformat_minor": 0,
  "metadata": {
    "colab": {
      "provenance": [],
      "authorship_tag": "ABX9TyMA4Yox0nNo4SZy89nYFFHy",
      "include_colab_link": true
    },
    "kernelspec": {
      "name": "python3",
      "display_name": "Python 3"
    },
    "language_info": {
      "name": "python"
    }
  },
  "cells": [
    {
      "cell_type": "markdown",
      "metadata": {
        "id": "view-in-github",
        "colab_type": "text"
      },
      "source": [
        "<a href=\"https://colab.research.google.com/github/InKyuHwang001/Algorithm/blob/master/SELECT(2_2).ipynb\" target=\"_parent\"><img src=\"https://colab.research.google.com/assets/colab-badge.svg\" alt=\"Open In Colab\"/></a>"
      ]
    },
    {
      "cell_type": "markdown",
      "source": [
        "# 동물의 아이디와 이름\n",
        "- https://school.programmers.co.kr/learn/courses/30/lessons/59403"
      ],
      "metadata": {
        "id": "289GYaD2SeLA"
      }
    },
    {
      "cell_type": "code",
      "source": [
        "SELECT ANIMAL_ID, NAME FROM ANIMAL_INS\n",
        "ORDER BY ANIMAL_ID ASC"
      ],
      "metadata": {
        "id": "rgq5whRbSeEf"
      },
      "execution_count": null,
      "outputs": []
    },
    {
      "cell_type": "markdown",
      "source": [
        "# 여러 기준으로 정렬하기\n",
        "- https://school.programmers.co.kr/learn/courses/30/lessons/59404"
      ],
      "metadata": {
        "id": "qqHKZlrHSd5p"
      }
    },
    {
      "cell_type": "code",
      "source": [
        "SELECT ANIMAL_ID, NAME, DATETIME FROM ANIMAL_INS\n",
        "ORDER BY NAME ASC, DATETIME DESC"
      ],
      "metadata": {
        "id": "Xn5YUTHaSdwO"
      },
      "execution_count": null,
      "outputs": []
    },
    {
      "cell_type": "markdown",
      "source": [
        "# 상위 n개 레코드(LIMIT {number})\n",
        "- https://school.programmers.co.kr/learn/courses/30/lessons/59405"
      ],
      "metadata": {
        "id": "UtFV9JFESc17"
      }
    },
    {
      "cell_type": "code",
      "source": [
        "SELECT NAME FROM ANIMAL_INS \n",
        "ORDER BY DATETIME ASC\n",
        "LIMIT 1"
      ],
      "metadata": {
        "id": "BkGPWiABScpH"
      },
      "execution_count": null,
      "outputs": []
    }
  ]
}