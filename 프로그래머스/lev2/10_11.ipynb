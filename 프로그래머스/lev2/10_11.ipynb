{
  "nbformat": 4,
  "nbformat_minor": 0,
  "metadata": {
    "colab": {
      "provenance": [],
      "authorship_tag": "ABX9TyNMxgObZ60PiWxV+NDUV2ii",
      "include_colab_link": true
    },
    "kernelspec": {
      "name": "python3",
      "display_name": "Python 3"
    },
    "language_info": {
      "name": "python"
    }
  },
  "cells": [
    {
      "cell_type": "markdown",
      "metadata": {
        "id": "view-in-github",
        "colab_type": "text"
      },
      "source": [
        "<a href=\"https://colab.research.google.com/github/InKyuHwang001/Algorithm/blob/master/10_11.ipynb\" target=\"_parent\"><img src=\"https://colab.research.google.com/assets/colab-badge.svg\" alt=\"Open In Colab\"/></a>"
      ]
    },
    {
      "cell_type": "markdown",
      "source": [
        "# 피로도\n",
        "- https://school.programmers.co.kr/learn/courses/30/lessons/87946"
      ],
      "metadata": {
        "id": "uVcT0jjua8R2"
      }
    },
    {
      "cell_type": "code",
      "execution_count": null,
      "metadata": {
        "id": "mpO9rxmuIBw9"
      },
      "outputs": [],
      "source": [
        "from itertools import permutations\n",
        "def solution(k, dungeons):\n",
        "    dungeons_count = len(dungeons)\n",
        "    dlist = [ i for i in range(dungeons_count)]\n",
        "    for i in range(dungeons_count,0,-1):\n",
        "        for cases in permutations(dlist, i):\n",
        "            now = k\n",
        "            check = True\n",
        "            for case in cases:\n",
        "                if now < dungeons[case][0]:\n",
        "                    check = False\n",
        "                    break\n",
        "                else:\n",
        "                    now -= dungeons[case][1]\n",
        "            if check:\n",
        "                return i"
      ]
    }
  ]
}