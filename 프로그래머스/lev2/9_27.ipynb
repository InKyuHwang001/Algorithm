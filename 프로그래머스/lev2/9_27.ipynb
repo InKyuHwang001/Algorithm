{
  "nbformat": 4,
  "nbformat_minor": 0,
  "metadata": {
    "colab": {
      "provenance": [],
      "authorship_tag": "ABX9TyNG/eztiWF3sLW7UWJ4T/yp",
      "include_colab_link": true
    },
    "kernelspec": {
      "name": "python3",
      "display_name": "Python 3"
    },
    "language_info": {
      "name": "python"
    }
  },
  "cells": [
    {
      "cell_type": "markdown",
      "metadata": {
        "id": "view-in-github",
        "colab_type": "text"
      },
      "source": [
        "<a href=\"https://colab.research.google.com/github/InKyuHwang001/Algorithm/blob/master/9_27.ipynb\" target=\"_parent\"><img src=\"https://colab.research.google.com/assets/colab-badge.svg\" alt=\"Open In Colab\"/></a>"
      ]
    },
    {
      "cell_type": "markdown",
      "source": [
        "# 괄호 회전하기\n",
        "- https://school.programmers.co.kr/learn/courses/30/lessons/76502"
      ],
      "metadata": {
        "id": "acyhg4hZjY4L"
      }
    },
    {
      "cell_type": "code",
      "execution_count": null,
      "metadata": {
        "id": "pDmptzkqjEYP"
      },
      "outputs": [],
      "source": [
        "#우선 리스트로 변경\n",
        "#리스트의 길이만킅 for문을 돌려 리스트 회전 \n",
        "# 스택에 아무것도 없으면 괄호를 추가 같으면 제거\n",
        "# 만약에 마지막에 있는 문자가 다르면 추가 \n",
        "# 길이가 0이면 추가\n",
        "# for문 다 돌았는데 길이 0 이면 정답하나 추가\n",
        "# 첫번째꺼 맨뒤로 보내고 다시 위에꺼 반복\n",
        "\n",
        "\n",
        "def solution(s):\n",
        "    answer = 0\n",
        "    tmp = list(s)\n",
        "    for _ in range(len(s)):\n",
        "        stack=[]\n",
        "        for i in range(len(tmp)):\n",
        "            if len(stack)>0:\n",
        "                if stack[-1] == \"(\" and tmp[i] == \")\":\n",
        "                    stack.pop()\n",
        "                elif stack[-1] == \"{\" and tmp[i] == \"}\":\n",
        "                    stack.pop()\n",
        "                elif stack[-1] == \"[\" and tmp[i] == \"]\":\n",
        "                    stack.pop()\n",
        "                else: \n",
        "                    stack.append(tmp[i])\n",
        "            else:\n",
        "                stack.append(tmp[i])\n",
        "        if len(stack) == 0:\n",
        "            answer += 1\n",
        "        tmp.append(tmp.pop(0))\n",
        "    return answer"
      ]
    },
    {
      "cell_type": "code",
      "source": [
        "def solution(s):\n",
        "    count = 0\n",
        "    for _ in range(len(s)):\n",
        "        stack = []\n",
        "        for j in s:\n",
        "            if not stack:\n",
        "                stack.append(j)\n",
        "                continue\n",
        "            if stack[-1] == '[' and j == ']':\n",
        "                stack.pop()\n",
        "            elif stack[-1] == '{' and j == '}':\n",
        "                stack.pop()\n",
        "            elif stack[-1] == '(' and j == ')':\n",
        "                stack.pop()\n",
        "            else:\n",
        "                stack.append(j)\n",
        "        s = s[1:] + s[0]\n",
        "        if not stack:\n",
        "            count += 1\n",
        "    return count"
      ],
      "metadata": {
        "id": "KIjcWSmzoecd"
      },
      "execution_count": null,
      "outputs": []
    }
  ]
}