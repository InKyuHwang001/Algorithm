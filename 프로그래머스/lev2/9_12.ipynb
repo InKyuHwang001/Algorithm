{
  "nbformat": 4,
  "nbformat_minor": 0,
  "metadata": {
    "colab": {
      "provenance": [],
      "authorship_tag": "ABX9TyNoWKM7QNgvl9R5+mGMASzr",
      "include_colab_link": true
    },
    "kernelspec": {
      "name": "python3",
      "display_name": "Python 3"
    },
    "language_info": {
      "name": "python"
    }
  },
  "cells": [
    {
      "cell_type": "markdown",
      "metadata": {
        "id": "view-in-github",
        "colab_type": "text"
      },
      "source": [
        "<a href=\"https://colab.research.google.com/github/InKyuHwang001/Algorithm/blob/master/9_12.ipynb\" target=\"_parent\"><img src=\"https://colab.research.google.com/assets/colab-badge.svg\" alt=\"Open In Colab\"/></a>"
      ]
    },
    {
      "cell_type": "markdown",
      "source": [
        "# 최솟값 만들기\n",
        "- https://school.programmers.co.kr/learn/courses/30/lessons/12941"
      ],
      "metadata": {
        "id": "pNH_w8CMWUaG"
      }
    },
    {
      "cell_type": "code",
      "execution_count": null,
      "metadata": {
        "id": "Q1DEB0-aWRxR"
      },
      "outputs": [],
      "source": [
        "def solution(A,B):\n",
        "    answer = 0\n",
        "    A.sort()\n",
        "    B.sort(reverse=True)\n",
        "    for x, y in zip(A,B):\n",
        "        answer += x*y\n",
        "    return answer"
      ]
    },
    {
      "cell_type": "code",
      "source": [
        "def solution(A,B):\n",
        "    return sum(a*b for a, b in zip(sorted(A), sorted(B, reverse = True)))"
      ],
      "metadata": {
        "id": "aCzIzHeyWr_z"
      },
      "execution_count": null,
      "outputs": []
    },
    {
      "cell_type": "markdown",
      "source": [
        "# 이진 변환 반복하기\n",
        "- https://school.programmers.co.kr/learn/courses/30/lessons/70129"
      ],
      "metadata": {
        "id": "EhbS3z4dWsqk"
      }
    },
    {
      "cell_type": "code",
      "source": [
        "def solution(s):\n",
        "    answer = []\n",
        "    cnt=0\n",
        "    ze=0\n",
        "    while True:\n",
        "        if s=='1':\n",
        "            break\n",
        "        ze+=s.count(\"0\")\n",
        "        s=s.replace(\"0\", '')\n",
        "        s=bin(len(s))[2:]\n",
        "        cnt+=1\n",
        "    answer=[cnt, ze]\n",
        "    return answer"
      ],
      "metadata": {
        "id": "Uv0SnQ7CWtXU"
      },
      "execution_count": null,
      "outputs": []
    },
    {
      "cell_type": "code",
      "source": [
        "def solution(s):\n",
        "    a, b = 0, 0\n",
        "    while s != '1':\n",
        "        a += 1\n",
        "        num = s.count('1')\n",
        "        b += len(s) - num\n",
        "        s = bin(num)[2:]\n",
        "    return [a, b]"
      ],
      "metadata": {
        "id": "BbgTTZycWs92"
      },
      "execution_count": null,
      "outputs": []
    }
  ]
}