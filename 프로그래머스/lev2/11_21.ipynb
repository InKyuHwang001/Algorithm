{
  "nbformat": 4,
  "nbformat_minor": 0,
  "metadata": {
    "colab": {
      "provenance": []
    },
    "kernelspec": {
      "name": "python3",
      "display_name": "Python 3"
    },
    "language_info": {
      "name": "python"
    }
  },
  "cells": [
    {
      "cell_type": "markdown",
      "source": [
        "# 두 큐 합 같게 만들기\n",
        "- https://school.programmers.co.kr/learn/courses/30/lessons/118667"
      ],
      "metadata": {
        "id": "GmmTCoKwoIc1"
      }
    },
    {
      "cell_type": "code",
      "execution_count": null,
      "metadata": {
        "id": "rx2NNQLfn7s6"
      },
      "outputs": [],
      "source": [
        "from collections import deque\n",
        "\n",
        "def solution(queue1, queue2):\n",
        "    answer = 0\n",
        "    queue1 = deque(queue1)\n",
        "    queue2 = deque(queue2)\n",
        "    limit = (len(queue1)) * 4\n",
        "    tot1 = sum(queue1)\n",
        "    tot2 = sum(queue2)\n",
        "    total = tot1 + tot2\n",
        "\n",
        "    if total % 2 != 0:\n",
        "        return -1\n",
        "\n",
        "    while True:\n",
        "        if tot1 > tot2:\n",
        "            target = queue1.popleft()\n",
        "            queue2.append(target)\n",
        "            tot1 -= target\n",
        "            tot2 += target\n",
        "            answer += 1\n",
        "        elif tot1 < tot2:\n",
        "            target = queue2.popleft()\n",
        "            queue1.append(target)\n",
        "            tot1 += target\n",
        "            tot2 -= target\n",
        "            answer += 1\n",
        "        else:\n",
        "            break\n",
        "        if answer == limit:\n",
        "            answer = -1\n",
        "            break\n",
        "    return answer"
      ]
    }
  ]
}