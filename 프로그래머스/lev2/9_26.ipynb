{
  "nbformat": 4,
  "nbformat_minor": 0,
  "metadata": {
    "colab": {
      "provenance": [],
      "authorship_tag": "ABX9TyOxaK9zm4JcK955R4eSzNJk",
      "include_colab_link": true
    },
    "kernelspec": {
      "name": "python3",
      "display_name": "Python 3"
    },
    "language_info": {
      "name": "python"
    }
  },
  "cells": [
    {
      "cell_type": "markdown",
      "metadata": {
        "id": "view-in-github",
        "colab_type": "text"
      },
      "source": [
        "<a href=\"https://colab.research.google.com/github/InKyuHwang001/Algorithm/blob/master/9_26.ipynb\" target=\"_parent\"><img src=\"https://colab.research.google.com/assets/colab-badge.svg\" alt=\"Open In Colab\"/></a>"
      ]
    },
    {
      "cell_type": "markdown",
      "source": [
        "# H-Index\n",
        "- https://school.programmers.co.kr/learn/courses/30/lessons/42747"
      ],
      "metadata": {
        "id": "boLMTYesPfRx"
      }
    },
    {
      "cell_type": "code",
      "execution_count": null,
      "metadata": {
        "id": "vli3gHGIPPCL"
      },
      "outputs": [],
      "source": [
        "def solution(citations):\n",
        "    citations.sort()\n",
        "    for idx , citation in enumerate(citations):\n",
        "        if citation >= len(citations) - idx :\n",
        "            return len(citations) - idx\n",
        "    return 0"
      ]
    }
  ]
}