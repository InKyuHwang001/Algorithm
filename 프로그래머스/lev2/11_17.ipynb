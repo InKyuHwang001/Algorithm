{
  "nbformat": 4,
  "nbformat_minor": 0,
  "metadata": {
    "colab": {
      "provenance": [],
      "authorship_tag": "ABX9TyP6v3U1m3lgIpJlICnVdWgO",
      "include_colab_link": true
    },
    "kernelspec": {
      "name": "python3",
      "display_name": "Python 3"
    },
    "language_info": {
      "name": "python"
    }
  },
  "cells": [
    {
      "cell_type": "markdown",
      "metadata": {
        "id": "view-in-github",
        "colab_type": "text"
      },
      "source": [
        "<a href=\"https://colab.research.google.com/github/InKyuHwang001/Algorithm/blob/master/11_17.ipynb\" target=\"_parent\"><img src=\"https://colab.research.google.com/assets/colab-badge.svg\" alt=\"Open In Colab\"/></a>"
      ]
    },
    {
      "cell_type": "markdown",
      "source": [
        "# [3차] 방금그곡\n",
        "- https://school.programmers.co.kr/learn/courses/30/lessons/17683"
      ],
      "metadata": {
        "id": "pyggVxlO5MOA"
      }
    },
    {
      "cell_type": "code",
      "execution_count": null,
      "metadata": {
        "id": "NvGx5v_h4o-n"
      },
      "outputs": [],
      "source": [
        "def solution(m, musicinfos):\n",
        "    answer = None\n",
        "    m = m.replace(\"C#\", \"c\").replace(\"D#\", \"d\").replace(\"F#\", \"f\").replace(\"G#\", \"g\").replace(\"A#\", \"a\")\n",
        "    for musicinfo in musicinfos:\n",
        "        start, end, title, code = musicinfo.split(\",\")\n",
        "        \n",
        "        hour, minute = map(int, start.split(\":\"))\n",
        "        start = hour*60 + minute\n",
        "        \n",
        "        hour, minute = map(int, end.split(\":\"))\n",
        "        end = hour*60 + minute\n",
        "        \n",
        "        duration = end - start\n",
        "        code = code.replace(\"C#\", \"c\").replace(\"D#\", \"d\").replace(\"F#\", \"f\").replace(\"G#\", \"g\").replace(\"A#\", \"a\")\n",
        "        code *= (duration//len(code) + 1)\n",
        "        code = code[:duration]\n",
        "        \n",
        "        if m not in code:\n",
        "            continue\n",
        "        if answer == None or answer[0]<duration or (answer[0] == duration and answer[1] > start):\n",
        "            answer = (duration, start, title)\n",
        "    if answer:\n",
        "        return answer[-1]\n",
        "    return \"(None)\""
      ]
    }
  ]
}