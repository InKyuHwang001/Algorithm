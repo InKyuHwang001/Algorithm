{
  "nbformat": 4,
  "nbformat_minor": 0,
  "metadata": {
    "colab": {
      "provenance": [],
      "authorship_tag": "ABX9TyPNFc8MT507QyTbFZx2dclz",
      "include_colab_link": true
    },
    "kernelspec": {
      "name": "python3",
      "display_name": "Python 3"
    },
    "language_info": {
      "name": "python"
    }
  },
  "cells": [
    {
      "cell_type": "markdown",
      "metadata": {
        "id": "view-in-github",
        "colab_type": "text"
      },
      "source": [
        "<a href=\"https://colab.research.google.com/github/InKyuHwang001/Algorithm/blob/master/11_12~14.ipynb\" target=\"_parent\"><img src=\"https://colab.research.google.com/assets/colab-badge.svg\" alt=\"Open In Colab\"/></a>"
      ]
    },
    {
      "cell_type": "markdown",
      "source": [
        "# [카카오 인턴] 수식 최대화\n",
        "- https://school.programmers.co.kr/learn/courses/30/lessons/67257"
      ],
      "metadata": {
        "id": "xXB_su97Q18l"
      }
    },
    {
      "cell_type": "markdown",
      "source": [
        "eval(): 문자를 수식으로 변환 결과 도출 함수"
      ],
      "metadata": {
        "id": "1NbGWGqoQ9XU"
      }
    },
    {
      "cell_type": "code",
      "execution_count": null,
      "metadata": {
        "id": "WIkS2E-wQ0AU"
      },
      "outputs": [],
      "source": [
        "from itertools import permutations as nPr\n",
        "def solution(expression):\n",
        "    results = []\n",
        "    ops = [\"*\", \"+\", \"-\"]\n",
        "    operators = list(nPr(ops, 3))\n",
        "    tmp = ''\n",
        "    expressions = []\n",
        "    for exp in expression:\n",
        "        if exp.isdigit():\n",
        "            tmp += exp\n",
        "        else:\n",
        "            expressions.append(tmp)\n",
        "            tmp =\"\"\n",
        "            expressions.append(exp)\n",
        "    else:\n",
        "        expressions.append(tmp)\n",
        "    for operator in operators:\n",
        "        expression = expressions.copy()\n",
        "        for ops in operator:\n",
        "            while ops in expression:\n",
        "                idx = expression.index(ops)\n",
        "                expression[idx -1] = str(eval(expression[idx-1]+ops+expression[idx+1]))\n",
        "                del expression[idx: idx+2]\n",
        "        results.append(abs(int(expression[0])))\n",
        "    return max(results)"
      ]
    }
  ]
}