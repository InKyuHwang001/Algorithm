{
  "nbformat": 4,
  "nbformat_minor": 0,
  "metadata": {
    "colab": {
      "provenance": []
    },
    "kernelspec": {
      "name": "python3",
      "display_name": "Python 3"
    },
    "language_info": {
      "name": "python"
    }
  },
  "cells": [
    {
      "cell_type": "markdown",
      "source": [
        "# 줄 서는 방법\n",
        "- https://school.programmers.co.kr/learn/courses/30/lessons/12936"
      ],
      "metadata": {
        "id": "azhyD0xX0zDM"
      }
    },
    {
      "cell_type": "code",
      "source": [
        "from itertools import permutations as nPr\n",
        "def solution(n, k):\n",
        "    nlist = [x for x in range(1, n+1)]\n",
        "    perlis = list(nPr(nlist, n))\n",
        "    perlis.sort()\n",
        "    return perlis[k-1]\n",
        "# 시간초과 수학적으로 들어가봐야 할꺼 같음"
      ],
      "metadata": {
        "id": "0YctchSP0y2W"
      },
      "execution_count": null,
      "outputs": []
    },
    {
      "cell_type": "code",
      "execution_count": null,
      "metadata": {
        "id": "9ftP_ZeU0t38"
      },
      "outputs": [],
      "source": [
        "from math import factorial\n",
        "def solution(n, k):\n",
        "    answer = []\n",
        "    nl = list(range(1,n+1))\n",
        "    while n!=0 :\n",
        "        fact = factorial(n-1)\n",
        "        answer.append(nl.pop((k-1)//fact))\n",
        "        n -= 1\n",
        "        k %= fact\n",
        "    return answer"
      ]
    }
  ]
}