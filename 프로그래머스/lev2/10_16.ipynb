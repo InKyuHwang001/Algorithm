{
  "nbformat": 4,
  "nbformat_minor": 0,
  "metadata": {
    "colab": {
      "provenance": [],
      "authorship_tag": "ABX9TyM6pPQ4bMd7nR3JOUB2r8F/",
      "include_colab_link": true
    },
    "kernelspec": {
      "name": "python3",
      "display_name": "Python 3"
    },
    "language_info": {
      "name": "python"
    }
  },
  "cells": [
    {
      "cell_type": "markdown",
      "metadata": {
        "id": "view-in-github",
        "colab_type": "text"
      },
      "source": [
        "<a href=\"https://colab.research.google.com/github/InKyuHwang001/Algorithm/blob/master/10_16.ipynb\" target=\"_parent\"><img src=\"https://colab.research.google.com/assets/colab-badge.svg\" alt=\"Open In Colab\"/></a>"
      ]
    },
    {
      "cell_type": "markdown",
      "source": [
        "# 다리를 지나는 트럭\n",
        "- https://school.programmers.co.kr/learn/courses/30/lessons/42583"
      ],
      "metadata": {
        "id": "m4z6ljnggE3j"
      }
    },
    {
      "cell_type": "markdown",
      "source": [
        "어떻게 2초동안 머무르는 것을 코드로 구현하지?\n",
        "- 브릿지를 리스트로 만들어 보자"
      ],
      "metadata": {
        "id": "B5Q-UFuAjX77"
      }
    },
    {
      "cell_type": "code",
      "execution_count": null,
      "metadata": {
        "id": "h07N2rFXgB-C"
      },
      "outputs": [],
      "source": [
        "from collections import deque\n",
        "def solution(bridge_length, weight, truck_weights):\n",
        "    time = 0\n",
        "    truck_weights=deque(truck_weights)\n",
        "    bridge=deque([0 for _ in range(bridge_length)])\n",
        "    bridge_weight=0\n",
        "    \n",
        "    while bridge: #bridge=[0,0], out=0\n",
        "        out=bridge.popleft()\n",
        "        bridge_weight -= out\n",
        "        time += 1\n",
        "        if truck_weights:\n",
        "            if bridge_weight + truck_weights[0] <= weight:\n",
        "                left= truck_weights.popleft()\n",
        "                bridge_weight += left\n",
        "                bridge.append(left)\n",
        "            else:\n",
        "                bridge.append(0)\n",
        "    return time"
      ]
    }
  ]
}