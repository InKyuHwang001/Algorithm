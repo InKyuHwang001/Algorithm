{
  "nbformat": 4,
  "nbformat_minor": 0,
  "metadata": {
    "colab": {
      "provenance": [],
      "authorship_tag": "ABX9TyODFM0G0Y0r9KnN3DsRc8Vz",
      "include_colab_link": true
    },
    "kernelspec": {
      "name": "python3",
      "display_name": "Python 3"
    },
    "language_info": {
      "name": "python"
    }
  },
  "cells": [
    {
      "cell_type": "markdown",
      "metadata": {
        "id": "view-in-github",
        "colab_type": "text"
      },
      "source": [
        "<a href=\"https://colab.research.google.com/github/InKyuHwang001/Algorithm/blob/master/11_01_%EC%8A%A4%ED%83%9D%ED%81%90%EB%B3%B5%EC%8A%B5.ipynb\" target=\"_parent\"><img src=\"https://colab.research.google.com/assets/colab-badge.svg\" alt=\"Open In Colab\"/></a>"
      ]
    },
    {
      "cell_type": "markdown",
      "source": [
        "# 같은 숫자는 싫어"
      ],
      "metadata": {
        "id": "U6SH_Gc2k3wS"
      }
    },
    {
      "cell_type": "code",
      "source": [
        "from collections import deque\n",
        "def solution(arr):\n",
        "    ans = []\n",
        "    arr = deque(arr)\n",
        "    ans.append(arr.popleft())\n",
        "    while arr:\n",
        "        a = arr.popleft()\n",
        "        if (ans[-1] != a):\n",
        "            ans.append(a)\n",
        "    return ans"
      ],
      "metadata": {
        "id": "uvZWRoyKk3qu"
      },
      "execution_count": null,
      "outputs": []
    },
    {
      "cell_type": "markdown",
      "source": [
        "# 올바른 괄호"
      ],
      "metadata": {
        "id": "rCUsDHXgk3iL"
      }
    },
    {
      "cell_type": "code",
      "source": [
        "def solution(s):\n",
        "    answer = True\n",
        "    tmp=0\n",
        "    for x in s:\n",
        "        if x ==\"(\":\n",
        "            tmp += 1\n",
        "        else:\n",
        "            tmp -= 1\n",
        "        if tmp <0:\n",
        "            return False\n",
        "    if tmp != 0:\n",
        "        return False\n",
        "    return True"
      ],
      "metadata": {
        "id": "K1vE02kBk3Og"
      },
      "execution_count": null,
      "outputs": []
    },
    {
      "cell_type": "markdown",
      "source": [
        "# 기능개발\n"
      ],
      "metadata": {
        "id": "Hu1QyPUXk3Gl"
      }
    },
    {
      "cell_type": "code",
      "source": [
        "from collections import deque\n",
        "def solution(progresses, speeds):\n",
        "    answer = []\n",
        "    progresses=deque(progresses)\n",
        "    speeds=deque(speeds)\n",
        "    cnt = 0\n",
        "    time = 0\n",
        "    while progresses:\n",
        "        if (progresses[0] + speeds[0]*time) >=100:\n",
        "            progresses.popleft()\n",
        "            speeds.popleft()\n",
        "            cnt += 1\n",
        "        else:\n",
        "            if cnt > 0:\n",
        "                answer.append(cnt)\n",
        "                cnt = 0\n",
        "            time += 1\n",
        "    answer.append(cnt)\n",
        "    return answer"
      ],
      "metadata": {
        "id": "3Ltm9W9Ok29E"
      },
      "execution_count": null,
      "outputs": []
    },
    {
      "cell_type": "markdown",
      "source": [
        "# 프린터"
      ],
      "metadata": {
        "id": "FzMRsmV5k20i"
      }
    },
    {
      "cell_type": "code",
      "source": [
        "def solution(priorities, location):\n",
        "    ans = 0\n",
        "    printer = [ [i,x] for i,x in enumerate(priorities)]\n",
        "    while printer:\n",
        "        job = printer.pop(0)\n",
        "        if any(job[1] < otherjob[1] for otherjob in printer) :\n",
        "            printer.append(job)\n",
        "        else:\n",
        "            ans +=1\n",
        "            if job[0] == location:\n",
        "                break\n",
        "    return ans"
      ],
      "metadata": {
        "id": "u01No4nnk2sG"
      },
      "execution_count": null,
      "outputs": []
    },
    {
      "cell_type": "markdown",
      "source": [
        "# 다리를 지나는 트럭"
      ],
      "metadata": {
        "id": "NzPLZM7Ak2jc"
      }
    },
    {
      "cell_type": "code",
      "source": [
        "def solution(bridge_length, weight, truck_weights):\n",
        "    q=[0]*bridge_length\n",
        "    sec=0\n",
        "    while q:\n",
        "        sec+=1\n",
        "        q.pop(0)\n",
        "        if truck_weights:\n",
        "            if sum(q)+truck_weights[0]<=weight:\n",
        "                q.append(truck_weights.pop(0))\n",
        "            else:\n",
        "                q.append(0)\n",
        "    return sec"
      ],
      "metadata": {
        "id": "yR7zx_MSk2bx"
      },
      "execution_count": null,
      "outputs": []
    },
    {
      "cell_type": "markdown",
      "source": [
        "# 주식가격\n"
      ],
      "metadata": {
        "id": "O3HmPumDk2Qa"
      }
    },
    {
      "cell_type": "code",
      "execution_count": null,
      "metadata": {
        "id": "U9n7MkrAkvgX"
      },
      "outputs": [],
      "source": [
        "def solution(prices):\n",
        "    answer = []\n",
        "    \n",
        "    while prices:\n",
        "        p0=prices.pop(0)\n",
        "        cnt=0\n",
        "        for price in prices:\n",
        "            cnt += 1\n",
        "            if price< p0:\n",
        "                break\n",
        "        answer.append(cnt)\n",
        "        \n",
        "    return answer"
      ]
    }
  ]
}