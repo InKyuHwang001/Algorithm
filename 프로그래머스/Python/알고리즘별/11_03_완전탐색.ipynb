{
  "nbformat": 4,
  "nbformat_minor": 0,
  "metadata": {
    "colab": {
      "provenance": [],
      "authorship_tag": "ABX9TyPf8SudG6bRIFKONTovh3MK",
      "include_colab_link": true
    },
    "kernelspec": {
      "name": "python3",
      "display_name": "Python 3"
    },
    "language_info": {
      "name": "python"
    }
  },
  "cells": [
    {
      "cell_type": "markdown",
      "metadata": {
        "id": "view-in-github",
        "colab_type": "text"
      },
      "source": [
        "<a href=\"https://colab.research.google.com/github/InKyuHwang001/Algorithm/blob/master/11_03_%EC%99%84%EC%A0%84%ED%83%90%EC%83%89.ipynb\" target=\"_parent\"><img src=\"https://colab.research.google.com/assets/colab-badge.svg\" alt=\"Open In Colab\"/></a>"
      ]
    },
    {
      "cell_type": "markdown",
      "source": [
        "# 최소직사각형"
      ],
      "metadata": {
        "id": "fihQJ-XAgqi8"
      }
    },
    {
      "cell_type": "code",
      "execution_count": null,
      "metadata": {
        "id": "tz8_f3LefALB"
      },
      "outputs": [],
      "source": [
        "def solution(sizes):\n",
        "    ans = 0\n",
        "    s = []\n",
        "    g = []\n",
        "    for size in sizes:\n",
        "        x, y = size\n",
        "        s.append(max(x,y))\n",
        "        g.append(min(x,y))\n",
        "    ans = max(s)*max(g)    \n",
        "            \n",
        "    return ans"
      ]
    },
    {
      "cell_type": "markdown",
      "source": [
        "# 모의고사"
      ],
      "metadata": {
        "id": "UVzKZrGfiVMp"
      }
    },
    {
      "cell_type": "code",
      "source": [
        "def solution(answers):\n",
        "    ans = []\n",
        "    li=[0,0,0]\n",
        "    a1=[1, 2, 3, 4, 5]\n",
        "    a2=[2, 1, 2, 3, 2, 4, 2, 5]\n",
        "    a3=[3, 3, 1, 1, 2, 2, 4, 4, 5, 5]\n",
        "    for idx, answer in enumerate(answers):\n",
        "        if answer == a1[idx%len(a1)]:\n",
        "            li[0] += 1\n",
        "        if answer == a2[idx%len(a2)]:\n",
        "            li[1] += 1\n",
        "        if answer == a3[idx%len(a3)]:\n",
        "            li[2] += 1\n",
        "    \n",
        "    max_ = max(li)\n",
        "    for i in range(3):\n",
        "        if max_ == li[i]:\n",
        "            ans.append((i+1))\n",
        "    return ans"
      ],
      "metadata": {
        "id": "zWOIToC_iVjI"
      },
      "execution_count": null,
      "outputs": []
    },
    {
      "cell_type": "markdown",
      "source": [
        "# 소수 찾기"
      ],
      "metadata": {
        "id": "kCn0fSFci-YC"
      }
    },
    {
      "cell_type": "code",
      "source": [
        "from itertools import permutations\n",
        "\n",
        "def solution(numbers):\n",
        "    answer = []                                   \n",
        "    nums = [n for n in numbers]                  \n",
        "    per = []                                      \n",
        "    for i in range(1, len(numbers)+1):            \n",
        "        per += list(permutations(nums, i))        \n",
        "    new_nums =[int((\"\").join(p)) for p in per]\n",
        "    new_nums = list(set(new_nums))\n",
        "    for n in new_nums:                            \n",
        "        if n < 2:                            \n",
        "            continue\n",
        "        check = True            \n",
        "        for i in range(2,int(n**0.5) + 1):       \n",
        "            if n % i == 0:                    \n",
        "                check = False\n",
        "                break\n",
        "        if check:\n",
        "            answer.append(n)                      \n",
        "    return len(answer) "
      ],
      "metadata": {
        "id": "jydj3LnHi-yf"
      },
      "execution_count": null,
      "outputs": []
    },
    {
      "cell_type": "markdown",
      "source": [
        "# 카펫"
      ],
      "metadata": {
        "id": "KeGdOKZYlxE-"
      }
    },
    {
      "cell_type": "code",
      "source": [
        "def solution(brown, yellow):\n",
        "    answer = []\n",
        "    \n",
        "    for i in range(1, yellow+1):\n",
        "        yx = 0\n",
        "        yy = 0\n",
        "        if yellow % i == 0:\n",
        "            yx = i\n",
        "            yy = yellow / i\n",
        "            \n",
        "        if (yy+yx+2)*2 == brown:\n",
        "            return [yy+2,yx+2]"
      ],
      "metadata": {
        "id": "GrQdfcSMlxlU"
      },
      "execution_count": null,
      "outputs": []
    },
    {
      "cell_type": "markdown",
      "source": [
        "# 피로도"
      ],
      "metadata": {
        "id": "A9__S5f0mDVz"
      }
    },
    {
      "cell_type": "code",
      "source": [
        "from itertools import permutations\n",
        "def solution(k, dungeons):\n",
        "    dungeons_count = len(dungeons)\n",
        "    dlist = [ i for i in range(dungeons_count)]\n",
        "    for i in range(dungeons_count,0,-1):\n",
        "        for cases in permutations(dlist, i):\n",
        "            now = k\n",
        "            check = True\n",
        "            for case in cases:\n",
        "                if now < dungeons[case][0]:\n",
        "                    check = False\n",
        "                    break\n",
        "                else:\n",
        "                    now -= dungeons[case][1]\n",
        "            if check:\n",
        "                return i"
      ],
      "metadata": {
        "id": "iKbvfxRNmEYZ"
      },
      "execution_count": null,
      "outputs": []
    },
    {
      "cell_type": "markdown",
      "source": [
        "# 전력망을 둘로 나누기"
      ],
      "metadata": {
        "id": "5ifTnfWJmGoi"
      }
    },
    {
      "cell_type": "code",
      "source": [
        "from collections import deque\n",
        "\n",
        "def bfs(node, tree, visited, wire, cnt):\n",
        "    queue = deque()\n",
        "    queue.append([node, tree, visited, wire])\n",
        "    visited[node] = True\n",
        "\n",
        "    while queue:\n",
        "        node, tree, visited, wire = queue.popleft()\n",
        "        cnt += 1\n",
        "\n",
        "        for i in tree[node]:\n",
        "            if not ((node == wire[0] and i == wire[1]) or (node == wire[1] and i == wire[0])):\n",
        "                if not visited[i]:\n",
        "                    visited[i] = True\n",
        "                    queue.append([i, tree, visited, wire])\n",
        "\n",
        "    return cnt\n",
        "\n",
        "\n",
        "def solution(n, wires):\n",
        "    answer = 100000\n",
        "    tree = [[] for _ in range(n + 1)]\n",
        "\n",
        "    for wire in wires:\n",
        "        a, b = wire\n",
        "        tree[a].append(b)\n",
        "        tree[b].append(a)\n",
        "\n",
        "    for wire in wires:\n",
        "        visited = [False] * (n + 1)\n",
        "        temp = []\n",
        "        for i in range(1, n + 1):\n",
        "            if not visited[i]:\n",
        "                cnt = bfs(i, tree, visited, wire, 0)\n",
        "                temp.append(cnt)\n",
        "\n",
        "        answer = min(answer, abs(temp[0] - temp[1]))\n",
        "\n",
        "    return answer"
      ],
      "metadata": {
        "id": "JqtF2MAlmG6S"
      },
      "execution_count": null,
      "outputs": []
    },
    {
      "cell_type": "markdown",
      "source": [
        "# 모음 사전"
      ],
      "metadata": {
        "id": "QCGzhmCcmRTG"
      }
    },
    {
      "cell_type": "code",
      "source": [
        "from itertools import product\n",
        "def solution(word):\n",
        "    words=[]\n",
        "    for i in range(1,6):\n",
        "        for c in product([ 'A', 'E', 'I', 'O', 'U'], repeat=i):\n",
        "            words.append(''.join(list(c)))\n",
        "    words.sort()\n",
        "    return words.index(word)+1"
      ],
      "metadata": {
        "id": "a5RfkjdEmRlb"
      },
      "execution_count": null,
      "outputs": []
    }
  ]
}