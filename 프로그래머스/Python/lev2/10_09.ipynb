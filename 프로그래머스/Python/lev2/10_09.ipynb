{
  "nbformat": 4,
  "nbformat_minor": 0,
  "metadata": {
    "colab": {
      "provenance": [],
      "authorship_tag": "ABX9TyP8xZUbWPVy/ra2FHVaacP/",
      "include_colab_link": true
    },
    "kernelspec": {
      "name": "python3",
      "display_name": "Python 3"
    },
    "language_info": {
      "name": "python"
    }
  },
  "cells": [
    {
      "cell_type": "markdown",
      "metadata": {
        "id": "view-in-github",
        "colab_type": "text"
      },
      "source": [
        "<a href=\"https://colab.research.google.com/github/InKyuHwang001/Algorithm/blob/master/10_09.ipynb\" target=\"_parent\"><img src=\"https://colab.research.google.com/assets/colab-badge.svg\" alt=\"Open In Colab\"/></a>"
      ]
    },
    {
      "cell_type": "markdown",
      "source": [
        "# 주차 요금 계산\n",
        "- https://school.programmers.co.kr/learn/courses/30/lessons/92341"
      ],
      "metadata": {
        "id": "iLCB1hItYHjZ"
      }
    },
    {
      "cell_type": "code",
      "execution_count": null,
      "metadata": {
        "id": "DDz0nYsZYEjy"
      },
      "outputs": [],
      "source": [
        "import math\n",
        "def solution(fees, records):\n",
        "    answer = []\n",
        "    car_times = {}\n",
        "    car_dict = {}\n",
        "    last_time = 23*60+59\n",
        "    for record in records:\n",
        "        times,car_number,state = record.split()\n",
        "        hour,min = times.split(':')\n",
        "        cur_time = int(hour)*60 + int(min)\n",
        "        if state == 'IN':\n",
        "            car_dict[car_number] = cur_time\n",
        "        else:\n",
        "            input_time = car_dict[car_number]\n",
        "            if car_times.get(car_number):\n",
        "                car_times[car_number] += (cur_time-input_time)\n",
        "            else:\n",
        "                car_times[car_number] = (cur_time-input_time)\n",
        "            del car_dict[car_number]\n",
        "    if car_dict:\n",
        "        for car_number in car_dict:\n",
        "            input_time = car_dict[car_number]\n",
        "            if car_times.get(car_number):\n",
        "                car_times[car_number] += (last_time-input_time)\n",
        "            else:\n",
        "                car_times[car_number] = (last_time-input_time)\n",
        "    for car_number in sorted(car_times.keys()):\n",
        "        total_time = car_times[car_number]\n",
        "        pay = fees[1]\n",
        "        if total_time - fees[0]>0:\n",
        "            remain_time = total_time - fees[0]\n",
        "            pay += math.ceil(remain_time/fees[2]) * fees[3]\n",
        "        answer.append(pay)\n",
        "    return answer"
      ]
    }
  ]
}