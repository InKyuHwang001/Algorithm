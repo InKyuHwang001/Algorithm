{
  "nbformat": 4,
  "nbformat_minor": 0,
  "metadata": {
    "colab": {
      "provenance": [],
      "authorship_tag": "ABX9TyMOeqeOuQ/9KzQQ/iFIn9YP",
      "include_colab_link": true
    },
    "kernelspec": {
      "name": "python3",
      "display_name": "Python 3"
    },
    "language_info": {
      "name": "python"
    }
  },
  "cells": [
    {
      "cell_type": "markdown",
      "metadata": {
        "id": "view-in-github",
        "colab_type": "text"
      },
      "source": [
        "<a href=\"https://colab.research.google.com/github/InKyuHwang001/Algorithm/blob/master/10_21.ipynb\" target=\"_parent\"><img src=\"https://colab.research.google.com/assets/colab-badge.svg\" alt=\"Open In Colab\"/></a>"
      ]
    },
    {
      "cell_type": "markdown",
      "source": [
        "# 모음사전\n",
        "- https://school.programmers.co.kr/learn/courses/30/lessons/84512"
      ],
      "metadata": {
        "id": "rhSqNbNEh0up"
      }
    },
    {
      "cell_type": "code",
      "execution_count": null,
      "metadata": {
        "id": "soSKHy1thtna"
      },
      "outputs": [],
      "source": [
        "from itertools import product\n",
        "def solution(word):\n",
        "    words=[]\n",
        "    for i in range(1,6):\n",
        "        for c in product([ 'A', 'E', 'I', 'O', 'U'], repeat=i):\n",
        "            words.append(''.join(list(c)))\n",
        "    words.sort()\n",
        "    return words.index(word)+1"
      ]
    }
  ]
}