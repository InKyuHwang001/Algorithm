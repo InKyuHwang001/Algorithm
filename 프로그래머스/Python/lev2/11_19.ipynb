{
  "nbformat": 4,
  "nbformat_minor": 0,
  "metadata": {
    "colab": {
      "provenance": []
    },
    "kernelspec": {
      "name": "python3",
      "display_name": "Python 3"
    },
    "language_info": {
      "name": "python"
    }
  },
  "cells": [
    {
      "cell_type": "markdown",
      "source": [
        "# 순위 검색\n",
        "- https://school.programmers.co.kr/learn/courses/30/lessons/72412"
      ],
      "metadata": {
        "id": "rw_-bUrCKfSf"
      }
    },
    {
      "cell_type": "code",
      "execution_count": null,
      "metadata": {
        "id": "u9nHYN3AKcmE"
      },
      "outputs": [],
      "source": [
        "from itertools import combinations\n",
        "from bisect import bisect_left\n",
        "\n",
        "def solution(info, query):\n",
        "    answer = []\n",
        "    info_dict = {}\n",
        "    for i in range(len(info)):\n",
        "        infol = info[i].split()  # info안의 문자열을 공백을 기준으로 분리\n",
        "        mykey = infol[:-1]  # info의 점수제외부분을 key로 분류\n",
        "        myval = infol[-1]  # info의 점수부분을 value로 분류\n",
        "        for j in range(5):  # key들로 만들 수 있는 모든 조합 생성\n",
        "            for c in combinations(mykey, j):\n",
        "                tmp = ''.join(c)\n",
        "                if tmp in info_dict:\n",
        "                    info_dict[tmp].append(int(myval))  # 그 조합의 key값에 점수 추가\n",
        "                else:\n",
        "                    info_dict[tmp] = [int(myval)]\n",
        "                    \n",
        "    for k in info_dict:\n",
        "        info_dict[k].sort()  # dict안의 조합들을 점수순으로 정렬\n",
        "        \n",
        "    for qu in query:  # query도 마찬가지로 key와 value로 분리\n",
        "        myqu = qu.split(' ')\n",
        "        qu_key = myqu[:-1]\n",
        "        qu_val = myqu[-1]\n",
        "        while 'and' in qu_key:  # and 제거\n",
        "            qu_key.remove('and')\n",
        "        while '-' in qu_key:  # - 제거\n",
        "            qu_key.remove('-')\n",
        "        qu_key = ''.join(qu_key)  # dict의 key처럼 문자열로 변경\n",
        "        if qu_key in info_dict:  # query의 key가 info_dict의 key로 존재하면\n",
        "            scores = info_dict[qu_key]\n",
        "            if scores:  # score리스트에 값이 존재하면\n",
        "                enter = bisect_left(scores, int(qu_val))\n",
        "                answer.append(len(scores) - enter)\n",
        "        else:\n",
        "            answer.append(0)\n",
        "\n",
        "    return answer"
      ]
    }
  ]
}