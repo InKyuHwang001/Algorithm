{
  "nbformat": 4,
  "nbformat_minor": 0,
  "metadata": {
    "colab": {
      "provenance": [],
      "authorship_tag": "ABX9TyMQZ0z1qme6XizMuT1FYlXX",
      "include_colab_link": true
    },
    "kernelspec": {
      "name": "python3",
      "display_name": "Python 3"
    },
    "language_info": {
      "name": "python"
    }
  },
  "cells": [
    {
      "cell_type": "markdown",
      "metadata": {
        "id": "view-in-github",
        "colab_type": "text"
      },
      "source": [
        "<a href=\"https://colab.research.google.com/github/InKyuHwang001/Algorithm/blob/master/11_07.ipynb\" target=\"_parent\"><img src=\"https://colab.research.google.com/assets/colab-badge.svg\" alt=\"Open In Colab\"/></a>"
      ]
    },
    {
      "cell_type": "markdown",
      "source": [
        "# 할인 행사\n",
        "- https://school.programmers.co.kr/learn/courses/30/lessons/131127"
      ],
      "metadata": {
        "id": "O_pDvsPdDTmG"
      }
    },
    {
      "cell_type": "markdown",
      "source": [
        "## 나의 풀이"
      ],
      "metadata": {
        "id": "WSP3qTLwDplw"
      }
    },
    {
      "cell_type": "code",
      "execution_count": null,
      "metadata": {
        "id": "kKjUTALdVL_9"
      },
      "outputs": [],
      "source": [
        "def solution(want, number, discount):\n",
        "    ans = 0\n",
        "    \n",
        "    for i in range(len(discount)-9):\n",
        "    #첫날부터 루프로 돌면서 구한다.\n",
        "        n = number.copy()\n",
        "        for j in range(i,i+10):\n",
        "            #만약 첫날의 물건이 want에 있다면 number의 수를 줄인다.            \n",
        "            if discount[j] in want:\n",
        "                n[want.index(discount[j])] -= 1\n",
        "        #만약 다 결과number가 모두 0이하이면 cnt+=1을 한다.\n",
        "        if any(z for z in n) == 0:\n",
        "            ans += 1\n",
        "    return ans"
      ]
    },
    {
      "cell_type": "markdown",
      "source": [
        "### any와 all\n",
        "- any는 or 느낌\n",
        "- all은 and 느낌\n",
        "```\n",
        ">>> any([False, False, False])\n",
        "False\n",
        ">>> any([False, True, False])\n",
        "True\n",
        ">>> all([False, True, False])\n",
        "False\n",
        ">>> all([True, True, True])\n",
        "True\n",
        "```\n"
      ],
      "metadata": {
        "id": "Kai3Xe5-D-0a"
      }
    },
    {
      "cell_type": "markdown",
      "source": [
        "## 다른사람 풀이"
      ],
      "metadata": {
        "id": "8uytuwvVErqf"
      }
    },
    {
      "cell_type": "code",
      "source": [
        "from collections import Counter\n",
        "def solution(want, number, discount):\n",
        "    answer = 0\n",
        "    dic = {}\n",
        "    for i in range(len(want)):\n",
        "        dic[want[i]] = number[i]\n",
        "\n",
        "    for i in range(len(discount)-9):\n",
        "        if dic == Counter(discount[i:i+10]): \n",
        "            answer += 1\n",
        "\n",
        "    return answer"
      ],
      "metadata": {
        "id": "WhYqR_qnE0AZ"
      },
      "execution_count": null,
      "outputs": []
    }
  ]
}