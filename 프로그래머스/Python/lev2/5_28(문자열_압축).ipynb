{
  "nbformat": 4,
  "nbformat_minor": 0,
  "metadata": {
    "colab": {
      "name": "5/28(문자열 압축).ipynb",
      "provenance": [],
      "collapsed_sections": []
    },
    "kernelspec": {
      "name": "python3",
      "display_name": "Python 3"
    },
    "language_info": {
      "name": "python"
    }
  },
  "cells": [
    {
      "cell_type": "markdown",
      "source": [
        "# 문자열 압축\n",
        "- https://programmers.co.kr/learn/courses/30/lessons/60057"
      ],
      "metadata": {
        "id": "_v0Ea0g81rOC"
      }
    },
    {
      "cell_type": "code",
      "source": [
        "def solution(s):\n",
        "    answer = len(s)\n",
        "    \n",
        "    # 완전 탐색\n",
        "    for step in range(1, len(s)+1):\n",
        "        compressed = ''\n",
        "        arr = []\n",
        "        \n",
        "        for start in range(0, len(s), step):\n",
        "            end = start + step\n",
        "            sliced = s[start:end]\n",
        "\n",
        "            if start == 0:\n",
        "                arr.append(sliced)\n",
        "                \n",
        "            else:\n",
        "                if arr[-1] != sliced: # 중복 문자열을 체크하는 것이기 때문에 0이어도 무관\n",
        "                    if len(arr) == 1:\n",
        "                        compressed += f'{arr[-1]}'\n",
        "                    else:\n",
        "                        compressed += f'{len(arr)}{arr[-1]}'\n",
        "                    arr = [] # arr flushing\n",
        "                \n",
        "                arr.append(sliced)\n",
        "        \n",
        "        if arr: # 배열이 비어있지 않다면\n",
        "            if len(arr) == 1:\n",
        "                compressed += f'{arr[-1]}'\n",
        "            else:\n",
        "                compressed += f'{len(arr)}{arr[-1]}'\n",
        "        \n",
        "        answer = min([len(compressed), answer])\n",
        "    \n",
        "    return answer"
      ],
      "metadata": {
        "id": "8PYsAAyN9i8Y"
      },
      "execution_count": null,
      "outputs": []
    },
    {
      "cell_type": "code",
      "source": [
        "def solution(s):\n",
        "    answer = len(s)\n",
        "    for x in range(1, int(len(s)/2)+1):\n",
        "        d = 0\n",
        "        comp = ''\n",
        "        c = 1\n",
        "        for i in range(0, len(s), x):\n",
        "            temp = s[i:i+x]\n",
        "            if comp == temp:\n",
        "                c += 1\n",
        "            elif comp != temp:\n",
        "                d += len(temp)\n",
        "                if c > 1:\n",
        "                    d += len(\"{}\".format(c))\n",
        "                c = 1\n",
        "                comp = temp\n",
        "        if c > 1:\n",
        "            d += len(\"{}\".format(c))\n",
        "        answer = min(answer, d)\n",
        "    return answer"
      ],
      "metadata": {
        "id": "65U3QQNN9At8"
      },
      "execution_count": null,
      "outputs": []
    }
  ]
}