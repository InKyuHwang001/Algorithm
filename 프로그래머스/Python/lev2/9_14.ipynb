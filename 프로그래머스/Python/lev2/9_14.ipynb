{
  "nbformat": 4,
  "nbformat_minor": 0,
  "metadata": {
    "colab": {
      "provenance": [],
      "authorship_tag": "ABX9TyMtq8lDg0VIEIFlaVcYnzyR",
      "include_colab_link": true
    },
    "kernelspec": {
      "name": "python3",
      "display_name": "Python 3"
    },
    "language_info": {
      "name": "python"
    }
  },
  "cells": [
    {
      "cell_type": "markdown",
      "metadata": {
        "id": "view-in-github",
        "colab_type": "text"
      },
      "source": [
        "<a href=\"https://colab.research.google.com/github/InKyuHwang001/Algorithm/blob/master/9_14.ipynb\" target=\"_parent\"><img src=\"https://colab.research.google.com/assets/colab-badge.svg\" alt=\"Open In Colab\"/></a>"
      ]
    },
    {
      "cell_type": "markdown",
      "source": [
        "# 피보나치 수\n",
        "- https://school.programmers.co.kr/learn/courses/30/lessons/12945"
      ],
      "metadata": {
        "id": "H7njMwFm1c8K"
      }
    },
    {
      "cell_type": "code",
      "source": [
        "def solution(n):\n",
        "    answer = [0,1]\t\t\t\n",
        "    for i in range(2,n+1):\t\n",
        "        answer.append((answer[i-1] + answer[i-2]))\n",
        "    \n",
        "    return answer[-1] % 1234567"
      ],
      "metadata": {
        "id": "nKrLZz201cqe"
      },
      "execution_count": null,
      "outputs": []
    },
    {
      "cell_type": "markdown",
      "source": [
        "# 다음 큰 숫자\n",
        "- https://school.programmers.co.kr/learn/courses/30/lessons/12911"
      ],
      "metadata": {
        "id": "rTQduzyR1dS2"
      }
    },
    {
      "cell_type": "code",
      "execution_count": null,
      "metadata": {
        "id": "hOX5DqOC1X66"
      },
      "outputs": [],
      "source": [
        "def solution(n):\n",
        "    binC1 = bin(n).count('1')\n",
        "    for m in range(n+1,1000001):\n",
        "        if bin(m).count('1') == binC1:\n",
        "            return m"
      ]
    }
  ]
}