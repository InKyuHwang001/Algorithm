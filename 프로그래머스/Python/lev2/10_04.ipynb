{
  "nbformat": 4,
  "nbformat_minor": 0,
  "metadata": {
    "colab": {
      "provenance": [],
      "authorship_tag": "ABX9TyOIxmY/g3A3MjzjG7et0E2Z",
      "include_colab_link": true
    },
    "kernelspec": {
      "name": "python3",
      "display_name": "Python 3"
    },
    "language_info": {
      "name": "python"
    }
  },
  "cells": [
    {
      "cell_type": "markdown",
      "metadata": {
        "id": "view-in-github",
        "colab_type": "text"
      },
      "source": [
        "<a href=\"https://colab.research.google.com/github/InKyuHwang001/Algorithm/blob/master/10_04.ipynb\" target=\"_parent\"><img src=\"https://colab.research.google.com/assets/colab-badge.svg\" alt=\"Open In Colab\"/></a>"
      ]
    },
    {
      "cell_type": "markdown",
      "source": [
        "# 프린터\n",
        "- https://school.programmers.co.kr/learn/courses/30/lessons/42587"
      ],
      "metadata": {
        "id": "kOjl7Uamjb0Y"
      }
    },
    {
      "cell_type": "code",
      "source": [
        "def solution(priorities, location):\n",
        "    # 1. Queue를 만든다.\n",
        "    printer = [(i,p) for i,p in enumerate(priorities)]\n",
        "    turn = 0\n",
        "    while printer:\n",
        "        job = printer.pop(0)\n",
        "        # 2. 나보다 중요한 job이 있으면 뒤에 넣는다.\n",
        "        if any(job[1] < other_job[1] for other_job in printer):\n",
        "            printer.append(job)\n",
        "        else:\n",
        "            turn+=1\n",
        "            # 3. 내가 제일 중요하다면 수행하고 location과 비교한다.\n",
        "            if job[0] == location:\n",
        "                break;  \n",
        "    return turn"
      ],
      "metadata": {
        "id": "aHthzN5aSydL"
      },
      "execution_count": null,
      "outputs": []
    },
    {
      "cell_type": "code",
      "execution_count": null,
      "metadata": {
        "id": "l1dLc4V9jRdA"
      },
      "outputs": [],
      "source": [
        "def solution(p, l):\n",
        "    ans = 0\n",
        "    m = max(p)\n",
        "    while True:\n",
        "        v = p.pop(0)\n",
        "        if m == v:\n",
        "            ans +=1\n",
        "            if l == 0:\n",
        "                break\n",
        "            else:\n",
        "                l -= 1\n",
        "            m = max(p)\n",
        "        else:\n",
        "            p.append(v)\n",
        "            if l == 0:\n",
        "                l = len(p) -1\n",
        "            else:\n",
        "                l -= 1\n",
        "    return ans"
      ]
    }
  ]
}