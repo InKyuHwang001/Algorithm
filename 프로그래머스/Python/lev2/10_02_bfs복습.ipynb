{
  "nbformat": 4,
  "nbformat_minor": 0,
  "metadata": {
    "colab": {
      "provenance": [],
      "authorship_tag": "ABX9TyP45FLgKlcsacchJCoHRqnv",
      "include_colab_link": true
    },
    "kernelspec": {
      "name": "python3",
      "display_name": "Python 3"
    },
    "language_info": {
      "name": "python"
    }
  },
  "cells": [
    {
      "cell_type": "markdown",
      "metadata": {
        "id": "view-in-github",
        "colab_type": "text"
      },
      "source": [
        "<a href=\"https://colab.research.google.com/github/InKyuHwang001/Algorithm/blob/master/10_02_bfs%EB%B3%B5%EC%8A%B5.ipynb\" target=\"_parent\"><img src=\"https://colab.research.google.com/assets/colab-badge.svg\" alt=\"Open In Colab\"/></a>"
      ]
    },
    {
      "cell_type": "markdown",
      "source": [
        "# 타겟 넘버"
      ],
      "metadata": {
        "id": "l8wt_ehShus3"
      }
    },
    {
      "cell_type": "code",
      "source": [
        "from collections import deque\n",
        "def solution(numbers, target):\n",
        "    ans = 0\n",
        "    q=deque()\n",
        "    q.append([numbers[0],0])\n",
        "    q.append([-1*numbers[0],0])\n",
        "    while q:\n",
        "        total, idx = q.popleft()\n",
        "        idx += 1\n",
        "        if idx < len(numbers):\n",
        "            q.append([total+numbers[idx],idx])\n",
        "            q.append([total-numbers[idx],idx])\n",
        "        elif total == target:\n",
        "            ans += 1\n",
        "            \n",
        "    return ans"
      ],
      "metadata": {
        "id": "v2WWs6hRhumC"
      },
      "execution_count": null,
      "outputs": []
    },
    {
      "cell_type": "markdown",
      "source": [
        "# 네트워크"
      ],
      "metadata": {
        "id": "dXxIw3OWm4YX"
      }
    },
    {
      "cell_type": "code",
      "source": [
        "from collections import deque\n",
        "def solution(n, computers):\n",
        "    answer = 0\n",
        "    visited = [False for _ in range(n)]\n",
        "    \n",
        "    for i in range(n):\n",
        "        if visited[i] == False:\n",
        "            visited[i] = True\n",
        "            q=deque()\n",
        "            q.append(i)\n",
        "            while q:\n",
        "                tmp = q.popleft()\n",
        "                visited[tmp] = True\n",
        "                for connect in range(n):\n",
        "                    if connect != tmp and connect[tmp][connect] == 1:\n",
        "                        if visited[connect] == False:\n",
        "                            q.append(connect)\n",
        "            answer += 1\n",
        "            \n",
        "    return answer"
      ],
      "metadata": {
        "id": "ZwlWk6YEm4L-"
      },
      "execution_count": null,
      "outputs": []
    },
    {
      "cell_type": "markdown",
      "source": [
        "# 게임 맵 최단거리"
      ],
      "metadata": {
        "id": "OmAVshy6hucP"
      }
    },
    {
      "cell_type": "code",
      "source": [
        "from collections import deque\n",
        "def solution(maps):\n",
        "    answer = 0\n",
        "    r = len(maps)\n",
        "    c = len(maps[0])\n",
        "    graph = [ [-1 for _ in range(len(maps[0]))] for _ in range(len(maps))]\n",
        "    \n",
        "    q= deque()\n",
        "    q.append([0,0])\n",
        "    graph[0][0] = 1\n",
        "    \n",
        "    dx=[0,1,0,-1]\n",
        "    dy=[1,0,-1,0]\n",
        "    \n",
        "    while q:\n",
        "        y,x = q.popleft()\n",
        "        for i in range(4):\n",
        "            ny = y + dy[i]\n",
        "            nx = x + dx[i]\n",
        "            if 0 <= ny < r and 0 <= nx < c and maps[ny][nx] == 1:\n",
        "                if graph[ny][nx] == -1:\n",
        "                    graph[ny][nx] = graph[y][x] + 1\n",
        "                    q.append([ny, nx])\n",
        "    return graph[-1][-1]"
      ],
      "metadata": {
        "id": "lbDKWoevhuUt"
      },
      "execution_count": null,
      "outputs": []
    }
  ]
}