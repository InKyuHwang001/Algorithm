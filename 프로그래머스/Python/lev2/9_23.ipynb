{
  "nbformat": 4,
  "nbformat_minor": 0,
  "metadata": {
    "colab": {
      "provenance": [],
      "authorship_tag": "ABX9TyOslZHaaVZowzHH+XThXTBO",
      "include_colab_link": true
    },
    "kernelspec": {
      "name": "python3",
      "display_name": "Python 3"
    },
    "language_info": {
      "name": "python"
    }
  },
  "cells": [
    {
      "cell_type": "markdown",
      "metadata": {
        "id": "view-in-github",
        "colab_type": "text"
      },
      "source": [
        "<a href=\"https://colab.research.google.com/github/InKyuHwang001/Algorithm/blob/master/9_23.ipynb\" target=\"_parent\"><img src=\"https://colab.research.google.com/assets/colab-badge.svg\" alt=\"Open In Colab\"/></a>"
      ]
    },
    {
      "cell_type": "markdown",
      "source": [
        "# 점프와 순간 이동\n",
        "- https://school.programmers.co.kr/learn/courses/30/lessons/12980"
      ],
      "metadata": {
        "id": "j93eWt1Hb5vc"
      }
    },
    {
      "cell_type": "markdown",
      "source": [
        "거꾸로 나누면서 나가자"
      ],
      "metadata": {
        "id": "9YofpwF9b5is"
      }
    },
    {
      "cell_type": "code",
      "source": [
        "def solution(n):\n",
        "    ans = 0\n",
        "    \n",
        "    while n>0:\n",
        "        if n%2 == 0:\n",
        "            n /= 2\n",
        "        else:\n",
        "            ans += 1\n",
        "            n -= 1\n",
        "    return ans\n",
        "  # 틀림 시간초과 "
      ],
      "metadata": {
        "id": "8g6jLsoOcEgg"
      },
      "execution_count": null,
      "outputs": []
    },
    {
      "cell_type": "code",
      "execution_count": null,
      "metadata": {
        "id": "v2xLlxYebyKx"
      },
      "outputs": [],
      "source": [
        "def solution(n):\n",
        "    ans = 0\n",
        "    \n",
        "    while n>0:\n",
        "        ans += n%2\n",
        "        n = n//2\n",
        "\n",
        "    return ans"
      ]
    },
    {
      "cell_type": "code",
      "source": [
        "# 딴사람 풀이\n",
        "def solution(n):\n",
        "    return bin(n).count('1')"
      ],
      "metadata": {
        "id": "eavI07Rkc9PT"
      },
      "execution_count": null,
      "outputs": []
    }
  ]
}