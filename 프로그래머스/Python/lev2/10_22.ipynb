{
  "nbformat": 4,
  "nbformat_minor": 0,
  "metadata": {
    "colab": {
      "provenance": [],
      "authorship_tag": "ABX9TyOpcobBhRHUwVbevNCuSenF",
      "include_colab_link": true
    },
    "kernelspec": {
      "name": "python3",
      "display_name": "Python 3"
    },
    "language_info": {
      "name": "python"
    }
  },
  "cells": [
    {
      "cell_type": "markdown",
      "metadata": {
        "id": "view-in-github",
        "colab_type": "text"
      },
      "source": [
        "<a href=\"https://colab.research.google.com/github/InKyuHwang001/Algorithm/blob/master/10_22.ipynb\" target=\"_parent\"><img src=\"https://colab.research.google.com/assets/colab-badge.svg\" alt=\"Open In Colab\"/></a>"
      ]
    },
    {
      "cell_type": "markdown",
      "source": [
        "# 땅따먹기\n",
        "- https://school.programmers.co.kr/learn/courses/30/lessons/12913"
      ],
      "metadata": {
        "id": "vgRf0vagL9WF"
      }
    },
    {
      "cell_type": "markdown",
      "source": [
        "한칸한칸 최대값을 갱신해간다. "
      ],
      "metadata": {
        "id": "1hqpwwh9MCwe"
      }
    },
    {
      "cell_type": "code",
      "execution_count": null,
      "metadata": {
        "id": "bTZzk3kyL70z"
      },
      "outputs": [],
      "source": [
        "def solution(land):\n",
        "\n",
        "    for i in range(1,len(land)):\n",
        "        for j in range(len(land[0])):\n",
        "            land[i][j] += max(land[i-1][:j] + land[i-1][j+1:])\n",
        "\n",
        "    return max(land[len(land)-1])"
      ]
    }
  ]
}