{
  "nbformat": 4,
  "nbformat_minor": 0,
  "metadata": {
    "colab": {
      "provenance": [],
      "authorship_tag": "ABX9TyOnLvxvhu4EKA+N+dtCmLYZ",
      "include_colab_link": true
    },
    "kernelspec": {
      "name": "python3",
      "display_name": "Python 3"
    },
    "language_info": {
      "name": "python"
    }
  },
  "cells": [
    {
      "cell_type": "markdown",
      "metadata": {
        "id": "view-in-github",
        "colab_type": "text"
      },
      "source": [
        "<a href=\"https://colab.research.google.com/github/InKyuHwang001/Algorithm/blob/master/9_16.ipynb\" target=\"_parent\"><img src=\"https://colab.research.google.com/assets/colab-badge.svg\" alt=\"Open In Colab\"/></a>"
      ]
    },
    {
      "cell_type": "markdown",
      "source": [
        "# 짝지어 제거하기\n",
        "- https://school.programmers.co.kr/learn/courses/30/lessons/12973"
      ],
      "metadata": {
        "id": "p0ktqhi15WMA"
      }
    },
    {
      "cell_type": "code",
      "source": [
        "def solution(s):\n",
        "    stack = []\n",
        "    for i in range(len(s)):\n",
        "        if not stack:\n",
        "            stack.append(s[i])         \n",
        "        else:\n",
        "            if s[i] == stack[-1]:      \n",
        "                stack.pop()\n",
        "            else:\n",
        "                stack.append(s[i])      \n",
        "\n",
        "    if stack : return 0               \n",
        "    else : return 1"
      ],
      "metadata": {
        "id": "jqpBBdve5WDJ"
      },
      "execution_count": null,
      "outputs": []
    },
    {
      "cell_type": "markdown",
      "source": [
        "# 구명보트\n",
        "- https://school.programmers.co.kr/learn/courses/30/lessons/42885"
      ],
      "metadata": {
        "id": "fVmDPNNU5u9_"
      }
    },
    {
      "cell_type": "code",
      "execution_count": null,
      "metadata": {
        "id": "wemQPpau5TqW"
      },
      "outputs": [],
      "source": [
        "from collections import deque\n",
        "\n",
        "def solution(people, limit):\n",
        "    boat = 0\n",
        "    people.sort()\n",
        "    q = deque(people)\n",
        "    w = 0\n",
        "    cnt = 0\n",
        "    while q:\n",
        "        if len(q) >= 2:\n",
        "            if q[0] + q[-1] <= limit:\n",
        "                q.pop()\n",
        "                q.popleft()\n",
        "                boat += 1\n",
        "            elif q[0] + q[-1] > limit:\n",
        "                q.pop()\n",
        "                boat += 1\n",
        "        else:\n",
        "            if q[0] <= limit:\n",
        "                q.pop()\n",
        "                boat += 1\n",
        "    return boat"
      ]
    }
  ]
}