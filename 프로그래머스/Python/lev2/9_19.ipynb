{
  "nbformat": 4,
  "nbformat_minor": 0,
  "metadata": {
    "colab": {
      "provenance": [],
      "authorship_tag": "ABX9TyOyWMK3K/KsZTHK8ZxclYoS",
      "include_colab_link": true
    },
    "kernelspec": {
      "name": "python3",
      "display_name": "Python 3"
    },
    "language_info": {
      "name": "python"
    }
  },
  "cells": [
    {
      "cell_type": "markdown",
      "metadata": {
        "id": "view-in-github",
        "colab_type": "text"
      },
      "source": [
        "<a href=\"https://colab.research.google.com/github/InKyuHwang001/Algorithm/blob/master/9_19.ipynb\" target=\"_parent\"><img src=\"https://colab.research.google.com/assets/colab-badge.svg\" alt=\"Open In Colab\"/></a>"
      ]
    },
    {
      "cell_type": "markdown",
      "source": [
        "# 멀리 뛰기\n",
        "- https://school.programmers.co.kr/learn/courses/30/lessons/12914\n",
        "- DP(점화식 말들어보자)"
      ],
      "metadata": {
        "id": "lT3o6mYHQpeC"
      }
    },
    {
      "cell_type": "code",
      "execution_count": null,
      "metadata": {
        "id": "xaUDTK1lPd8q"
      },
      "outputs": [],
      "source": [
        "def solution(n):\n",
        "    if n<3:\n",
        "        return n\n",
        "    d=[0]*(n+1)\n",
        "    d[1]=1\n",
        "    d[2]=2\n",
        "    for i in range(3,n+1):\n",
        "        d[i]=d[i-1]+d[i-2]\n",
        "    return d[n]%1234567"
      ]
    },
    {
      "cell_type": "code",
      "source": [
        "def solution(n):\n",
        "    d=[0, 1, 2]\n",
        "    for i in range(3,n+1):\n",
        "        d.append(d[i-1]+d[i-2])\n",
        "    return d[n]%1234567"
      ],
      "metadata": {
        "id": "Wjnp9cqHQyjd"
      },
      "execution_count": null,
      "outputs": []
    },
    {
      "cell_type": "markdown",
      "source": [
        "# 복습"
      ],
      "metadata": {
        "id": "WFLol0wBTUXV"
      }
    },
    {
      "cell_type": "markdown",
      "source": [
        "## Lv2"
      ],
      "metadata": {
        "id": "FO7unQv-Uf7w"
      }
    },
    {
      "cell_type": "code",
      "source": [
        "def solution(s):\n",
        "    x= [int(i) for i in s.split(' ')]\n",
        "    a=[str(min(x)), str(max(x))]\n",
        "    return ' '.join(a)"
      ],
      "metadata": {
        "id": "ks1YfQyVTXJf"
      },
      "execution_count": null,
      "outputs": []
    },
    {
      "cell_type": "code",
      "source": [
        "def solution(s):\n",
        "    s=s.split(' ')\n",
        "    a=[]\n",
        "    for wo in s:\n",
        "        a.append(wo.capitalize())\n",
        "    return ' '.join(a)"
      ],
      "metadata": {
        "id": "me85C5LUUjUy"
      },
      "execution_count": null,
      "outputs": []
    }
  ]
}