{
  "nbformat": 4,
  "nbformat_minor": 0,
  "metadata": {
    "colab": {
      "provenance": [],
      "authorship_tag": "ABX9TyPfa9A+dg+eOdWIvFyAurfp",
      "include_colab_link": true
    },
    "kernelspec": {
      "name": "python3",
      "display_name": "Python 3"
    },
    "language_info": {
      "name": "python"
    }
  },
  "cells": [
    {
      "cell_type": "markdown",
      "metadata": {
        "id": "view-in-github",
        "colab_type": "text"
      },
      "source": [
        "<a href=\"https://colab.research.google.com/github/InKyuHwang001/Algorithm/blob/master/9_11.ipynb\" target=\"_parent\"><img src=\"https://colab.research.google.com/assets/colab-badge.svg\" alt=\"Open In Colab\"/></a>"
      ]
    },
    {
      "cell_type": "markdown",
      "source": [
        "# 최댓값과 최솟값\n",
        "- https://school.programmers.co.kr/learn/courses/30/lessons/12939"
      ],
      "metadata": {
        "id": "5cnu4BVzu6An"
      }
    },
    {
      "cell_type": "code",
      "source": [
        "def solution(s):\n",
        "    answer = ''\n",
        "    li=s.split( )\n",
        "    l=[]\n",
        "    for num in li:\n",
        "        l.append(int(num))\n",
        "    answer=str(min(l))+' '+str(max(l))\n",
        "    return answer"
      ],
      "metadata": {
        "id": "cRL18qsqu55C"
      },
      "execution_count": null,
      "outputs": []
    },
    {
      "cell_type": "code",
      "source": [
        "def solution(s):\n",
        "    result = []\n",
        "    num_list = [int(n) for n in s.split()]\n",
        "    result.append(str(min(num_list)))\n",
        "    result.append(str(max(num_list)))\n",
        "    return ' '.join(result)"
      ],
      "metadata": {
        "id": "Cpqe18aEu5xg"
      },
      "execution_count": null,
      "outputs": []
    },
    {
      "cell_type": "markdown",
      "source": [
        "# JadenCase 문자열 만들기\n",
        "- https://school.programmers.co.kr/learn/courses/30/lessons/12951"
      ],
      "metadata": {
        "id": "hTQYi0Fvu5Ak"
      }
    },
    {
      "cell_type": "code",
      "source": [
        "def solution(s):\n",
        "    answer = ''\n",
        "    s=s.split(' ')\n",
        "    print(s)\n",
        "    for i in range(len(s)):\n",
        "        s[i]=s[i].capitalize()\n",
        "    return ' '.join(s)"
      ],
      "metadata": {
        "id": "SiD4d1dqu5Tu"
      },
      "execution_count": null,
      "outputs": []
    },
    {
      "cell_type": "code",
      "execution_count": null,
      "metadata": {
        "id": "w5bxnamou2-q"
      },
      "outputs": [],
      "source": [
        "def solution(s):\n",
        "    list1 = s.split(' ')\n",
        "    for x, y in enumerate(list1):\n",
        "        list1[x] = y.capitalize()\n",
        "    return ' '.join(list1)"
      ]
    },
    {
      "cell_type": "markdown",
      "source": [
        "## . split()과 split(' ')의 차이"
      ],
      "metadata": {
        "id": "eOXeb5Gw0UYj"
      }
    },
    {
      "cell_type": "code",
      "source": [
        "print(\"a bb  ccc   dddd    \".split())\n",
        "print(\"a bb  ccc   dddd    \".split(' '))"
      ],
      "metadata": {
        "colab": {
          "base_uri": "https://localhost:8080/"
        },
        "id": "RnXhP6oS0V2p",
        "outputId": "10cf6362-bc14-4146-a047-20362f73c99e"
      },
      "execution_count": 1,
      "outputs": [
        {
          "output_type": "stream",
          "name": "stdout",
          "text": [
            "['a', 'bb', 'ccc', 'dddd']\n",
            "['a', 'bb', '', 'ccc', '', '', 'dddd', '', '', '', '']\n"
          ]
        }
      ]
    }
  ]
}