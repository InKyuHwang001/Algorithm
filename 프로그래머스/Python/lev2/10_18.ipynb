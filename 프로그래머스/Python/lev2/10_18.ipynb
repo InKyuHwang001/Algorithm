{
  "nbformat": 4,
  "nbformat_minor": 0,
  "metadata": {
    "colab": {
      "provenance": [],
      "authorship_tag": "ABX9TyMyOy+rhAsltIDeAysBGOW2",
      "include_colab_link": true
    },
    "kernelspec": {
      "name": "python3",
      "display_name": "Python 3"
    },
    "language_info": {
      "name": "python"
    }
  },
  "cells": [
    {
      "cell_type": "markdown",
      "metadata": {
        "id": "view-in-github",
        "colab_type": "text"
      },
      "source": [
        "<a href=\"https://colab.research.google.com/github/InKyuHwang001/Algorithm/blob/master/10_18.ipynb\" target=\"_parent\"><img src=\"https://colab.research.google.com/assets/colab-badge.svg\" alt=\"Open In Colab\"/></a>"
      ]
    },
    {
      "cell_type": "markdown",
      "source": [
        "# [3차] n진수 게임\n",
        "- https://school.programmers.co.kr/learn/courses/30/lessons/17687"
      ],
      "metadata": {
        "id": "iufMIfIbPja5"
      }
    },
    {
      "cell_type": "code",
      "execution_count": null,
      "metadata": {
        "id": "MprBsYAoPf19"
      },
      "outputs": [],
      "source": [
        "#진법, 숫자의 갯수, 참여인원, 튜브의 순서\n",
        "def solution(n, t, m, p):\n",
        "    answer = ''\n",
        "    length = m * t\n",
        "    candidate = '0'\n",
        "    num = 0\n",
        "    alpha = 'ABCDEF'\n",
        "    \n",
        "    while len(candidate) < length: #length 길이보다 작을 때 까지 n진법으로 변환!\n",
        "        res = ''\n",
        "        number = num\n",
        "        while True: # 자연수 number를 n진법으로 변환하는 반복문 \n",
        "            if number == 0: # 더 이상 나누지 못하면 break\n",
        "                break\n",
        "            if number % n:\n",
        "                if number % n >= 10: # 10~15값이면 alpha와 매핑\n",
        "                    res += alpha[(number%n) % 10]\n",
        "                else: # 나머지 값을 res에 담는다.\n",
        "                    res += str(number % n)\n",
        "            else:\n",
        "                res += '0'\n",
        "            number //= n\n",
        "        num += 1\n",
        "        candidate += res[::-1] # 역순으로 담았기 때문에 슬라이싱([::-1])을 이용하여 candidate에 담는다.\n",
        "    for i in range(p-1, length, m): answer += candidate[i] # 튜브의 순서에 해당하는 숫자를 answer에 담는다!\n",
        "    return answer"
      ]
    }
  ]
}