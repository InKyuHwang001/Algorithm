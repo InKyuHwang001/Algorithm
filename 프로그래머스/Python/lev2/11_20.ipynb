{
  "nbformat": 4,
  "nbformat_minor": 0,
  "metadata": {
    "colab": {
      "provenance": []
    },
    "kernelspec": {
      "name": "python3",
      "display_name": "Python 3"
    },
    "language_info": {
      "name": "python"
    }
  },
  "cells": [
    {
      "cell_type": "markdown",
      "source": [
        "# 후보키\n",
        "- https://school.programmers.co.kr/learn/courses/30/lessons/42890"
      ],
      "metadata": {
        "id": "6tATojL3Xbg3"
      }
    },
    {
      "cell_type": "code",
      "execution_count": null,
      "metadata": {
        "id": "xz7AEqDgXWyj"
      },
      "outputs": [],
      "source": [
        "from itertools import combinations\n",
        "\n",
        "def solution(relation):\n",
        "    row = len(relation)\n",
        "    col = len(relation[0])\n",
        "\n",
        "    #가능한 속성의 모든 인덱스 조합 \n",
        "    combi = []\n",
        "    for i in range(1, col+1):\n",
        "        combi.extend(combinations(range(col), i))\n",
        "        \n",
        "    #유일성\n",
        "    unique = []\n",
        "    for i in combi:\n",
        "        tmp = [tuple([item[key] for key in i]) for item in relation]\n",
        "\n",
        "        if len(set(tmp)) == row:    # 유일성\n",
        "            put = True\n",
        "            \n",
        "            for x in unique:\n",
        "                if set(x).issubset(set(i)):  # 최소성\n",
        "                    put = False\n",
        "                    break\n",
        "            if put: \n",
        "                unique.append(i)\n",
        "    return len(unique)"
      ]
    }
  ]
}