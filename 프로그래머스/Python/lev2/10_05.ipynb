{
  "nbformat": 4,
  "nbformat_minor": 0,
  "metadata": {
    "colab": {
      "provenance": [],
      "authorship_tag": "ABX9TyNB1bKDH/viE9KkYe5CJ7K6",
      "include_colab_link": true
    },
    "kernelspec": {
      "name": "python3",
      "display_name": "Python 3"
    },
    "language_info": {
      "name": "python"
    }
  },
  "cells": [
    {
      "cell_type": "markdown",
      "metadata": {
        "id": "view-in-github",
        "colab_type": "text"
      },
      "source": [
        "<a href=\"https://colab.research.google.com/github/InKyuHwang001/Algorithm/blob/master/10_05.ipynb\" target=\"_parent\"><img src=\"https://colab.research.google.com/assets/colab-badge.svg\" alt=\"Open In Colab\"/></a>"
      ]
    },
    {
      "cell_type": "markdown",
      "source": [
        "# 124 나라의 숫자\n",
        "- https://school.programmers.co.kr/learn/courses/30/lessons/12899?language=python3"
      ],
      "metadata": {
        "id": "H-vHfXxcO5xS"
      }
    },
    {
      "cell_type": "code",
      "execution_count": null,
      "metadata": {
        "id": "1yOI-ix3OpF5"
      },
      "outputs": [],
      "source": [
        "def solution(n):\n",
        "    answer = ''\n",
        "    while n:\n",
        "        if n % 3:\n",
        "            answer += str(n % 3)\n",
        "            n //= 3\n",
        "        else:\n",
        "            answer += \"4\"\n",
        "            n = n//3 - 1\n",
        "    return answer[::-1]"
      ]
    }
  ]
}