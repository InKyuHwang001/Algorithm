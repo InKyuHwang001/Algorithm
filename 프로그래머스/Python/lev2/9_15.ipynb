{
  "nbformat": 4,
  "nbformat_minor": 0,
  "metadata": {
    "colab": {
      "provenance": [],
      "authorship_tag": "ABX9TyOW8F5AYVTx7LFRn5aOqGZW",
      "include_colab_link": true
    },
    "kernelspec": {
      "name": "python3",
      "display_name": "Python 3"
    },
    "language_info": {
      "name": "python"
    }
  },
  "cells": [
    {
      "cell_type": "markdown",
      "metadata": {
        "id": "view-in-github",
        "colab_type": "text"
      },
      "source": [
        "<a href=\"https://colab.research.google.com/github/InKyuHwang001/Algorithm/blob/master/9_15.ipynb\" target=\"_parent\"><img src=\"https://colab.research.google.com/assets/colab-badge.svg\" alt=\"Open In Colab\"/></a>"
      ]
    },
    {
      "cell_type": "markdown",
      "source": [
        "# 카펫\n",
        "- https://school.programmers.co.kr/learn/courses/30/lessons/42842"
      ],
      "metadata": {
        "id": "PwG2OlRIkWob"
      }
    },
    {
      "cell_type": "code",
      "execution_count": null,
      "metadata": {
        "id": "aiUQCVKYkT1I"
      },
      "outputs": [],
      "source": [
        "def solution(brown, yellow):\n",
        "    answer = []\n",
        "    yx = 0\n",
        "    yy = 0\n",
        "    for i in range(1, yellow+1) :\n",
        "        if yellow % i == 0 :\n",
        "            yx = yellow/i\n",
        "            yy = i\n",
        "            if yx*2 + yy*2 + 4 == brown :            \n",
        "                answer.append(yx+2)\n",
        "                answer.append(yy+2)\n",
        "                \n",
        "                return sorted(answer, reverse = True)"
      ]
    },
    {
      "cell_type": "code",
      "source": [
        "def solution(brown, yellow):\n",
        "    for i in range(1, int(yellow**(1/2))+1):\n",
        "        if yellow % i == 0:\n",
        "            if 2*(i + yellow//i) == brown-4:\n",
        "                return [yellow//i+2, i+2]"
      ],
      "metadata": {
        "id": "Byk3EzpmoTwV"
      },
      "execution_count": null,
      "outputs": []
    },
    {
      "cell_type": "markdown",
      "source": [
        "# 영어 끝말잇기\n",
        "- https://school.programmers.co.kr/learn/courses/30/lessons/12981"
      ],
      "metadata": {
        "id": "rQsdUkIgkcJw"
      }
    },
    {
      "cell_type": "code",
      "source": [
        "def solution(n, words):\n",
        "    for i in range(1, len(words)):\n",
        "        if words[i][0] != words[i-1][-1] or words[i] in words[:i] :\n",
        "            return [(i%n)+1, (i//n)+1]\n",
        "    else:\n",
        "        return [0,0]"
      ],
      "metadata": {
        "id": "oGZy89FVkcf0"
      },
      "execution_count": null,
      "outputs": []
    }
  ]
}