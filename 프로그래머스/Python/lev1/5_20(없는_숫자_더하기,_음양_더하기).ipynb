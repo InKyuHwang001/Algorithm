{
  "nbformat": 4,
  "nbformat_minor": 0,
  "metadata": {
    "colab": {
      "name": "5/20(없는 숫자 더하기,  음양 더하기).ipynb",
      "provenance": [],
      "collapsed_sections": [
        "_v0Ea0g81rOC"
      ]
    },
    "kernelspec": {
      "name": "python3",
      "display_name": "Python 3"
    },
    "language_info": {
      "name": "python"
    }
  },
  "cells": [
    {
      "cell_type": "markdown",
      "source": [
        "# 없는 숫자 더하기\n",
        "- https://programmers.co.kr/learn/courses/30/lessons/86051\n"
      ],
      "metadata": {
        "id": "_v0Ea0g81rOC"
      }
    },
    {
      "cell_type": "code",
      "source": [
        "def solution(numbers):\n",
        "    answer = 45\n",
        "    for i in numbers:\n",
        "        answer-= i\n",
        "    return answer"
      ],
      "metadata": {
        "id": "B01NxqMyzF4R"
      },
      "execution_count": null,
      "outputs": []
    },
    {
      "cell_type": "code",
      "source": [
        "def solution(numbers):\n",
        "    return 45 - sum(numbers)"
      ],
      "metadata": {
        "id": "he3DzXNC3mkU"
      },
      "execution_count": null,
      "outputs": []
    },
    {
      "cell_type": "markdown",
      "source": [
        "# 음양 더하기\n",
        "- https://programmers.co.kr/learn/courses/30/lessons/76501"
      ],
      "metadata": {
        "id": "NqgW9eCwu4DT"
      }
    },
    {
      "cell_type": "code",
      "source": [
        "def solution(absolutes, signs):\n",
        "    answer = 0\n",
        "    for num in range(len(signs)):\n",
        "        if signs[num]==True:\n",
        "            answer+=int(absolutes[num])\n",
        "        else:\n",
        "            answer-=int(absolutes[num])\n",
        "    return answer"
      ],
      "metadata": {
        "id": "dgsSZ9DLCm78"
      },
      "execution_count": null,
      "outputs": []
    },
    {
      "cell_type": "code",
      "source": [
        "def solution(absolutes, signs):\n",
        "    answer=0\n",
        "    for absolute,sign in zip(absolutes,signs):\n",
        "        if sign:\n",
        "            answer+=absolute\n",
        "        else:\n",
        "            answer-=absolute\n",
        "    return answer\n",
        "\n",
        "    # ==True는 생략이 가능함\n",
        "    # zip으로 두변수를 동시에 끄집에 낼수 있다."
      ],
      "metadata": {
        "id": "XauQGBsRBMCt"
      },
      "execution_count": null,
      "outputs": []
    }
  ]
}