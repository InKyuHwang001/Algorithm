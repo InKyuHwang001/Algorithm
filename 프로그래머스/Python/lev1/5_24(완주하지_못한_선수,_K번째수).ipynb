{
  "nbformat": 4,
  "nbformat_minor": 0,
  "metadata": {
    "colab": {
      "name": "5/24(완주하지 못한 선수, K번째수).ipynb",
      "provenance": [],
      "collapsed_sections": []
    },
    "kernelspec": {
      "name": "python3",
      "display_name": "Python 3"
    },
    "language_info": {
      "name": "python"
    }
  },
  "cells": [
    {
      "cell_type": "markdown",
      "source": [
        "# 완주하지 못한 선수\n",
        "- https://programmers.co.kr/learn/courses/30/lessons/42576\n"
      ],
      "metadata": {
        "id": "_v0Ea0g81rOC"
      }
    },
    {
      "cell_type": "code",
      "source": [
        "def solution(participant, completion):\n",
        "    participant.sort()\n",
        "    completion.sort()\n",
        "    for p, c in zip(participant, completion):\n",
        "        if p != c:\n",
        "            return p\n",
        "    return participant[-1]\n",
        "\n",
        "    #zip 에서 길이가 다르면 같은 것 까지만 돈다."
      ],
      "metadata": {
        "id": "65U3QQNN9At8"
      },
      "execution_count": null,
      "outputs": []
    },
    {
      "cell_type": "code",
      "source": [
        "import collections\n",
        "\n",
        "def solution(participant, completion):\n",
        "    answer = collections.Counter(participant) - collections.Counter(completion)\n",
        "    return list(answer.keys())[0]\n",
        "\n",
        "#collections의 Counter는 숫자를 세주는 함수"
      ],
      "metadata": {
        "id": "8PYsAAyN9i8Y"
      },
      "execution_count": null,
      "outputs": []
    },
    {
      "cell_type": "markdown",
      "source": [
        "# K번째수\n",
        "- https://programmers.co.kr/learn/courses/30/lessons/42748"
      ],
      "metadata": {
        "id": "NqgW9eCwu4DT"
      }
    },
    {
      "cell_type": "code",
      "source": [
        "def solution(array, commands):\n",
        "    answer = []\n",
        "    for i in range(len(commands)):\n",
        "        arr = array[commands[i][0]-1:commands[i][1]]\n",
        "        arr.sort()\n",
        "        answer.append(arr[commands[i][2]-1])\n",
        "    return answer"
      ],
      "metadata": {
        "id": "88kjHmQ9PgFR"
      },
      "execution_count": null,
      "outputs": []
    },
    {
      "cell_type": "code",
      "source": [
        "def solution(array, commands):\n",
        "    answer = []\n",
        "    for command in commands:\n",
        "        i,j,k = command\n",
        "        answer.append(list(sorted(array[i-1:j]))[k-1])\n",
        "    return answer\n",
        "\n",
        "def solution(array, commands):\n",
        "    return [sorted(array[i-1:j])[k-1] for i,j,k in commands]\n",
        "\n",
        "## 하나의 배열에서 바로 끄집어 내는 방법이 있슴"
      ],
      "metadata": {
        "id": "TBP03cQNPvcW"
      },
      "execution_count": null,
      "outputs": []
    }
  ]
}