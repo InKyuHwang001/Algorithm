{
  "nbformat": 4,
  "nbformat_minor": 0,
  "metadata": {
    "colab": {
      "name": "5/29(예산, 두 개 뽑아서 더하기).ipynb",
      "provenance": [],
      "collapsed_sections": []
    },
    "kernelspec": {
      "name": "python3",
      "display_name": "Python 3"
    },
    "language_info": {
      "name": "python"
    }
  },
  "cells": [
    {
      "cell_type": "markdown",
      "source": [
        "# 예산\n",
        "- https://programmers.co.kr/learn/courses/30/lessons/12982"
      ],
      "metadata": {
        "id": "_v0Ea0g81rOC"
      }
    },
    {
      "cell_type": "code",
      "source": [
        "def solution(d, budget):\n",
        "    answer = 0\n",
        "    d.sort()\n",
        "    for i in range(len(d)):\n",
        "        if d[i] <= budget:\n",
        "            answer+=1\n",
        "            budget-=d[i]\n",
        "        else:\n",
        "            break\n",
        "    return answer"
      ],
      "metadata": {
        "id": "8PYsAAyN9i8Y"
      },
      "execution_count": null,
      "outputs": []
    },
    {
      "cell_type": "code",
      "source": [
        "def solution(d, budget):\n",
        "    d.sort()\n",
        "    while budget < sum(d):\n",
        "        d.pop()\n",
        "    return len(d)"
      ],
      "metadata": {
        "id": "65U3QQNN9At8"
      },
      "execution_count": null,
      "outputs": []
    },
    {
      "cell_type": "markdown",
      "source": [
        "# 두 개 뽑아서 더하기\n",
        "- https://programmers.co.kr/learn/courses/30/lessons/68644"
      ],
      "metadata": {
        "id": "c8gGwr8FcPxQ"
      }
    },
    {
      "cell_type": "code",
      "source": [
        "from itertools import combinations as cb\n",
        "def solution(numbers):\n",
        "    answer = set()\n",
        "    for i in list(cb(numbers,2)):\n",
        "        answer.add(sum(i))\n",
        "    return sorted(answer)"
      ],
      "metadata": {
        "id": "BecRcvyIeYL-"
      },
      "execution_count": null,
      "outputs": []
    },
    {
      "cell_type": "code",
      "source": [
        "def solution(numbers):\n",
        "    answer = []\n",
        "    for i in range(len(numbers)):\n",
        "        for j in range(i+1, len(numbers)):\n",
        "            answer.append(numbers[i] + numbers[j])\n",
        "    return sorted(list(set(answer)))"
      ],
      "metadata": {
        "id": "sfScD2u_ekn1"
      },
      "execution_count": null,
      "outputs": []
    }
  ]
}