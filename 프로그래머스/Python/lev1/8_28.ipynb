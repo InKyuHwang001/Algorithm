{
  "nbformat": 4,
  "nbformat_minor": 0,
  "metadata": {
    "colab": {
      "name": "8/28.ipynb",
      "provenance": [],
      "authorship_tag": "ABX9TyP5GonzGjr/SRdQSJ0gMc0q",
      "include_colab_link": true
    },
    "kernelspec": {
      "name": "python3",
      "display_name": "Python 3"
    },
    "language_info": {
      "name": "python"
    }
  },
  "cells": [
    {
      "cell_type": "markdown",
      "metadata": {
        "id": "view-in-github",
        "colab_type": "text"
      },
      "source": [
        "<a href=\"https://colab.research.google.com/github/InKyuHwang001/Algorithm/blob/master/8_28.ipynb\" target=\"_parent\"><img src=\"https://colab.research.google.com/assets/colab-badge.svg\" alt=\"Open In Colab\"/></a>"
      ]
    },
    {
      "cell_type": "markdown",
      "source": [
        "# 성격 유형 검사하기\n",
        "- https://school.programmers.co.kr/learn/courses/30/lessons/118666"
      ],
      "metadata": {
        "id": "HPWGktnv95fF"
      }
    },
    {
      "cell_type": "code",
      "source": [
        "def solution(survey, choices):\n",
        "    answer =''\n",
        "    sc=[0,0,0,0]\n",
        "    li=['R','C','J','A']\n",
        "    li2=['T','F','M','N']\n",
        "    for i in range(len(choices)):\n",
        "            if survey[i][0] in li:\n",
        "                sc[li.index(survey[i][0])]-=choices[i]-4\n",
        "            else:\n",
        "                sc[li.index(survey[i][1])]+=choices[i]-4\n",
        "    for i in range(4):\n",
        "        if sc[i]>=0:\n",
        "            answer=answer+li[i]\n",
        "        else:\n",
        "            answer=answer+li2[i]\n",
        "            \n",
        "    return answer"
      ],
      "metadata": {
        "id": "Z40ffz5g95XD"
      },
      "execution_count": null,
      "outputs": []
    },
    {
      "cell_type": "markdown",
      "source": [
        "# 신고 결과 받기\n",
        "- https://school.programmers.co.kr/learn/courses/30/lessons/92334"
      ],
      "metadata": {
        "id": "fKg2M1Bx95L-"
      }
    },
    {
      "cell_type": "code",
      "execution_count": null,
      "metadata": {
        "id": "5kTJ65kg92f1"
      },
      "outputs": [],
      "source": [
        "def solution(id_list, report, k):\n",
        "    answer = [0] * len(id_list)\n",
        "        \n",
        "    reports = {x : 0 for x in id_list}\n",
        "    \n",
        "    for r in set(report):\n",
        "        reports[r.split()[1]] += 1\n",
        "\n",
        "    for r in set(report):\n",
        "        if reports[r.split()[1]] >= k:\n",
        "            answer[id_list.index(r.split()[0])] += 1\n",
        "\n",
        "    return answer"
      ]
    }
  ]
}