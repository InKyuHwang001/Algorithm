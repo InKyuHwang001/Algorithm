{
  "nbformat": 4,
  "nbformat_minor": 0,
  "metadata": {
    "colab": {
      "name": "6/03([1차] 다트 게임, 같은 숫자는 싫어).ipynb",
      "provenance": [],
      "collapsed_sections": []
    },
    "kernelspec": {
      "name": "python3",
      "display_name": "Python 3"
    },
    "language_info": {
      "name": "python"
    }
  },
  "cells": [
    {
      "cell_type": "markdown",
      "source": [
        "# [1차] 다트 게임\n",
        "- https://programmers.co.kr/learn/courses/30/lessons/17682"
      ],
      "metadata": {
        "id": "_v0Ea0g81rOC"
      }
    },
    {
      "cell_type": "code",
      "source": [
        "def solution(dartResult):\n",
        "    n = ''\n",
        "    score = []\n",
        "    for i in dartResult:\n",
        "        if i.isnumeric():\n",
        "            n += i\n",
        "        elif i == 'S':\n",
        "            n = int(n)**1\n",
        "            score.append(n)\n",
        "            n = ''\n",
        "        elif i == 'D':\n",
        "            n = int(n)**2\n",
        "            score.append(n)\n",
        "            n = ''\n",
        "        elif i == 'T':\n",
        "            n = int(n)**3\n",
        "            score.append(n)\n",
        "            n = ''\n",
        "        elif i == '*':\n",
        "            if len(score) > 1:\n",
        "                score[-2] = score[-2] * 2\n",
        "                score[-1] = score[-1] * 2\n",
        "            else:\n",
        "                score[-1] = score[-1] * 2\n",
        "        elif i == '#':\n",
        "            score[-1] = score[-1] * -1\n",
        "        \n",
        "    return sum(score)"
      ],
      "metadata": {
        "id": "8PYsAAyN9i8Y"
      },
      "execution_count": null,
      "outputs": []
    },
    {
      "cell_type": "code",
      "source": [
        "import re\n",
        "\n",
        "\n",
        "def solution(dartResult):\n",
        "    bonus = {'S' : 1, 'D' : 2, 'T' : 3}\n",
        "    option = {'' : 1, '*' : 2, '#' : -1}\n",
        "    p = re.compile('(\\d+)([SDT])([*#]?)')\n",
        "    dart = p.findall(dartResult)\n",
        "    for i in range(len(dart)):\n",
        "        if dart[i][2] == '*' and i > 0:\n",
        "            dart[i-1] *= 2\n",
        "        dart[i] = int(dart[i][0]) ** bonus[dart[i][1]] * option[dart[i][2]]\n",
        "\n",
        "    answer = sum(dart)\n",
        "    return answer"
      ],
      "metadata": {
        "id": "65U3QQNN9At8"
      },
      "execution_count": null,
      "outputs": []
    },
    {
      "cell_type": "markdown",
      "source": [
        "# 같은 숫자는 싫어\n",
        "- https://programmers.co.kr/learn/courses/30/lessons/12906"
      ],
      "metadata": {
        "id": "c8gGwr8FcPxQ"
      }
    },
    {
      "cell_type": "code",
      "source": [
        "def solution(arr):\n",
        "    b = []\n",
        "    for i in range(len(arr)):\n",
        "        if i == 0:\n",
        "            b.append(arr[i])\n",
        "        elif arr[i] != arr[i-1]:\n",
        "            b.append(arr[i])\n",
        "\n",
        "    return b"
      ],
      "metadata": {
        "id": "m-cadEOXFxY8"
      },
      "execution_count": null,
      "outputs": []
    },
    {
      "cell_type": "code",
      "source": [
        "def solution(arr):\n",
        "    answer = []\n",
        "    for i in arr:\n",
        "        if answer[-1:] != [i]:\n",
        "            answer.append(i)\n",
        "    return answer"
      ],
      "metadata": {
        "id": "j999oCdTGsvD"
      },
      "execution_count": null,
      "outputs": []
    }
  ]
}