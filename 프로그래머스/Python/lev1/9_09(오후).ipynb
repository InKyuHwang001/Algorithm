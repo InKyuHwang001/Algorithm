{
  "nbformat": 4,
  "nbformat_minor": 0,
  "metadata": {
    "colab": {
      "provenance": [],
      "authorship_tag": "ABX9TyPnjFP0QV8wrGPZAHn7ioXm",
      "include_colab_link": true
    },
    "kernelspec": {
      "name": "python3",
      "display_name": "Python 3"
    },
    "language_info": {
      "name": "python"
    }
  },
  "cells": [
    {
      "cell_type": "markdown",
      "metadata": {
        "id": "view-in-github",
        "colab_type": "text"
      },
      "source": [
        "<a href=\"https://colab.research.google.com/github/InKyuHwang001/Algorithm/blob/master/9_09(%EC%98%A4%ED%9B%84).ipynb\" target=\"_parent\"><img src=\"https://colab.research.google.com/assets/colab-badge.svg\" alt=\"Open In Colab\"/></a>"
      ]
    },
    {
      "cell_type": "markdown",
      "source": [
        "# 이상한 문자 만들기\n",
        "- https://school.programmers.co.kr/learn/courses/30/lessons/12930"
      ],
      "metadata": {
        "id": "Y8BC-q2r1K9H"
      }
    },
    {
      "cell_type": "code",
      "source": [
        "def solution(s):\n",
        "    answer = ''\n",
        "    new_list = s.split(' ')\n",
        "    for i in new_list:\n",
        "        for j in range(len(i)):\n",
        "            if j % 2 == 0:\n",
        "                answer += i[j].upper()\n",
        "            else:\n",
        "                answer += i[j].lower()\n",
        "        answer+= ' '\n",
        "    return answer[0:-1]"
      ],
      "metadata": {
        "id": "UWeQLQ321K0A"
      },
      "execution_count": null,
      "outputs": []
    },
    {
      "cell_type": "markdown",
      "source": [
        "# 시저 암호\n",
        "- https://school.programmers.co.kr/learn/courses/30/lessons/12926"
      ],
      "metadata": {
        "id": "WUsUmsip1Kav"
      }
    },
    {
      "cell_type": "code",
      "source": [
        "def solution(s, n):\n",
        "    low = \"abcdefghijklmnopqrstuvwxyz\" \n",
        "    up = low.upper()\n",
        "    answer = ''\n",
        "    for char in s:\n",
        "        if char in low:\n",
        "            ind = low.find(char)+n \n",
        "            answer += low[ind%26] \n",
        "        elif char in up:\n",
        "            ind = up.find(char)+n\n",
        "            answer += up[ind%26]\n",
        "        else: \n",
        "            answer += \" \"\n",
        "    return answer"
      ],
      "metadata": {
        "id": "lQC4RnPL1KPO"
      },
      "execution_count": null,
      "outputs": []
    },
    {
      "cell_type": "markdown",
      "source": [
        "# 최대공약수와 최소공배수\n",
        "- https://school.programmers.co.kr/learn/courses/30/lessons/12940"
      ],
      "metadata": {
        "id": "lfOyJjWw1KA9"
      }
    },
    {
      "cell_type": "code",
      "execution_count": null,
      "metadata": {
        "id": "b7JuMcdU1GIp"
      },
      "outputs": [],
      "source": [
        "def solution(n, m):\n",
        "    answer = []\n",
        "    for i in range(min(n, m),0,-1):\n",
        "        if n%i==0 and m%i==0:\n",
        "            answer.append(i)\n",
        "            break\n",
        "    for i in range(max(n,m), (n*m)+1):\n",
        "        if i%n==0 and i%m ==0:\n",
        "            answer.append(i)\n",
        "            break\n",
        "    return answer"
      ]
    }
  ]
}