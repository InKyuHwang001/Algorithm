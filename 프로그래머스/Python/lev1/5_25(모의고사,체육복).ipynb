{
  "nbformat": 4,
  "nbformat_minor": 0,
  "metadata": {
    "colab": {
      "name": "5/25(모의고사,체육복).ipynb",
      "provenance": [],
      "collapsed_sections": []
    },
    "kernelspec": {
      "name": "python3",
      "display_name": "Python 3"
    },
    "language_info": {
      "name": "python"
    }
  },
  "cells": [
    {
      "cell_type": "markdown",
      "source": [
        "# 모의고사\n",
        "- https://programmers.co.kr/learn/courses/30/lessons/42840\n"
      ],
      "metadata": {
        "id": "_v0Ea0g81rOC"
      }
    },
    {
      "cell_type": "code",
      "source": [
        "def solution(answers):\n",
        "    #정답과 패턴 입력\n",
        "    answer = [0 for i in range(3)]\n",
        "\n",
        "    man1 = [1,2,3,4,5]\n",
        "    man2 = [2,1,2,3,2,4,2,5]\n",
        "    man3 = [3,3,1,1,2,2,4,4,5,5]\n",
        "    \n",
        "    #정답의 갯수 세기\n",
        "    for i in range(len(answers)):\n",
        "        ans = answers[i]\n",
        "        if(man1[i%len(man1)] == ans):\n",
        "            answer[0] += 1\n",
        "        if(man2[i%len(man2)] == ans):\n",
        "            answer[1] += 1\n",
        "        if(man3[i%len(man3)] == ans):\n",
        "            answer[2] += 1     \n",
        "    #결과 출력하기\n",
        "    result = []\n",
        "    for i in range(len(answer)):\n",
        "        if(answer[i] == max(answer)):\n",
        "            result.append(i+1)\n",
        "    \n",
        "    return sorted(result)"
      ],
      "metadata": {
        "id": "65U3QQNN9At8"
      },
      "execution_count": null,
      "outputs": []
    },
    {
      "cell_type": "code",
      "source": [
        "def solution(answers):\n",
        "    pattern1 = [1,2,3,4,5]\n",
        "    pattern2 = [2,1,2,3,2,4,2,5]\n",
        "    pattern3 = [3,3,1,1,2,2,4,4,5,5]\n",
        "    score = [0, 0, 0]\n",
        "    result = []\n",
        "\n",
        "    for idx, answer in enumerate(answers):\n",
        "        if answer == pattern1[idx%len(pattern1)]:\n",
        "            score[0] += 1\n",
        "        if answer == pattern2[idx%len(pattern2)]:\n",
        "            score[1] += 1\n",
        "        if answer == pattern3[idx%len(pattern3)]:\n",
        "            score[2] += 1\n",
        "\n",
        "    for idx, s in enumerate(score):\n",
        "        if s == max(score):\n",
        "            result.append(idx+1)\n",
        "\n",
        "    return result\n",
        "\n",
        "\n",
        "##enumerate 는 0:원소, 1:원소로 나타내는 함수다. \n",
        "    ##for 문에서 자주 사용되고 items처럼 두개를 뽑아낼때 사용함"
      ],
      "metadata": {
        "id": "8PYsAAyN9i8Y"
      },
      "execution_count": null,
      "outputs": []
    },
    {
      "cell_type": "markdown",
      "source": [
        "# 체육복\n",
        "- https://programmers.co.kr/learn/courses/30/lessons/42862"
      ],
      "metadata": {
        "id": "NqgW9eCwu4DT"
      }
    },
    {
      "cell_type": "code",
      "source": [
        "def solution(n, lost, reserve):\n",
        "    answer = 0\n",
        "    for i in range(1, n+1):\n",
        "        if i not in lost: #안 잃어버린 학생\n",
        "            answer += 1\n",
        "        else:\n",
        "            if i in reserve: #잃어버렸지만 여분도 있는 학생\n",
        "                answer += 1\n",
        "                reserve.remove(i)\n",
        "                lost.remove(i)\n",
        "\n",
        "    for i in lost: #잃어버리고 여분도 없어서 빌려야 하는 학생\n",
        "        if i-1 in reserve:\n",
        "            answer += 1\n",
        "            reserve.remove(i-1)\n",
        "\n",
        "        elif i+1 in reserve:\n",
        "            answer +=1\n",
        "            reserve.remove(i+1)\n",
        "\n",
        "    return answer\n",
        "#remove(i) i원소 지우기"
      ],
      "metadata": {
        "id": "88kjHmQ9PgFR"
      },
      "execution_count": null,
      "outputs": []
    },
    {
      "cell_type": "code",
      "source": [
        "def solution(n, lost, reserve):\n",
        "    #순수하게 한게도 없는,여분이 있는 사람\n",
        "    reserve_set = set(reserve)-set(lost) \n",
        "    lost_set = set(lost)-set(reserve) \n",
        "    \n",
        "    for reserve_person in reserve_set: \n",
        "        if reserve_person-1 in lost_set: \n",
        "            lost_set.remove(reserve_person-1) \n",
        "        elif reserve_person+1 in lost_set: \n",
        "            lost_set.remove(reserve_person+1) \n",
        "    \n",
        "    return n-len(lost_set)"
      ],
      "metadata": {
        "id": "TBP03cQNPvcW"
      },
      "execution_count": null,
      "outputs": []
    }
  ]
}