{
  "nbformat": 4,
  "nbformat_minor": 0,
  "metadata": {
    "colab": {
      "provenance": [],
      "collapsed_sections": [],
      "authorship_tag": "ABX9TyNKDATdAAIWPjVpcr32r/m/",
      "include_colab_link": true
    },
    "kernelspec": {
      "name": "python3",
      "display_name": "Python 3"
    },
    "language_info": {
      "name": "python"
    }
  },
  "cells": [
    {
      "cell_type": "markdown",
      "metadata": {
        "id": "view-in-github",
        "colab_type": "text"
      },
      "source": [
        "<a href=\"https://colab.research.google.com/github/InKyuHwang001/Algorithm/blob/master/9_03.ipynb\" target=\"_parent\"><img src=\"https://colab.research.google.com/assets/colab-badge.svg\" alt=\"Open In Colab\"/></a>"
      ]
    },
    {
      "cell_type": "markdown",
      "source": [
        "# 두 개 뽑아서 더하기\n",
        "- https://school.programmers.co.kr/learn/courses/30/lessons/68644"
      ],
      "metadata": {
        "id": "3U5bcU5mhI_u"
      }
    },
    {
      "cell_type": "code",
      "source": [
        "from itertools import combinations as cb\n",
        "def solution(numbers):\n",
        "    answer = []\n",
        "    li= list(cb(numbers, 2))\n",
        "    for i in li:\n",
        "        answer.append(sum(i))\n",
        "    \n",
        "    answer=list(set(answer))\n",
        "    answer.sort()\n",
        "\n",
        "    return answer"
      ],
      "metadata": {
        "id": "3s6yhzE4hIbQ"
      },
      "execution_count": null,
      "outputs": []
    },
    {
      "cell_type": "code",
      "execution_count": null,
      "metadata": {
        "id": "c7GXz0m2hG4G"
      },
      "outputs": [],
      "source": [
        "def solution(numbers):\n",
        "    answer = []\n",
        "    for i in range(len(numbers)):\n",
        "        for j in range(i+1, len(numbers)):\n",
        "            answer.append(numbers[i] + numbers[j])\n",
        "    return sorted(list(set(answer)))"
      ]
    },
    {
      "cell_type": "markdown",
      "source": [
        "# 2016년\n",
        "- https://school.programmers.co.kr/learn/courses/30/lessons/12901"
      ],
      "metadata": {
        "id": "jbtcZPDfhVQ0"
      }
    },
    {
      "cell_type": "code",
      "source": [
        "def solution(a, b):\n",
        "    day=['FRI','SAT','SUN','MON','TUE','WED','THU']\n",
        "    month=[0,31,29,31,30,31,30,31,31,30,31,30,31]\n",
        "    for i in range(1,a):\n",
        "        b+=month[i]\n",
        "    answer=day[b%7-1]\n",
        "    return answer"
      ],
      "metadata": {
        "id": "G8Ymx3nmhVDI"
      },
      "execution_count": null,
      "outputs": []
    },
    {
      "cell_type": "markdown",
      "source": [
        "# 나머지가 1이 되는 수 찾기\n",
        "- https://school.programmers.co.kr/learn/courses/30/lessons/87389"
      ],
      "metadata": {
        "id": "092WxLCIlHn5"
      }
    },
    {
      "cell_type": "code",
      "source": [
        "def solution(n):\n",
        "    for i in range(2,n):\n",
        "        if n%i==1:\n",
        "            return i"
      ],
      "metadata": {
        "id": "NWtRIqS8hU6f"
      },
      "execution_count": null,
      "outputs": []
    },
    {
      "cell_type": "markdown",
      "source": [
        "# 부족한 금액 계산하기\n",
        "- https://school.programmers.co.kr/learn/courses/30/lessons/82612"
      ],
      "metadata": {
        "id": "QD9jCaoBlpT6"
      }
    },
    {
      "cell_type": "code",
      "source": [
        "def solution(price, money, count):\n",
        "    tp=sum(list(x for x in range(1,count+1)))*price\n",
        "    if tp-money<=0:\n",
        "        return 0\n",
        "    else:\n",
        "        return tp-money"
      ],
      "metadata": {
        "id": "V9JpzQkRlpms"
      },
      "execution_count": null,
      "outputs": []
    }
  ]
}