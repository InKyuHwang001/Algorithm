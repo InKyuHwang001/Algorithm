{
  "nbformat": 4,
  "nbformat_minor": 0,
  "metadata": {
    "colab": {
      "name": "5/27(약수의 개수와 덧셈, 3진법 뒤집기).ipynb",
      "provenance": [],
      "collapsed_sections": []
    },
    "kernelspec": {
      "name": "python3",
      "display_name": "Python 3"
    },
    "language_info": {
      "name": "python"
    }
  },
  "cells": [
    {
      "cell_type": "markdown",
      "source": [
        "# 약수의 개수와 덧셈\n",
        "- https://programmers.co.kr/learn/courses/30/lessons/77884"
      ],
      "metadata": {
        "id": "_v0Ea0g81rOC"
      }
    },
    {
      "cell_type": "code",
      "source": [
        "def solution(left, right):\n",
        "    answer = 0\n",
        "    for num in range(int(left), int(right)+1):\n",
        "        count=0\n",
        "        for i in range(1, num+1):\n",
        "            if num%i==0:\n",
        "                count+=1\n",
        "        if count%2==0:\n",
        "            answer+=num\n",
        "        else:\n",
        "            answer-=num\n",
        "    return answer"
      ],
      "metadata": {
        "id": "8PYsAAyN9i8Y"
      },
      "execution_count": null,
      "outputs": []
    },
    {
      "cell_type": "code",
      "source": [
        "def solution(left, right):\n",
        "    answer = 0\n",
        "    for i in range(left,right+1):\n",
        "        if int(i**0.5)==i**0.5:\n",
        "            answer -= i\n",
        "        else:\n",
        "            answer += i\n",
        "    return answer\n",
        "\n",
        "#모든 수는  2개의 수로 되어있고 그 수를 약수로 가진다. 만약 동일한 수의 곱으로 이루어지면 홀수개의 약수를 가지게 된다."
      ],
      "metadata": {
        "id": "65U3QQNN9At8"
      },
      "execution_count": null,
      "outputs": []
    },
    {
      "cell_type": "markdown",
      "source": [
        "# 3진법 뒤집기\n",
        "\n",
        "- https://programmers.co.kr/learn/courses/30/lessons/68935"
      ],
      "metadata": {
        "id": "NqgW9eCwu4DT"
      }
    },
    {
      "cell_type": "code",
      "source": [
        "def ternarymaker(x):\n",
        "    if x<3:\n",
        "        return str(x)\n",
        "    else:\n",
        "        return str(ternarymaker(x//3))+str(x%3)\n",
        "\n",
        "def solution(n):\n",
        "    ternary=list(ternarymaker(n))\n",
        "    ternary.reverse()\n",
        "    answer=''.join(ternary)\n",
        "    return int(answer,3)\n",
        "#3진수를 만들고 변형하는 것이 아니라 만들며 변형하는 방법이 있다."
      ],
      "metadata": {
        "id": "88kjHmQ9PgFR"
      },
      "execution_count": null,
      "outputs": []
    },
    {
      "cell_type": "code",
      "source": [
        "def solution(n):\n",
        "    tmp = ''\n",
        "    while n:\n",
        "        tmp += str(n % 3)\n",
        "        n = n // 3\n",
        "\n",
        "    answer = int(tmp, 3)\n",
        "    return answer"
      ],
      "metadata": {
        "id": "TBP03cQNPvcW"
      },
      "execution_count": null,
      "outputs": []
    }
  ]
}