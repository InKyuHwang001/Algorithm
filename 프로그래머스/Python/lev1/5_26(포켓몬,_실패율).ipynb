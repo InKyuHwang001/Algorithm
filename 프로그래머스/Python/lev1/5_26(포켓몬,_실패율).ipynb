{
  "nbformat": 4,
  "nbformat_minor": 0,
  "metadata": {
    "colab": {
      "name": "5/26(포켓몬, 실패율).ipynb",
      "provenance": [],
      "collapsed_sections": []
    },
    "kernelspec": {
      "name": "python3",
      "display_name": "Python 3"
    },
    "language_info": {
      "name": "python"
    }
  },
  "cells": [
    {
      "cell_type": "markdown",
      "source": [
        "# 포켓몬\n",
        "- https://programmers.co.kr/learn/courses/30/lessons/1845\n"
      ],
      "metadata": {
        "id": "_v0Ea0g81rOC"
      }
    },
    {
      "cell_type": "code",
      "source": [
        "def solution(nums):\n",
        "    pick = len(nums) // 2\n",
        "    nums = set(nums)\n",
        "    answer = pick if len(nums) >= pick else len(nums)\n",
        "    return answer"
      ],
      "metadata": {
        "id": "8PYsAAyN9i8Y"
      },
      "execution_count": null,
      "outputs": []
    },
    {
      "cell_type": "code",
      "source": [
        "def solution(nums):\n",
        "    choose = int(len(nums) / 2) # 주어지는 리스트는 항상 짝수\n",
        "    nums = set(nums) # set으로 중복 제거\n",
        "    \n",
        "    answer = min(len(nums), choose)\n",
        "    \n",
        "    return answer"
      ],
      "metadata": {
        "id": "65U3QQNN9At8"
      },
      "execution_count": null,
      "outputs": []
    },
    {
      "cell_type": "markdown",
      "source": [
        "# 실패율\n",
        "- https://programmers.co.kr/learn/courses/30/lessons/42889"
      ],
      "metadata": {
        "id": "NqgW9eCwu4DT"
      }
    },
    {
      "cell_type": "code",
      "source": [
        "def solution(N,stages):\n",
        "    answer=[]\n",
        "    length=len(stages)\n",
        "    #스테이지 번호를 1부터 N까지 증가시키며\n",
        "    for i in range(1,N+1):\n",
        "        #해당 스테이지에 머물러 있는 사람의 수 계산\n",
        "        count= stages.count(i)\n",
        "        #실패율 계산\n",
        "        if length==0:\n",
        "            fail=0\n",
        "        else:\n",
        "            fail=count/length\n",
        "        #리스트에 원소 삽입\n",
        "        answer.append((i,fail))\n",
        "        length-=count\n",
        "    #실패율을 기준으로 각 스테이지를 내림차순 정렬\n",
        "    answer=sorted(answer, key=lambda t:t[1], reverse=True)\n",
        "    #정렬된 스테이지 번호 출력\n",
        "    answer=[i[0] for i in answer]\n",
        "    return answer\n",
        "\n",
        "#lambda 매개변수 : 결과 ==(def f(매개변수):return 결과)\n",
        "#sorted(정렬할 데이터, key 파라미터, reverse 파라미터)\n",
        "  #key어떤기준/ reverse=True: 내림차순"
      ],
      "metadata": {
        "id": "88kjHmQ9PgFR"
      },
      "execution_count": null,
      "outputs": []
    },
    {
      "cell_type": "code",
      "source": [
        "def solution(N, stages):\n",
        "    result = {}\n",
        "    denominator = len(stages)\n",
        "    for stage in range(1, N+1):\n",
        "        if denominator != 0:\n",
        "            count = stages.count(stage)\n",
        "            result[stage] = count / denominator\n",
        "            denominator -= count\n",
        "        else:\n",
        "            result[stage] = 0\n",
        "    return sorted(result, key=lambda x : result[x], reverse=True)"
      ],
      "metadata": {
        "id": "TBP03cQNPvcW"
      },
      "execution_count": null,
      "outputs": []
    }
  ]
}