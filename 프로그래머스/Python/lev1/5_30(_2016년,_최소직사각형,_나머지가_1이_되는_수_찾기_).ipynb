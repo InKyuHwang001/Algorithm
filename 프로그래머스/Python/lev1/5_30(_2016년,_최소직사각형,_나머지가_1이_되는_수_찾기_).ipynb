{
  "nbformat": 4,
  "nbformat_minor": 0,
  "metadata": {
    "colab": {
      "name": "5/30( 2016년, 최소직사각형, 나머지가 1이 되는 수 찾기 ).ipynb",
      "provenance": [],
      "collapsed_sections": []
    },
    "kernelspec": {
      "name": "python3",
      "display_name": "Python 3"
    },
    "language_info": {
      "name": "python"
    }
  },
  "cells": [
    {
      "cell_type": "markdown",
      "source": [
        "# 2016년\n",
        "- https://programmers.co.kr/learn/courses/30/lessons/12901"
      ],
      "metadata": {
        "id": "_v0Ea0g81rOC"
      }
    },
    {
      "cell_type": "code",
      "source": [
        "def solution(a, b):\n",
        "    day = [\"THU\",\"FRI\",\"SAT\",\"SUN\",\"MON\",\"TUE\",\"WED\"] \n",
        "    mon = [31, 29, 31, 30, 31, 30 , 31, 31, 30, 31, 30, 31]\n",
        "    return day[(sum(mon[:a-1]) + b) % 7]\n",
        "  #더한게 필요할땐sum좀 쓰자 "
      ],
      "metadata": {
        "id": "8PYsAAyN9i8Y"
      },
      "execution_count": null,
      "outputs": []
    },
    {
      "cell_type": "code",
      "source": [
        "import datetime\n",
        "\n",
        "def getDayName(a,b):\n",
        "    t = 'MON TUE WED THU FRI SAT SUN'.split()\n",
        "    return t[datetime.datetime(2016, a, b).weekday()]\n",
        "#datetime 함수 datetime(년,월,일)"
      ],
      "metadata": {
        "id": "65U3QQNN9At8"
      },
      "execution_count": null,
      "outputs": []
    },
    {
      "cell_type": "markdown",
      "source": [
        "# 최소직사각형\n",
        "- https://programmers.co.kr/learn/courses/30/lessons/86491"
      ],
      "metadata": {
        "id": "c8gGwr8FcPxQ"
      }
    },
    {
      "cell_type": "code",
      "source": [
        "def solution(sizes):\n",
        "    temp=[]\n",
        "    col=0\n",
        "    for i in range(len(sizes)):\n",
        "        for j in range(2):\n",
        "            col=max(sizes[i][j],col)\n",
        "        temp.append(min(sizes[i]))    \n",
        "    row=max(temp)\n",
        "    answer=col*row\n",
        "    return answer"
      ],
      "metadata": {
        "id": "BecRcvyIeYL-"
      },
      "execution_count": null,
      "outputs": []
    },
    {
      "cell_type": "code",
      "source": [
        "def solution(sizes):\n",
        "    return max(max(x) for x in sizes) * max(min(x) for x in sizes)\n",
        "\n",
        "#가장 큰 수와 가장 작은 수중 큰수를 곱하면 "
      ],
      "metadata": {
        "id": "sfScD2u_ekn1"
      },
      "execution_count": null,
      "outputs": []
    },
    {
      "cell_type": "markdown",
      "source": [
        "# 나머지가 1이 되는 수 찾기\n",
        "\n",
        "- https://programmers.co.kr/learn/courses/30/lessons/87389"
      ],
      "metadata": {
        "id": "xa6OGeE2EbGp"
      }
    },
    {
      "cell_type": "code",
      "source": [
        "def solution(n):\n",
        "    for i in range(1,n):\n",
        "        if n%i==1:\n",
        "            answer=i\n",
        "            return answer"
      ],
      "metadata": {
        "id": "NV3lN_rTEXuM"
      },
      "execution_count": null,
      "outputs": []
    },
    {
      "cell_type": "code",
      "source": [
        "def solution(n):\n",
        "    answer = min([x for x in range(1, n+1) if n % x == 1])\n",
        "    return answer"
      ],
      "metadata": {
        "id": "WlujBsqYELRT"
      },
      "execution_count": null,
      "outputs": []
    }
  ]
}