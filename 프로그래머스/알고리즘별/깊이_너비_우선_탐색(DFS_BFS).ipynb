{
  "cells": [
    {
      "cell_type": "markdown",
      "metadata": {
        "id": "Nh1CtwF6nAwq"
      },
      "source": [
        "- 트리형으로 나오는 것을 찾아갈때\n"
      ]
    },
    {
      "cell_type": "markdown",
      "metadata": {
        "id": "HQ6N_qwrnIS4"
      },
      "source": [
        "# 타겟 넘버"
      ]
    },
    {
      "cell_type": "markdown",
      "metadata": {
        "id": "9vQ8MC_g6_7r"
      },
      "source": [
        "## BFS"
      ]
    },
    {
      "cell_type": "code",
      "execution_count": null,
      "metadata": {
        "id": "THQEU2mFnKO7"
      },
      "outputs": [],
      "source": [
        "'''\n",
        "1.아이디어\n",
        "2.자료구조\n",
        "'''\n",
        "def solution(numbers, target):\n",
        "    answer = 0\n",
        "    n=len(numbers)\n",
        "    q=[]\n",
        "    q.append([numbers[0],0])\n",
        "    q.append([-1*numbers[0],0])\n",
        "    while q:\n",
        "        temp,idx=q.pop()\n",
        "        idx+=1\n",
        "        if idx<n:\n",
        "            q.append([temp+numbers[idx], idx])\n",
        "            q.append([temp-numbers[idx], idx])\n",
        "        else:\n",
        "            if temp==target:\n",
        "                answer+=1\n",
        "    return answer"
      ]
    },
    {
      "cell_type": "markdown",
      "metadata": {
        "id": "BhfemKqp7DGb"
      },
      "source": [
        "## DFS"
      ]
    },
    {
      "cell_type": "code",
      "execution_count": null,
      "metadata": {
        "id": "sduIfz3d6-dV"
      },
      "outputs": [],
      "source": [
        "def solution(numbers, target):\n",
        "    n = len(numbers)\n",
        "    answer = 0\n",
        "    def dfs(idx, result):\n",
        "        if idx == n:\n",
        "            if result == target:\n",
        "                nonlocal answer\n",
        "                answer += 1\n",
        "            return\n",
        "        else:\n",
        "            dfs(idx+1, result+numbers[idx])\n",
        "            dfs(idx+1, result-numbers[idx])\n",
        "    dfs(0,0)\n",
        "    return answer\n"
      ]
    },
    {
      "cell_type": "markdown",
      "metadata": {
        "id": "PlYkpeiZ90HB"
      },
      "source": [
        "## global과 nonlocal"
      ]
    },
    {
      "cell_type": "markdown",
      "metadata": {
        "id": "RhK3VRxS8f6g"
      },
      "source": [
        "### global"
      ]
    },
    {
      "cell_type": "code",
      "execution_count": null,
      "metadata": {
        "colab": {
          "base_uri": "https://localhost:8080/"
        },
        "id": "sJndarsN87mc",
        "outputId": "652e3950-fe48-4ba6-8110-f1bf55def6e0"
      },
      "outputs": [
        {
          "name": "stdout",
          "output_type": "stream",
          "text": [
            "2\n"
          ]
        }
      ],
      "source": [
        "n = 1 \n",
        "def func1(): \n",
        "  def func2(): \n",
        "    global n \n",
        "    n += 1 \n",
        "    print(n) # 2 \n",
        "  func2() \n",
        "func1()"
      ]
    },
    {
      "cell_type": "markdown",
      "metadata": {
        "id": "KFplG92O8iuO"
      },
      "source": [
        "n을 전역변수로 선언해주고 함수 내부에서 편집을 원할 때, '나는 지금 함수 내의 n이 아닌 전역변수 n을 쓸거야'라는 의미로 global n이라고 선언해주면 문제없이 사용이 가능하다."
      ]
    },
    {
      "cell_type": "code",
      "execution_count": null,
      "metadata": {
        "id": "ZkMvb83K9E5m"
      },
      "outputs": [],
      "source": [
        "def func1(): \n",
        "  n = 1 \n",
        "  def func2(): \n",
        "    global n \n",
        "    n += 1 \n",
        "    print(n) # error\n",
        "  func2() \n",
        "func1()"
      ]
    },
    {
      "cell_type": "markdown",
      "metadata": {
        "id": "kJdspXfe9I9m"
      },
      "source": [
        "- 만약 위와 같이 전역 변수 n이 아닌 변수에 global 키워드로 지정해준다면 NameError: name 'n' is not defined에러가 발생한다.\n",
        "- 이는 전역변수로 선언된 n이 없기 때문이다.\n",
        "- 이런 경우는 global이 아닌 nonlocal 키워드를 사용해야한다.\n"
      ]
    },
    {
      "cell_type": "markdown",
      "metadata": {
        "id": "PdmQ00Gw9QTW"
      },
      "source": [
        "### nonlocal"
      ]
    },
    {
      "cell_type": "code",
      "execution_count": null,
      "metadata": {
        "id": "JiKG5uam9Sc6"
      },
      "outputs": [],
      "source": [
        "def func1(): \n",
        "  n = 1 \n",
        "  def func2(): \n",
        "    nonlocal n \n",
        "    n += 1\n",
        "    print(n) # 2 \n",
        "  func2() \n",
        "func1()"
      ]
    },
    {
      "cell_type": "markdown",
      "metadata": {
        "id": "6i_r_Aq39Yem"
      },
      "source": [
        "- 위와 같이 현재의 scope내의 지역변수가 아니고, 전역변수도 아닌 변수 n을 사용할 때는 nonlocal키워드를 써준다.\n",
        "- '나는 지금 지역변수는 아닌 변수를 사용할거야'라는 의미로 nonlocal n이라고 설정해주면 문제없이 사용 가능하다.\n",
        "- 출처: https://juhi.tistory.com/6 [주하히의 기술 블로그:티스토리]"
      ]
    },
    {
      "cell_type": "markdown",
      "metadata": {
        "id": "CTKCtcM0P1SO"
      },
      "source": [
        "# 단어 변환"
      ]
    },
    {
      "cell_type": "markdown",
      "metadata": {
        "id": "e_mfBiTOP2pk"
      },
      "source": [
        "https://programmers.co.kr/learn/courses/30/lessons/43163"
      ]
    },
    {
      "cell_type": "code",
      "execution_count": null,
      "metadata": {
        "id": "67xtMkN4P31h"
      },
      "outputs": [],
      "source": [
        "def solution(begin, target, words):\n",
        "    answer = 0\n",
        "    q = []\n",
        "    q.append([begin, 0])\n",
        "    V = [ 0 for i in range(len(words))]\n",
        "    while q:\n",
        "        word, cnt = q.pop()\n",
        "        if word == target:\n",
        "            answer = cnt\n",
        "            break        \n",
        "        for i in range(len(words)):\n",
        "            temp_cnt = 0\n",
        "            if not V[i]:\n",
        "                for j in range(len(word)):\n",
        "                    if word[j] != words[i][j]:\n",
        "                        temp_cnt += 1\n",
        "                if temp_cnt == 1:\n",
        "                    q.append([words[i], cnt+1])\n",
        "                    V[i] = 1\n",
        "                    \n",
        "    return answer\n",
        "  # not V[i]: 값이 0이면"
      ]
    },
    {
      "cell_type": "markdown",
      "metadata": {
        "id": "upRUoFpiUH2r"
      },
      "source": []
    },
    {
      "cell_type": "markdown",
      "metadata": {
        "id": "G3Iyd-U2IGBZ"
      },
      "source": [
        "# 네트워크"
      ]
    },
    {
      "cell_type": "markdown",
      "metadata": {
        "id": "sqVzm9fBIxZE"
      },
      "source": [
        "https://programmers.co.kr/learn/courses/30/lessons/43162"
      ]
    },
    {
      "cell_type": "markdown",
      "metadata": {
        "id": "Bk56jWGqIJ-2"
      },
      "source": [
        "## BFS"
      ]
    },
    {
      "cell_type": "code",
      "execution_count": null,
      "metadata": {
        "id": "2I58gHrmIJYz"
      },
      "outputs": [],
      "source": [
        "def solution(n, computers):\n",
        "    answer = 0\n",
        "    visited = [False for i in range(n)]\n",
        "    for com in range(n):\n",
        "        if visited[com] == False:\n",
        "            BFS(n, computers, com, visited)\n",
        "            answer += 1\n",
        "    return answer\n",
        "\n",
        "def BFS(n, computers, com, visited):\n",
        "    visited[com] = True\n",
        "    queue = []\n",
        "    queue.append(com)\n",
        "    while len(queue) != 0:\n",
        "        com = queue.pop(0)\n",
        "        visited[com] = True\n",
        "        for connect in range(n):\n",
        "            if connect != com and computers[com][connect] == 1:\n",
        "                if visited[connect] == False:\n",
        "                    queue.append(connect)"
      ]
    },
    {
      "cell_type": "markdown",
      "metadata": {
        "id": "FS06FIHRIdpv"
      },
      "source": [
        "## DFS"
      ]
    },
    {
      "cell_type": "code",
      "execution_count": null,
      "metadata": {
        "id": "C_mQQdD-IdLh"
      },
      "outputs": [],
      "source": [
        "def solution(n, computers):\n",
        "    answer = 0\n",
        "    visited = [False for i in range(n)]\n",
        "    for com in range(n):\n",
        "        if visited[com] == False:\n",
        "            DFS(n, computers, com, visited)\n",
        "            answer += 1 #DFS로 최대한 컴퓨터들을 방문하고 빠져나오게 되면 그것이 하나의 네트워크.\n",
        "    return answer\n",
        "\n",
        "def DFS(n, computers, com, visited):\n",
        "    visited[com] = True\n",
        "    for connect in range(n):\n",
        "        if connect != com and computers[com][connect] == 1: #연결된 컴퓨터\n",
        "            if visited[connect] == False:\n",
        "                DFS(n, computers, connect, visited)"
      ]
    },
    {
      "cell_type": "markdown",
      "metadata": {
        "id": "V1z0BoKWR3Vs"
      },
      "source": [
        "# 여행경로"
      ]
    },
    {
      "cell_type": "markdown",
      "metadata": {
        "id": "WDYhCnL-R8r-"
      },
      "source": [
        "- https://programmers.co.kr/learn/courses/30/lessons/43164"
      ]
    },
    {
      "cell_type": "code",
      "execution_count": null,
      "metadata": {
        "id": "eyN8-4TSR99i"
      },
      "outputs": [],
      "source": [
        "def solution(tickets):\n",
        "    graph={i[0]:[] for i in tickets}\n",
        "    for i in tickets:\n",
        "        graph[i[0]].append(i[1])\n",
        "    # \t{'ICN': ['SFO', 'ATL'], 'SFO': ['ATL'], 'ATL': ['ICN', 'SFO']}\n",
        "    for i in graph.keys():\n",
        "        graph[i].sort(reverse=True)\n",
        "    #\t{'ICN': ['SFO', 'ATL'], 'SFO': ['ATL'], 'ATL': ['SFO', 'ICN']}\n",
        "    result=[]\n",
        "    stack=[\"ICN\"]\n",
        "    while stack:\n",
        "        top=stack[-1]\n",
        "        \n",
        "        if top not in graph or len(graph[top])==0:\n",
        "            result.append(stack.pop())\n",
        "        else:\n",
        "            stack.append(graph[top].pop())\n",
        "    \n",
        "    result.reverse()\n",
        "    return result"
      ]
    },
    {
      "cell_type": "markdown",
      "metadata": {},
      "source": [
        "# 게임 맵 최단거리\n"
      ]
    },
    {
      "cell_type": "markdown",
      "metadata": {},
      "source": [
        "- https://school.programmers.co.kr/learn/courses/30/lessons/1844"
      ]
    },
    {
      "cell_type": "code",
      "execution_count": null,
      "metadata": {},
      "outputs": [],
      "source": [
        "from collections import deque\n",
        "\n",
        "def solution(maps):\n",
        "    n, m = len(maps), len(maps[0])\n",
        "    dx, dy = [1, -1, 0, 0], [0, 0, 1, -1]\n",
        "    visited = [[0 for _ in range(m)] for _ in range(n)]\n",
        "    visited[0][0] = 1\n",
        "    queue = deque([(0, 0)])\n",
        "    cnt = 0\n",
        "    while queue:\n",
        "        x, y = queue.popleft()\n",
        "        if x == n-1 and y == m-1:\n",
        "            return visited[x][y]\n",
        "        for i in range(4):\n",
        "            nx, ny = x+dx[i], y+dy[i]\n",
        "            if 0 <= nx < n and 0 <= ny < m and visited[nx][ny] == 0 and maps[x][y] == 1:\n",
        "                visited[nx][ny] = visited[x][y]+1\n",
        "                queue.append((nx, ny))\n",
        "    return -1"
      ]
    }
  ],
  "metadata": {
    "colab": {
      "collapsed_sections": [
        "HQ6N_qwrnIS4",
        "G3Iyd-U2IGBZ",
        "Bk56jWGqIJ-2",
        "V1z0BoKWR3Vs"
      ],
      "name": "깊이/너비 우선 탐색(DFS/BFS).ipynb",
      "provenance": []
    },
    "kernelspec": {
      "display_name": "Python 3",
      "name": "python3"
    },
    "language_info": {
      "name": "python"
    }
  },
  "nbformat": 4,
  "nbformat_minor": 0
}
