{
  "nbformat": 4,
  "nbformat_minor": 0,
  "metadata": {
    "colab": {
      "name": "깊이/너비 우선 탐색(DFS/BFS).ipynb",
      "provenance": [],
      "collapsed_sections": [
        "HQ6N_qwrnIS4",
        "G3Iyd-U2IGBZ",
        "Bk56jWGqIJ-2",
        "V1z0BoKWR3Vs"
      ]
    },
    "kernelspec": {
      "name": "python3",
      "display_name": "Python 3"
    },
    "language_info": {
      "name": "python"
    }
  },
  "cells": [
    {
      "cell_type": "markdown",
      "source": [
        "- 트리형으로 나오는 것을 찾아갈때\n"
      ],
      "metadata": {
        "id": "Nh1CtwF6nAwq"
      }
    },
    {
      "cell_type": "markdown",
      "source": [
        "# 타겟 넘버"
      ],
      "metadata": {
        "id": "HQ6N_qwrnIS4"
      }
    },
    {
      "cell_type": "markdown",
      "source": [
        "## BFS"
      ],
      "metadata": {
        "id": "9vQ8MC_g6_7r"
      }
    },
    {
      "cell_type": "code",
      "source": [
        "'''\n",
        "1.아이디어\n",
        "2.자료구조\n",
        "'''\n",
        "def solution(numbers, target):\n",
        "    answer = 0\n",
        "    n=len(numbers)\n",
        "    q=[]\n",
        "    q.append([numbers[0],0])\n",
        "    q.append([-1*numbers[0],0])\n",
        "    while q:\n",
        "        temp,idx=q.pop()\n",
        "        idx+=1\n",
        "        if idx<n:\n",
        "            q.append([temp+numbers[idx], idx])\n",
        "            q.append([temp-numbers[idx], idx])\n",
        "        else:\n",
        "            if temp==target:\n",
        "                answer+=1\n",
        "    return answer"
      ],
      "metadata": {
        "id": "THQEU2mFnKO7"
      },
      "execution_count": null,
      "outputs": []
    },
    {
      "cell_type": "markdown",
      "source": [
        "## DFS"
      ],
      "metadata": {
        "id": "BhfemKqp7DGb"
      }
    },
    {
      "cell_type": "code",
      "source": [
        "def solution(numbers, target):\n",
        "    n = len(numbers)\n",
        "    answer = 0\n",
        "    def dfs(idx, result):\n",
        "        if idx == n:\n",
        "            if result == target:\n",
        "                nonlocal answer\n",
        "                answer += 1\n",
        "            return\n",
        "        else:\n",
        "            dfs(idx+1, result+numbers[idx])\n",
        "            dfs(idx+1, result-numbers[idx])\n",
        "    dfs(0,0)\n",
        "    return answer\n"
      ],
      "metadata": {
        "id": "sduIfz3d6-dV"
      },
      "execution_count": null,
      "outputs": []
    },
    {
      "cell_type": "markdown",
      "source": [
        "## global과 nonlocal"
      ],
      "metadata": {
        "id": "PlYkpeiZ90HB"
      }
    },
    {
      "cell_type": "markdown",
      "source": [
        "### global"
      ],
      "metadata": {
        "id": "RhK3VRxS8f6g"
      }
    },
    {
      "cell_type": "code",
      "source": [
        "n = 1 \n",
        "def func1(): \n",
        "  def func2(): \n",
        "    global n \n",
        "    n += 1 \n",
        "    print(n) # 2 \n",
        "  func2() \n",
        "func1()"
      ],
      "metadata": {
        "colab": {
          "base_uri": "https://localhost:8080/"
        },
        "id": "sJndarsN87mc",
        "outputId": "652e3950-fe48-4ba6-8110-f1bf55def6e0"
      },
      "execution_count": null,
      "outputs": [
        {
          "output_type": "stream",
          "name": "stdout",
          "text": [
            "2\n"
          ]
        }
      ]
    },
    {
      "cell_type": "markdown",
      "source": [
        "n을 전역변수로 선언해주고 함수 내부에서 편집을 원할 때, '나는 지금 함수 내의 n이 아닌 전역변수 n을 쓸거야'라는 의미로 global n이라고 선언해주면 문제없이 사용이 가능하다."
      ],
      "metadata": {
        "id": "KFplG92O8iuO"
      }
    },
    {
      "cell_type": "code",
      "source": [
        "def func1(): \n",
        "  n = 1 \n",
        "  def func2(): \n",
        "    global n \n",
        "    n += 1 \n",
        "    print(n) # error\n",
        "  func2() \n",
        "func1()"
      ],
      "metadata": {
        "id": "ZkMvb83K9E5m"
      },
      "execution_count": null,
      "outputs": []
    },
    {
      "cell_type": "markdown",
      "source": [
        "- 만약 위와 같이 전역 변수 n이 아닌 변수에 global 키워드로 지정해준다면 NameError: name 'n' is not defined에러가 발생한다.\n",
        "- 이는 전역변수로 선언된 n이 없기 때문이다.\n",
        "- 이런 경우는 global이 아닌 nonlocal 키워드를 사용해야한다.\n"
      ],
      "metadata": {
        "id": "kJdspXfe9I9m"
      }
    },
    {
      "cell_type": "markdown",
      "source": [
        "### nonlocal"
      ],
      "metadata": {
        "id": "PdmQ00Gw9QTW"
      }
    },
    {
      "cell_type": "code",
      "source": [
        "def func1(): \n",
        "  n = 1 \n",
        "  def func2(): \n",
        "    nonlocal n \n",
        "    n += 1\n",
        "    print(n) # 2 \n",
        "  func2() \n",
        "func1()"
      ],
      "metadata": {
        "id": "JiKG5uam9Sc6"
      },
      "execution_count": null,
      "outputs": []
    },
    {
      "cell_type": "markdown",
      "source": [
        "- 위와 같이 현재의 scope내의 지역변수가 아니고, 전역변수도 아닌 변수 n을 사용할 때는 nonlocal키워드를 써준다.\n",
        "- '나는 지금 지역변수는 아닌 변수를 사용할거야'라는 의미로 nonlocal n이라고 설정해주면 문제없이 사용 가능하다.\n",
        "- 출처: https://juhi.tistory.com/6 [주하히의 기술 블로그:티스토리]"
      ],
      "metadata": {
        "id": "6i_r_Aq39Yem"
      }
    },
    {
      "cell_type": "markdown",
      "source": [
        "# 단어 변환"
      ],
      "metadata": {
        "id": "CTKCtcM0P1SO"
      }
    },
    {
      "cell_type": "markdown",
      "source": [
        "https://programmers.co.kr/learn/courses/30/lessons/43163"
      ],
      "metadata": {
        "id": "e_mfBiTOP2pk"
      }
    },
    {
      "cell_type": "code",
      "source": [
        "def solution(begin, target, words):\n",
        "    answer = 0\n",
        "    q = []\n",
        "    q.append([begin, 0])\n",
        "    V = [ 0 for i in range(len(words))]\n",
        "    while q:\n",
        "        word, cnt = q.pop()\n",
        "        if word == target:\n",
        "            answer = cnt\n",
        "            break        \n",
        "        for i in range(len(words)):\n",
        "            temp_cnt = 0\n",
        "            if not V[i]:\n",
        "                for j in range(len(word)):\n",
        "                    if word[j] != words[i][j]:\n",
        "                        temp_cnt += 1\n",
        "                if temp_cnt == 1:\n",
        "                    q.append([words[i], cnt+1])\n",
        "                    V[i] = 1\n",
        "                    \n",
        "    return answer\n",
        "  # not V[i]: 값이 0이면"
      ],
      "metadata": {
        "id": "67xtMkN4P31h"
      },
      "execution_count": null,
      "outputs": []
    },
    {
      "cell_type": "markdown",
      "source": [
        ""
      ],
      "metadata": {
        "id": "upRUoFpiUH2r"
      }
    },
    {
      "cell_type": "markdown",
      "source": [
        "# 네트워크"
      ],
      "metadata": {
        "id": "G3Iyd-U2IGBZ"
      }
    },
    {
      "cell_type": "markdown",
      "source": [
        "https://programmers.co.kr/learn/courses/30/lessons/43162"
      ],
      "metadata": {
        "id": "sqVzm9fBIxZE"
      }
    },
    {
      "cell_type": "markdown",
      "source": [
        "## BFS"
      ],
      "metadata": {
        "id": "Bk56jWGqIJ-2"
      }
    },
    {
      "cell_type": "code",
      "source": [
        "def solution(n, computers):\n",
        "    answer = 0\n",
        "    visited = [False for i in range(n)]\n",
        "    for com in range(n):\n",
        "        if visited[com] == False:\n",
        "            BFS(n, computers, com, visited)\n",
        "            answer += 1\n",
        "    return answer\n",
        "\n",
        "def BFS(n, computers, com, visited):\n",
        "    visited[com] = True\n",
        "    queue = []\n",
        "    queue.append(com)\n",
        "    while len(queue) != 0:\n",
        "        com = queue.pop(0)\n",
        "        visited[com] = True\n",
        "        for connect in range(n):\n",
        "            if connect != com and computers[com][connect] == 1:\n",
        "                if visited[connect] == False:\n",
        "                    queue.append(connect)"
      ],
      "metadata": {
        "id": "2I58gHrmIJYz"
      },
      "execution_count": null,
      "outputs": []
    },
    {
      "cell_type": "markdown",
      "source": [
        "## DFS"
      ],
      "metadata": {
        "id": "FS06FIHRIdpv"
      }
    },
    {
      "cell_type": "code",
      "source": [
        "def solution(n, computers):\n",
        "    answer = 0\n",
        "    visited = [False for i in range(n)]\n",
        "    for com in range(n):\n",
        "        if visited[com] == False:\n",
        "            DFS(n, computers, com, visited)\n",
        "            answer += 1 #DFS로 최대한 컴퓨터들을 방문하고 빠져나오게 되면 그것이 하나의 네트워크.\n",
        "    return answer\n",
        "\n",
        "def DFS(n, computers, com, visited):\n",
        "    visited[com] = True\n",
        "    for connect in range(n):\n",
        "        if connect != com and computers[com][connect] == 1: #연결된 컴퓨터\n",
        "            if visited[connect] == False:\n",
        "                DFS(n, computers, connect, visited)"
      ],
      "metadata": {
        "id": "C_mQQdD-IdLh"
      },
      "execution_count": null,
      "outputs": []
    },
    {
      "cell_type": "markdown",
      "source": [
        "# 여행경로"
      ],
      "metadata": {
        "id": "V1z0BoKWR3Vs"
      }
    },
    {
      "cell_type": "markdown",
      "source": [
        "- https://programmers.co.kr/learn/courses/30/lessons/43164"
      ],
      "metadata": {
        "id": "WDYhCnL-R8r-"
      }
    },
    {
      "cell_type": "code",
      "source": [
        "def solution(tickets):\n",
        "    graph={i[0]:[] for i in tickets}\n",
        "    for i in tickets:\n",
        "        graph[i[0]].append(i[1])\n",
        "    # \t{'ICN': ['SFO', 'ATL'], 'SFO': ['ATL'], 'ATL': ['ICN', 'SFO']}\n",
        "    for i in graph.keys():\n",
        "        graph[i].sort(reverse=True)\n",
        "    #\t{'ICN': ['SFO', 'ATL'], 'SFO': ['ATL'], 'ATL': ['SFO', 'ICN']}\n",
        "    result=[]\n",
        "    stack=[\"ICN\"]\n",
        "    while stack:\n",
        "        top=stack[-1]\n",
        "        \n",
        "        if top not in graph or len(graph[top])==0:\n",
        "            result.append(stack.pop())\n",
        "        else:\n",
        "            stack.append(graph[top].pop())\n",
        "    \n",
        "    result.reverse()\n",
        "    return result"
      ],
      "metadata": {
        "id": "eyN8-4TSR99i"
      },
      "execution_count": null,
      "outputs": []
    }
  ]
}