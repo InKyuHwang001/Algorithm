{
  "nbformat": 4,
  "nbformat_minor": 0,
  "metadata": {
    "colab": {
      "name": "완전탐색.ipynb",
      "provenance": [],
      "authorship_tag": "ABX9TyPGMyZNrfPeWnlrQlwkfSe/",
      "include_colab_link": true
    },
    "kernelspec": {
      "name": "python3",
      "display_name": "Python 3"
    },
    "language_info": {
      "name": "python"
    }
  },
  "cells": [
    {
      "cell_type": "markdown",
      "metadata": {
        "id": "view-in-github",
        "colab_type": "text"
      },
      "source": [
        "<a href=\"https://colab.research.google.com/github/InKyuHwang001/Algorithm/blob/master/%EC%99%84%EC%A0%84%ED%83%90%EC%83%89.ipynb\" target=\"_parent\"><img src=\"https://colab.research.google.com/assets/colab-badge.svg\" alt=\"Open In Colab\"/></a>"
      ]
    },
    {
      "cell_type": "markdown",
      "source": [
        "# 최소직사각형\n",
        "- https://school.programmers.co.kr/learn/courses/30/lessons/86491"
      ],
      "metadata": {
        "id": "TSnUe9biRGwI"
      }
    },
    {
      "cell_type": "code",
      "source": [
        "def solution(sizes):\n",
        "    w = []\n",
        "    h = []\n",
        "    for i in range(len(sizes)):\n",
        "        if sizes[i][0] >= sizes[i][1]:\n",
        "            w.append(sizes[i][0])\n",
        "            h.append(sizes[i][1])\n",
        "        else:\n",
        "            h.append(sizes[i][0])\n",
        "            w.append(sizes[i][1])\n",
        "\n",
        "    return max(w) * max(h)"
      ],
      "metadata": {
        "id": "lgq9bG5pRGZ-"
      },
      "execution_count": null,
      "outputs": []
    },
    {
      "cell_type": "markdown",
      "source": [
        "# 모의고사\n",
        "- https://school.programmers.co.kr/learn/courses/30/lessons/42840"
      ],
      "metadata": {
        "id": "nfw7m9ckQsxV"
      }
    },
    {
      "cell_type": "code",
      "source": [
        "def solution(answers):\n",
        "    answer = []\n",
        "    supo_1 = [1, 2, 3, 4, 5]\n",
        "    supo_2 = [2, 1, 2, 3, 2, 4, 2, 5]\n",
        "    supo_3 = [3, 3, 1, 1, 2, 2, 4, 4, 5, 5]\n",
        "\n",
        "    cnt = [0, 0, 0]\n",
        "\n",
        "    for i in range(len(answers)):\n",
        "        if answers[i] == supo_1[i % 5]:\n",
        "            cnt[0] += 1\n",
        "        if answers[i] == supo_2[i % 8]:\n",
        "            cnt[1] += 1\n",
        "        if answers[i] == supo_3[i % 10]:\n",
        "            cnt[2] += 1\n",
        "\n",
        "    max_cnt = max(cnt)\n",
        "\n",
        "    for i in range(3):\n",
        "        if max_cnt == cnt[i]:\n",
        "            answer.append(i + 1)\n",
        "\n",
        "    return answer"
      ],
      "metadata": {
        "id": "HQ7wExl7Qsly"
      },
      "execution_count": null,
      "outputs": []
    },
    {
      "cell_type": "markdown",
      "source": [
        "# 소수 찾기\n",
        "- https://school.programmers.co.kr/learn/courses/30/lessons/42839"
      ],
      "metadata": {
        "id": "oSjQ42guQsI2"
      }
    },
    {
      "cell_type": "code",
      "source": [
        "from itertools import permutations\n",
        "def solution(numbers):\n",
        "    answer = []                                   \n",
        "    nums = [n for n in numbers]                  \n",
        "    per = []                                      \n",
        "    for i in range(1, len(numbers)+1):            \n",
        "        per += list(permutations(nums, i))        \n",
        "    new_nums = [int((\"\").join(p)) for p in per]  \n",
        "\n",
        "    for n in new_nums:                           \n",
        "        if n < 2:                                 \n",
        "            continue\n",
        "        check = True            \n",
        "        for i in range(2,int(n**0.5) + 1):        \n",
        "            if n % i == 0:                        \n",
        "                check = False\n",
        "                break\n",
        "        if check:\n",
        "            answer.append(n)                     \n",
        "\n",
        "    return len(set(answer))  "
      ],
      "metadata": {
        "id": "Tlpnq-Y8Qr3X"
      },
      "execution_count": null,
      "outputs": []
    },
    {
      "cell_type": "markdown",
      "source": [
        "# 카펫\n",
        "- https://school.programmers.co.kr/learn/courses/30/lessons/42842"
      ],
      "metadata": {
        "id": "HH1lwhl3QkUM"
      }
    },
    {
      "cell_type": "code",
      "execution_count": null,
      "metadata": {
        "id": "4HDjvwLwQhCS"
      },
      "outputs": [],
      "source": [
        "def solution(brown, yellow):\n",
        "    \n",
        "    answer = []\n",
        "    \n",
        "    yellow_x = 0\n",
        "    yellow_y = 0\n",
        "    \n",
        "    for i in range(1, yellow+1) :\n",
        "        if yellow % i == 0 :\n",
        "            yellow_x = int(yellow/i)\n",
        "            yellow_y = i\n",
        "            if yellow_x*2 + yellow_y*2 + 4 == brown :            \n",
        "                answer.append(yellow_x+2)\n",
        "                answer.append(yellow_y+2)\n",
        "                \n",
        "                return sorted(answer, reverse = True)\n",
        "    \n",
        "    return answer"
      ]
    }
  ]
}