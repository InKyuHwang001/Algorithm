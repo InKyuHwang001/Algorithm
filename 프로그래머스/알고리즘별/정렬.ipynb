{
  "nbformat": 4,
  "nbformat_minor": 0,
  "metadata": {
    "colab": {
      "name": "정렬.ipynb",
      "provenance": [],
      "authorship_tag": "ABX9TyPGlos7xSqO6qDPtt7psxho",
      "include_colab_link": true
    },
    "kernelspec": {
      "name": "python3",
      "display_name": "Python 3"
    },
    "language_info": {
      "name": "python"
    }
  },
  "cells": [
    {
      "cell_type": "markdown",
      "metadata": {
        "id": "view-in-github",
        "colab_type": "text"
      },
      "source": [
        "<a href=\"https://colab.research.google.com/github/InKyuHwang001/Algorithm/blob/master/%EC%A0%95%EB%A0%AC.ipynb\" target=\"_parent\"><img src=\"https://colab.research.google.com/assets/colab-badge.svg\" alt=\"Open In Colab\"/></a>"
      ]
    },
    {
      "cell_type": "markdown",
      "source": [
        "# K번째수\n",
        "- https://school.programmers.co.kr/learn/courses/30/lessons/42748"
      ],
      "metadata": {
        "id": "4uMEWkwqHgGA"
      }
    },
    {
      "cell_type": "code",
      "source": [
        "def solution(array, commands):\n",
        "    answer = []\n",
        "    for command in commands:\n",
        "        i,j,k=command \n",
        "        a=array[(i-1):j]\n",
        "        a.sort()\n",
        "        answer.append(a[k-1])\n",
        "    return answer"
      ],
      "metadata": {
        "id": "HxnXQ_s0Hf6P"
      },
      "execution_count": null,
      "outputs": []
    },
    {
      "cell_type": "markdown",
      "source": [
        "# 가장 큰 수\n",
        "- https://school.programmers.co.kr/learn/courses/30/lessons/42746"
      ],
      "metadata": {
        "id": "RCxV4YlyHfuw"
      }
    },
    {
      "cell_type": "code",
      "source": [
        "def solution(numbers):\n",
        "    numbers_str = [str(num) for num in numbers]  \n",
        "    numbers_str.sort(key=lambda num: num*3, reverse=True)  \n",
        "\n",
        "    return str(int(''.join(numbers_str)))"
      ],
      "metadata": {
        "id": "NV2AEfBUHfkd"
      },
      "execution_count": null,
      "outputs": []
    },
    {
      "cell_type": "markdown",
      "source": [
        "# H-Index\n",
        "- https://school.programmers.co.kr/learn/courses/30/lessons/42747"
      ],
      "metadata": {
        "id": "plLLwEorHfTZ"
      }
    },
    {
      "cell_type": "code",
      "execution_count": null,
      "metadata": {
        "id": "11EZrqFaHbW4"
      },
      "outputs": [],
      "source": [
        "def solution(citations):\n",
        "    citations.sort()\n",
        "    for idx , citation in enumerate(citations):\n",
        "        if citation >= len(citations) - idx :\n",
        "            return len(citations) - idx\n",
        "    return 0"
      ]
    }
  ]
}