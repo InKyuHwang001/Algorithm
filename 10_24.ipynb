{
  "nbformat": 4,
  "nbformat_minor": 0,
  "metadata": {
    "colab": {
      "provenance": [],
      "collapsed_sections": [],
      "authorship_tag": "ABX9TyMJ6BbSLa95r5s3DBqeZN9u",
      "include_colab_link": true
    },
    "kernelspec": {
      "name": "python3",
      "display_name": "Python 3"
    },
    "language_info": {
      "name": "python"
    }
  },
  "cells": [
    {
      "cell_type": "markdown",
      "metadata": {
        "id": "view-in-github",
        "colab_type": "text"
      },
      "source": [
        "<a href=\"https://colab.research.google.com/github/InKyuHwang001/Algorithm/blob/master/10_24.ipynb\" target=\"_parent\"><img src=\"https://colab.research.google.com/assets/colab-badge.svg\" alt=\"Open In Colab\"/></a>"
      ]
    },
    {
      "cell_type": "markdown",
      "source": [
        "# 스킬트리\n",
        "- https://school.programmers.co.kr/learn/courses/30/lessons/49993"
      ],
      "metadata": {
        "id": "DZg3LU9-LMgp"
      }
    },
    {
      "cell_type": "markdown",
      "source": [
        "학국어 해석이 더 어려웠던 문제이다. <br>\n",
        "for else문을 적용해서 풀었다.\n",
        "- else는, for문이 중간에 break 등으로 끊기지 않고, 끝까지 수행 되었을 때 수행하는 코드를 담고 있다."
      ],
      "metadata": {
        "id": "svgfCkJGLUcW"
      }
    },
    {
      "cell_type": "code",
      "source": [
        "data=[1,2,3,4,5,11]\n",
        "for i in data:\n",
        "\tif i > 10:\n",
        "\t\tbreak\n",
        "else:\n",
        "\tprint('10 보다 큰 수 없음')"
      ],
      "metadata": {
        "id": "KDAsouP3LsKL"
      },
      "execution_count": 4,
      "outputs": []
    },
    {
      "cell_type": "code",
      "execution_count": null,
      "metadata": {
        "id": "EYgrVCBpIVAt"
      },
      "outputs": [],
      "source": [
        "def solution(skill, skill_trees):\n",
        "    answer = 0\n",
        "    \n",
        "    for skills in skill_trees:\n",
        "        skill_list = list(skill)\n",
        "        for s in skills:\n",
        "            if s in skill:\n",
        "                if s != skill_list.pop(0):\n",
        "                    break\n",
        "        else:\n",
        "            answer += 1\n",
        "\n",
        "    return answer"
      ]
    }
  ]
}