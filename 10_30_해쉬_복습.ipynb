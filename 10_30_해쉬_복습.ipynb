{
  "nbformat": 4,
  "nbformat_minor": 0,
  "metadata": {
    "colab": {
      "provenance": [],
      "authorship_tag": "ABX9TyPE2SXQf4SgmuaIfq3paBjV",
      "include_colab_link": true
    },
    "kernelspec": {
      "name": "python3",
      "display_name": "Python 3"
    },
    "language_info": {
      "name": "python"
    }
  },
  "cells": [
    {
      "cell_type": "markdown",
      "metadata": {
        "id": "view-in-github",
        "colab_type": "text"
      },
      "source": [
        "<a href=\"https://colab.research.google.com/github/InKyuHwang001/Algorithm/blob/master/10_30_%ED%95%B4%EC%89%AC_%EB%B3%B5%EC%8A%B5.ipynb\" target=\"_parent\"><img src=\"https://colab.research.google.com/assets/colab-badge.svg\" alt=\"Open In Colab\"/></a>"
      ]
    },
    {
      "cell_type": "markdown",
      "source": [
        "# 완주하지 못한 선수"
      ],
      "metadata": {
        "id": "fPe5ee2l8BJN"
      }
    },
    {
      "cell_type": "code",
      "execution_count": null,
      "metadata": {
        "id": "-8oq2-gy78N2"
      },
      "outputs": [],
      "source": [
        "def solution(participant, completion):\n",
        "    participant.sort()\n",
        "    completion.sort()\n",
        "    for i in range(len(completion)):\n",
        "        if participant[i] != completion[i]:\n",
        "            return participant[i]\n",
        "    return participant[-1]"
      ]
    },
    {
      "cell_type": "code",
      "source": [
        "def solution(participant, completion):\n",
        "    answer = ''\n",
        "    hm={x:0 for x in set(participant)}\n",
        "    for x in participant:\n",
        "        hm[x] += 1\n",
        "    for x in completion:\n",
        "        hm[x] -= 1\n",
        "    for x, y in hm.items():\n",
        "        if hm[x] >0:\n",
        "            return x"
      ],
      "metadata": {
        "id": "hoYEsjdR8Pts"
      },
      "execution_count": null,
      "outputs": []
    },
    {
      "cell_type": "markdown",
      "source": [
        "# 폰켓몬"
      ],
      "metadata": {
        "id": "jKgNVwrd9B0r"
      }
    },
    {
      "cell_type": "code",
      "source": [
        "def solution(nums):\n",
        "    x = len(set(nums))\n",
        "    y = len(nums)//2\n",
        "    return min(y,x)"
      ],
      "metadata": {
        "id": "oOZJ4q7A9CcF"
      },
      "execution_count": null,
      "outputs": []
    },
    {
      "cell_type": "markdown",
      "source": [
        "# 전화번호 목록"
      ],
      "metadata": {
        "id": "DAQ5Rmlr-0ip"
      }
    },
    {
      "cell_type": "code",
      "source": [
        "def solution(phone_book):\n",
        "    answer = True\n",
        "    hash_map = {}\n",
        "    for phone_number in phone_book:\n",
        "        hash_map[phone_number] = 1\n",
        "    for phone_number in phone_book:\n",
        "        temp = \"\"\n",
        "        for number in phone_number:\n",
        "            temp += number\n",
        "            if temp in hash_map and temp != phone_number:\n",
        "                answer = False\n",
        "    return answer"
      ],
      "metadata": {
        "id": "fCXe2HOi9CJC"
      },
      "execution_count": null,
      "outputs": []
    },
    {
      "cell_type": "markdown",
      "source": [
        "# 위장"
      ],
      "metadata": {
        "id": "-u4I_70aEfed"
      }
    },
    {
      "cell_type": "code",
      "source": [
        "def solution(clothes):\n",
        "    answer = 1\n",
        "    hm={clothe[1]:1 for clothe in clothes}\n",
        "    for clothe in clothes:\n",
        "        hm[clothe[1]] += 1\n",
        "    for key, value in hm.items():\n",
        "        answer *= value\n",
        "    return answer-1"
      ],
      "metadata": {
        "id": "GbO6BboWEfrh"
      },
      "execution_count": null,
      "outputs": []
    }
  ]
}