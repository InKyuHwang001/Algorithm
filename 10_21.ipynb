{
  "nbformat": 4,
  "nbformat_minor": 0,
  "metadata": {
    "colab": {
      "provenance": [],
      "collapsed_sections": [],
      "authorship_tag": "ABX9TyOpRu3/aZI8SMUVbLTtkycZ",
      "include_colab_link": true
    },
    "kernelspec": {
      "name": "python3",
      "display_name": "Python 3"
    },
    "language_info": {
      "name": "python"
    }
  },
  "cells": [
    {
      "cell_type": "markdown",
      "metadata": {
        "id": "view-in-github",
        "colab_type": "text"
      },
      "source": [
        "<a href=\"https://colab.research.google.com/github/InKyuHwang001/Algorithm/blob/master/10_21.ipynb\" target=\"_parent\"><img src=\"https://colab.research.google.com/assets/colab-badge.svg\" alt=\"Open In Colab\"/></a>"
      ]
    },
    {
      "cell_type": "markdown",
      "source": [
        "# 전력망을 둘로 나누기\n",
        "- https://school.programmers.co.kr/learn/courses/30/lessons/86971"
      ],
      "metadata": {
        "id": "6GCeIm4-lTq_"
      }
    },
    {
      "cell_type": "code",
      "execution_count": null,
      "metadata": {
        "id": "VRRfy2fClSZ2"
      },
      "outputs": [],
      "source": [
        "from collections import deque\n",
        "\n",
        "def bfs(node, tree, visited, wire, cnt):\n",
        "    queue = deque()\n",
        "    queue.append([node, tree, visited, wire])\n",
        "    visited[node] = True\n",
        "\n",
        "    while queue:\n",
        "        node, tree, visited, wire = queue.popleft()\n",
        "        cnt += 1\n",
        "\n",
        "        for i in tree[node]:\n",
        "            if not ((node == wire[0] and i == wire[1]) or (node == wire[1] and i == wire[0])):\n",
        "                if not visited[i]:\n",
        "                    visited[i] = True\n",
        "                    queue.append([i, tree, visited, wire])\n",
        "\n",
        "    return cnt\n",
        "\n",
        "\n",
        "def solution(n, wires):\n",
        "    answer = 100000\n",
        "    tree = [[] for _ in range(n + 1)]\n",
        "\n",
        "    for wire in wires:\n",
        "        a, b = wire\n",
        "        tree[a].append(b)\n",
        "        tree[b].append(a)\n",
        "\n",
        "    for wire in wires:\n",
        "        visited = [False] * (n + 1)\n",
        "        temp = []\n",
        "        for i in range(1, n + 1):\n",
        "            if not visited[i]:\n",
        "                cnt = bfs(i, tree, visited, wire, 0)\n",
        "                temp.append(cnt)\n",
        "\n",
        "        answer = min(answer, abs(temp[0] - temp[1]))\n",
        "\n",
        "    return answer"
      ]
    }
  ]
}