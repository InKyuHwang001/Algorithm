{
  "nbformat": 4,
  "nbformat_minor": 0,
  "metadata": {
    "colab": {
      "provenance": [],
      "authorship_tag": "ABX9TyOQKZy0BGU3AIU4azMd18Xs",
      "include_colab_link": true
    },
    "kernelspec": {
      "name": "python3",
      "display_name": "Python 3"
    },
    "language_info": {
      "name": "python"
    }
  },
  "cells": [
    {
      "cell_type": "markdown",
      "metadata": {
        "id": "view-in-github",
        "colab_type": "text"
      },
      "source": [
        "<a href=\"https://colab.research.google.com/github/InKyuHwang001/Algorithm/blob/master/10_03.ipynb\" target=\"_parent\"><img src=\"https://colab.research.google.com/assets/colab-badge.svg\" alt=\"Open In Colab\"/></a>"
      ]
    },
    {
      "cell_type": "markdown",
      "source": [
        "# [1차] 뉴스 클러스터링\n",
        "- https://school.programmers.co.kr/learn/courses/30/lessons/17677"
      ],
      "metadata": {
        "id": "YMW0etVum-zD"
      }
    },
    {
      "cell_type": "markdown",
      "source": [
        "## 코드1"
      ],
      "metadata": {
        "id": "WF0vpRISlwxm"
      }
    },
    {
      "cell_type": "code",
      "source": [
        "def solution(str1, str2):\n",
        "\n",
        "    list1 = [str1[n:n+2].lower() for n in range(len(str1)-1) if str1[n:n+2].isalpha()]\n",
        "    list2 = [str2[n:n+2].lower() for n in range(len(str2)-1) if str2[n:n+2].isalpha()]\n",
        "\n",
        "    tlist = set(list1) | set(list2)\n",
        "    res1 = [] #합집합\n",
        "    res2 = [] #교집합\n",
        "\n",
        "    if tlist:\n",
        "        for i in tlist:\n",
        "            res1.extend([i]*max(list1.count(i), list2.count(i)))\n",
        "            res2.extend([i]*min(list1.count(i), list2.count(i)))\n",
        "\n",
        "        answer = int(len(res2)/len(res1)*65536)\n",
        "        return answer\n",
        "\n",
        "    else:\n",
        "        return 65536"
      ],
      "metadata": {
        "id": "lgVhTUxVlwou"
      },
      "execution_count": null,
      "outputs": []
    },
    {
      "cell_type": "markdown",
      "source": [
        "### isalpha\n"
      ],
      "metadata": {
        "id": "FwgFFPq-mpBd"
      }
    },
    {
      "cell_type": "code",
      "source": [
        "Ex1 = 'A'\n",
        " \n",
        "Ex2 = 'ABC'\n",
        " \n",
        "Ex3 = \"앱피아\"\n",
        " \n",
        "Ex4 = \"Hello Appia\"\n",
        " \n",
        "Ex5 = \"100Appia\"\n",
        " \n",
        "#print the is the result for isalpha()\n",
        " \n",
        "print(Ex1.isalpha())\n",
        " \n",
        "print(Ex2.isalpha())\n",
        " \n",
        "print(Ex3.isalpha())\n",
        " \n",
        "print(Ex4.isalpha())\n",
        " \n",
        "print(Ex5.isalpha())"
      ],
      "metadata": {
        "colab": {
          "base_uri": "https://localhost:8080/"
        },
        "id": "DAVuG_rGmwk1",
        "outputId": "109a343f-26ae-4765-c084-831af6422995"
      },
      "execution_count": 2,
      "outputs": [
        {
          "output_type": "stream",
          "name": "stdout",
          "text": [
            "True\n",
            "True\n",
            "True\n",
            "False\n",
            "False\n"
          ]
        }
      ]
    },
    {
      "cell_type": "markdown",
      "source": [
        "## 먼진코드2"
      ],
      "metadata": {
        "id": "W4BV6TURm3KI"
      }
    },
    {
      "cell_type": "code",
      "source": [
        "def solution(str1,str2):\n",
        "    \n",
        "    str1 = [str1[i:i+2].lower() for i in range(len(str1)-1) if str1[i:i+2].isalpha()]\n",
        "    str2 = [str2[i:i+2].lower() for i in range(len(str2)-1) if str2[i:i+2].isalpha()]\n",
        "    \n",
        "    intersection = set(str1) & set(str2)\n",
        "    union = set(str1) | set(str2)\n",
        "    \n",
        "    inter = sum([min(str1.count(word), str2.count(word)) for word in intersection])\n",
        "    uni = sum([max(str1.count(word),str2.count(word)) for word in union])\n",
        "\n",
        "    if uni ==0:\n",
        "        return 65536\n",
        "    return int(inter/uni * 65536)"
      ],
      "metadata": {
        "id": "IgsnghzdlwhK"
      },
      "execution_count": null,
      "outputs": []
    }
  ]
}