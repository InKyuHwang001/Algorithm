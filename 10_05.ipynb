{
  "nbformat": 4,
  "nbformat_minor": 0,
  "metadata": {
    "colab": {
      "provenance": [],
      "authorship_tag": "ABX9TyPFc4L6Q2M422fRYS0b6izY",
      "include_colab_link": true
    },
    "kernelspec": {
      "name": "python3",
      "display_name": "Python 3"
    },
    "language_info": {
      "name": "python"
    }
  },
  "cells": [
    {
      "cell_type": "markdown",
      "metadata": {
        "id": "view-in-github",
        "colab_type": "text"
      },
      "source": [
        "<a href=\"https://colab.research.google.com/github/InKyuHwang001/Algorithm/blob/master/10_05.ipynb\" target=\"_parent\"><img src=\"https://colab.research.google.com/assets/colab-badge.svg\" alt=\"Open In Colab\"/></a>"
      ]
    },
    {
      "cell_type": "markdown",
      "source": [
        "# k진수에서 소수 개수 구하기\n",
        "- https://school.programmers.co.kr/learn/courses/30/lessons/92335"
      ],
      "metadata": {
        "id": "Z0S2MLvPXl1p"
      }
    },
    {
      "cell_type": "code",
      "execution_count": null,
      "metadata": {
        "id": "3_TJ1xTrXjMy"
      },
      "outputs": [],
      "source": [
        "def solution(n, k):\n",
        "    word=\"\"\n",
        "    while n:            \n",
        "        word = str(n%k)+word\n",
        "        n=n//k\n",
        "        \n",
        "    word=word.split(\"0\")  \n",
        "    \n",
        "    count=0\n",
        "    for w in word:\n",
        "        if len(w)==0:    \n",
        "            continue\n",
        "        if int(w)<2:\n",
        "            continue\n",
        "        sosu=True\n",
        "        for i in range(2,int(int(w)**0.5)+1): \n",
        "            if int(w)%i==0:\n",
        "                sosu=False\n",
        "                break\n",
        "        if sosu:\n",
        "            count+=1\n",
        "            \n",
        "    return count\n",
        "#진수화 하기\n",
        "#0을 기준으로 짜르기\n",
        "#10진법으로 소수라면 count 1더하기"
      ]
    }
  ]
}