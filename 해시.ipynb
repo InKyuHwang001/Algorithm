{
  "nbformat": 4,
  "nbformat_minor": 0,
  "metadata": {
    "colab": {
      "provenance": [],
      "collapsed_sections": [],
      "authorship_tag": "ABX9TyOdlHx697wZfSysi3vwWpRu",
      "include_colab_link": true
    },
    "kernelspec": {
      "name": "python3",
      "display_name": "Python 3"
    },
    "language_info": {
      "name": "python"
    }
  },
  "cells": [
    {
      "cell_type": "markdown",
      "metadata": {
        "id": "view-in-github",
        "colab_type": "text"
      },
      "source": [
        "<a href=\"https://colab.research.google.com/github/InKyuHwang001/Algorithm/blob/master/%ED%95%B4%EC%8B%9C.ipynb\" target=\"_parent\"><img src=\"https://colab.research.google.com/assets/colab-badge.svg\" alt=\"Open In Colab\"/></a>"
      ]
    },
    {
      "cell_type": "markdown",
      "source": [
        "\n",
        "#특징\n",
        "해쉬 = 전화부\n",
        "key = 이름, value = 전화번호\n",
        "모든 데이터 타입으로 접근가능\n",
        "\n",
        "#예시\n",
        "N명의 마라톤 참가 참가핟지 않은 사람 1명 찾기\n",
        "HashMap.put(\"A\", True);\n",
        "HashMap\\[\"A\"]= true\n",
        "\n",
        "HashMap\\[\"A\"]\n",
        "\n",
        "get/put/getOrDefault\n",
        "\n",
        "#언제 쓸까\n",
        "String을 기반으로 정보를 기록 관리시\n"
      ],
      "metadata": {
        "id": "OSmC3Uim9PVk"
      }
    },
    {
      "cell_type": "markdown",
      "source": [
        "# 예시"
      ],
      "metadata": {
        "id": "FsUpympTH4A5"
      }
    },
    {
      "cell_type": "code",
      "source": [
        "def solution(phone_book):\n",
        "    # 1. Hash map을 만든다\n",
        "    hash_map = {}\n",
        "    for phone_number in phone_book:\n",
        "        hash_map[phone_number] = 1\n",
        "    \n",
        "    # 2. 접두어가 Hash map에 존재하는지 찾는다\n",
        "    for phone_number in phone_book:\n",
        "        jubdoo = \"\"\n",
        "        for number in phone_number:\n",
        "            jubdoo += number\n",
        "            # 3. 접두어를 찾아야 한다 (기존 번호와 같은 경우 제외)\n",
        "            if jubdoo in hash_map and jubdoo != phone_number:\n",
        "                return False\n",
        "    return True"
      ],
      "metadata": {
        "id": "9YVh4DgDH4Yj"
      },
      "execution_count": null,
      "outputs": []
    }
  ]
}