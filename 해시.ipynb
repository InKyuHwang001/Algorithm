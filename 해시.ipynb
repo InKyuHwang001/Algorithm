{
  "nbformat": 4,
  "nbformat_minor": 0,
  "metadata": {
    "colab": {
      "provenance": [],
      "collapsed_sections": [],
      "authorship_tag": "ABX9TyP86yJQ4zzY2HnUERnq2wFX",
      "include_colab_link": true
    },
    "kernelspec": {
      "name": "python3",
      "display_name": "Python 3"
    },
    "language_info": {
      "name": "python"
    }
  },
  "cells": [
    {
      "cell_type": "markdown",
      "metadata": {
        "id": "view-in-github",
        "colab_type": "text"
      },
      "source": [
        "<a href=\"https://colab.research.google.com/github/InKyuHwang001/Algorithm/blob/master/%ED%95%B4%EC%8B%9C.ipynb\" target=\"_parent\"><img src=\"https://colab.research.google.com/assets/colab-badge.svg\" alt=\"Open In Colab\"/></a>"
      ]
    },
    {
      "cell_type": "markdown",
      "source": [
        "\n",
        "#특징\n",
        "해쉬 = 전화부\n",
        "key = 이름, value = 전화번호\n",
        "모든 데이터 타입으로 접근가능\n",
        "\n",
        "#예시\n",
        "N명의 마라톤 참가 참가핟지 않은 사람 1명 찾기\n",
        "HashMap.put(\"A\", True);\n",
        "HashMap\\[\"A\"]= true\n",
        "\n",
        "HashMap\\[\"A\"]\n",
        "\n",
        "get/put/getOrDefault\n",
        "\n",
        "#언제 쓸까\n",
        "String을 기반으로 정보를 기록 관리시\n"
      ],
      "metadata": {
        "id": "OSmC3Uim9PVk"
      }
    }
  ]
}