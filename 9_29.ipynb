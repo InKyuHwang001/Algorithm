{
  "nbformat": 4,
  "nbformat_minor": 0,
  "metadata": {
    "colab": {
      "provenance": [],
      "authorship_tag": "ABX9TyP2PgSntzHTDKKvqCHnrTRw",
      "include_colab_link": true
    },
    "kernelspec": {
      "name": "python3",
      "display_name": "Python 3"
    },
    "language_info": {
      "name": "python"
    }
  },
  "cells": [
    {
      "cell_type": "markdown",
      "metadata": {
        "id": "view-in-github",
        "colab_type": "text"
      },
      "source": [
        "<a href=\"https://colab.research.google.com/github/InKyuHwang001/Algorithm/blob/master/9_29.ipynb\" target=\"_parent\"><img src=\"https://colab.research.google.com/assets/colab-badge.svg\" alt=\"Open In Colab\"/></a>"
      ]
    },
    {
      "cell_type": "markdown",
      "source": [
        "# 위장\n",
        "- https://school.programmers.co.kr/learn/courses/30/lessons/42578"
      ],
      "metadata": {
        "id": "vgJDgWXxnLjn"
      }
    },
    {
      "cell_type": "code",
      "execution_count": null,
      "metadata": {
        "id": "MWcLTAcinJXq"
      },
      "outputs": [],
      "source": [
        "def solution(clothes):\n",
        "    answer = 1\n",
        "    #위치별로 숫자를 샌다.\n",
        "    hash_map = {}\n",
        "    for clothe, type in clothes:\n",
        "        hash_map[type] = hash_map.get(type, 0) + 1\n",
        "    #(위치별 숫자+1)을 곱한다.\n",
        "    for key in hash_map:\n",
        "        answer *= (hash_map[key] + 1)\n",
        "    #-1을 한다. 안입는 경우 제거\n",
        "    return answer-1"
      ]
    },
    {
      "cell_type": "code",
      "source": [
        "def solution(clothes):\n",
        "    answer = 1\n",
        "    #위치별로 숫자를 샌다.\n",
        "    hash_map = {clothe[1] : 0 for clothe in clothes}\n",
        "    for clothe in clothes:\n",
        "        hash_map[clothe[1]] += 1\n",
        "    #(위치별 숫자+1)을 곱한다.\n",
        "    for key in hash_map:\n",
        "        answer *= (hash_map[key] + 1)\n",
        "    #-1을 한다. 안입는 경우 제거\n",
        "    return answer -1"
      ],
      "metadata": {
        "id": "gKtuZLWknL_K"
      },
      "execution_count": null,
      "outputs": []
    }
  ]
}