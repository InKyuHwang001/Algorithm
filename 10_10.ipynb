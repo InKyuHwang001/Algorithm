{
  "nbformat": 4,
  "nbformat_minor": 0,
  "metadata": {
    "colab": {
      "provenance": [],
      "authorship_tag": "ABX9TyPIk5dYO/UpIjwLiBM4hA96",
      "include_colab_link": true
    },
    "kernelspec": {
      "name": "python3",
      "display_name": "Python 3"
    },
    "language_info": {
      "name": "python"
    }
  },
  "cells": [
    {
      "cell_type": "markdown",
      "metadata": {
        "id": "view-in-github",
        "colab_type": "text"
      },
      "source": [
        "<a href=\"https://colab.research.google.com/github/InKyuHwang001/Algorithm/blob/master/10_10.ipynb\" target=\"_parent\"><img src=\"https://colab.research.google.com/assets/colab-badge.svg\" alt=\"Open In Colab\"/></a>"
      ]
    },
    {
      "cell_type": "markdown",
      "source": [
        "# 타겟 넘버\n",
        "- https://school.programmers.co.kr/learn/courses/30/lessons/43165"
      ],
      "metadata": {
        "id": "64DYVAL-jUxd"
      }
    },
    {
      "cell_type": "markdown",
      "source": [
        "## DFS로 풀어야 할 문제\n",
        "- 경로\n",
        "- 네트워크\n",
        "- 조합"
      ],
      "metadata": {
        "id": "Xdd2j5KFjXYb"
      }
    },
    {
      "cell_type": "code",
      "execution_count": null,
      "metadata": {
        "id": "BzW-38NQQjcE"
      },
      "outputs": [],
      "source": [
        "#결로 문제 DFS로 풀자\n",
        "def solution(numbers, target):\n",
        "    answer = 0\n",
        "    n= len(numbers)\n",
        "    q=[[numbers[0],0],[-numbers[0],0]]\n",
        "    while q:\n",
        "        tmp, idx=q.pop()\n",
        "        idx += 1\n",
        "        if idx<n:\n",
        "            q.append([tmp+numbers[idx],idx])\n",
        "            q.append([tmp-numbers[idx],idx])\n",
        "        elif tmp==target:\n",
        "            answer += 1\n",
        "    return answer"
      ]
    }
  ]
}