{
  "nbformat": 4,
  "nbformat_minor": 0,
  "metadata": {
    "colab": {
      "provenance": [],
      "authorship_tag": "ABX9TyN4CR68ZWDKdrxt/NlfA9Ge",
      "include_colab_link": true
    },
    "kernelspec": {
      "name": "python3",
      "display_name": "Python 3"
    },
    "language_info": {
      "name": "python"
    }
  },
  "cells": [
    {
      "cell_type": "markdown",
      "metadata": {
        "id": "view-in-github",
        "colab_type": "text"
      },
      "source": [
        "<a href=\"https://colab.research.google.com/github/InKyuHwang001/Algorithm/blob/master/9_24.ipynb\" target=\"_parent\"><img src=\"https://colab.research.google.com/assets/colab-badge.svg\" alt=\"Open In Colab\"/></a>"
      ]
    },
    {
      "cell_type": "markdown",
      "source": [
        "# 행렬의 곱셈\n",
        "- https://school.programmers.co.kr/learn/courses/30/lessons/12949"
      ],
      "metadata": {
        "id": "D2HLjGTlTvxB"
      }
    },
    {
      "cell_type": "markdown",
      "source": [
        "1. 행렬크기 설정\n",
        "2. for문으로 덧셈하고 답 도출"
      ],
      "metadata": {
        "id": "qfOg81vkTvSv"
      }
    },
    {
      "cell_type": "code",
      "execution_count": null,
      "metadata": {
        "id": "23qivSM_TjAr"
      },
      "outputs": [],
      "source": [
        "def solution(arr1, arr2):\n",
        "    answer = [[0]*len(arr2[0]) for _ in range(len(arr1))]\n",
        "    for i in range(len(arr1)): \n",
        "        lists = []\n",
        "        for j in range(len(arr2[0])): \n",
        "            for k in range(len(arr1[0])): \n",
        "                answer[i][j] += arr1[i][k] * arr2[k][j]\n",
        "    return answer"
      ]
    }
  ]
}