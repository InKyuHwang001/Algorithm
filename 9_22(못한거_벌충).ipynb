{
  "nbformat": 4,
  "nbformat_minor": 0,
  "metadata": {
    "colab": {
      "provenance": [],
      "authorship_tag": "ABX9TyObot1mBO8vFC7+tg1aPBDj",
      "include_colab_link": true
    },
    "kernelspec": {
      "name": "python3",
      "display_name": "Python 3"
    },
    "language_info": {
      "name": "python"
    }
  },
  "cells": [
    {
      "cell_type": "markdown",
      "metadata": {
        "id": "view-in-github",
        "colab_type": "text"
      },
      "source": [
        "<a href=\"https://colab.research.google.com/github/InKyuHwang001/Algorithm/blob/master/9_22(%EB%AA%BB%ED%95%9C%EA%B1%B0_%EB%B2%8C%EC%B6%A9).ipynb\" target=\"_parent\"><img src=\"https://colab.research.google.com/assets/colab-badge.svg\" alt=\"Open In Colab\"/></a>"
      ]
    },
    {
      "cell_type": "markdown",
      "source": [
        "# [1차] 캐시\n",
        "- https://school.programmers.co.kr/learn/courses/30/lessons/17680"
      ],
      "metadata": {
        "id": "p6tLnlKqnPSG"
      }
    },
    {
      "cell_type": "code",
      "execution_count": null,
      "metadata": {
        "id": "Ji5iCam-nMwc"
      },
      "outputs": [],
      "source": [
        "def solution(cacheSize, cities):\n",
        "    answer = 0\n",
        "    i = 0              \n",
        "    cache = []\n",
        "    if cacheSize == 0:               \n",
        "        return len(cities)*5\n",
        "    for c in cities:              \n",
        "        city = c.upper()             \n",
        "        if city in cache:             \n",
        "            cache.remove(city)       \n",
        "            cache.append(city)\n",
        "            answer += 1\n",
        "        else:                        \n",
        "            answer += 5 \n",
        "            if i < cacheSize:         \n",
        "                cache.append(city)\n",
        "                i += 1\n",
        "            else:                     \n",
        "                cache.pop(0)          \n",
        "                cache.append(city)\n",
        "\n",
        "    return answer"
      ]
    }
  ]
}