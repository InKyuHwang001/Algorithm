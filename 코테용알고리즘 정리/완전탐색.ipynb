{
  "nbformat": 4,
  "nbformat_minor": 0,
  "metadata": {
    "colab": {
      "provenance": [],
      "authorship_tag": "ABX9TyO08eRSJJBPWP46D3IwlBIi",
      "include_colab_link": true
    },
    "kernelspec": {
      "name": "python3",
      "display_name": "Python 3"
    },
    "language_info": {
      "name": "python"
    }
  },
  "cells": [
    {
      "cell_type": "markdown",
      "metadata": {
        "id": "view-in-github",
        "colab_type": "text"
      },
      "source": [
        "<a href=\"https://colab.research.google.com/github/InKyuHwang001/Algorithm/blob/master/%EC%99%84%EC%A0%84%ED%83%90%EC%83%89.ipynb\" target=\"_parent\"><img src=\"https://colab.research.google.com/assets/colab-badge.svg\" alt=\"Open In Colab\"/></a>"
      ]
    },
    {
      "cell_type": "markdown",
      "source": [
        "# 완전탐색"
      ],
      "metadata": {
        "id": "ofKTC8UIuIpj"
      }
    },
    {
      "cell_type": "markdown",
      "source": [
        "구현과정\n",
        "1. 가능한 모든 가짓수를 계산\n",
        "2. 어떤식으로 구현할지\n",
        "  1. 루프\n",
        "  2. 순열\n",
        "  3. 재귀(백트랙킹)"
      ],
      "metadata": {
        "id": "L0PrQyusvWFK"
      }
    },
    {
      "cell_type": "markdown",
      "source": [
        "## 1.루프"
      ],
      "metadata": {
        "id": "oCjjd2UaxPTy"
      }
    },
    {
      "cell_type": "markdown",
      "source": [
        "간단한 문제에서나"
      ],
      "metadata": {
        "id": "Tp7ZQl8ry8_a"
      }
    },
    {
      "cell_type": "markdown",
      "source": [
        "## 2.순열"
      ],
      "metadata": {
        "id": "7zeJoV8nxUBZ"
      }
    },
    {
      "cell_type": "markdown",
      "source": [
        "### itertools"
      ],
      "metadata": {
        "id": "7jQOvfH_yCda"
      }
    },
    {
      "cell_type": "code",
      "source": [
        "# 순열\n",
        "from itertools import permutations\n",
        "random_list=['A','B','C']\n",
        "\n",
        "print(list(permutations(random_list)))\n",
        "print(list(permutations(random_list, 2)))"
      ],
      "metadata": {
        "colab": {
          "base_uri": "https://localhost:8080/"
        },
        "id": "-AqpDSkKxV4g",
        "outputId": "6978b113-0292-46a7-a8eb-0fdee0a16241"
      },
      "execution_count": null,
      "outputs": [
        {
          "output_type": "stream",
          "name": "stdout",
          "text": [
            "[('A', 'B', 'C'), ('A', 'C', 'B'), ('B', 'A', 'C'), ('B', 'C', 'A'), ('C', 'A', 'B'), ('C', 'B', 'A')]\n",
            "[('A', 'B'), ('A', 'C'), ('B', 'A'), ('B', 'C'), ('C', 'A'), ('C', 'B')]\n"
          ]
        }
      ]
    },
    {
      "cell_type": "code",
      "source": [
        "# 중복 순열 product\n",
        "from itertools import product\n",
        "\n",
        "resultA=product(random_list)\n",
        "resultB=product(random_list,repeat=2)\n",
        "print(list(resultA))\n",
        "print(list(resultB))"
      ],
      "metadata": {
        "colab": {
          "base_uri": "https://localhost:8080/"
        },
        "id": "N0n3vr9ZxqNB",
        "outputId": "a21331ac-1c60-4a8e-add6-feed1a1d226b"
      },
      "execution_count": null,
      "outputs": [
        {
          "output_type": "stream",
          "name": "stdout",
          "text": [
            "[('A',), ('B',), ('C',)]\n",
            "[('A', 'A'), ('A', 'B'), ('A', 'C'), ('B', 'A'), ('B', 'B'), ('B', 'C'), ('C', 'A'), ('C', 'B'), ('C', 'C')]\n"
          ]
        }
      ]
    },
    {
      "cell_type": "code",
      "source": [
        "# 조합 combinations\n",
        "from itertools import combinations\n",
        "\n",
        "random_list = ['A', 'B', 'C']\n",
        "\n",
        "resultA = combinations(random_list,1)\n",
        "resultB = combinations(random_list,2)\n",
        "\n",
        "print(list(resultA))\n",
        "print(list(resultB))"
      ],
      "metadata": {
        "colab": {
          "base_uri": "https://localhost:8080/"
        },
        "id": "t2v0W4K2yWbL",
        "outputId": "09b415eb-8c07-48a6-e82e-b6e013b1a339"
      },
      "execution_count": null,
      "outputs": [
        {
          "output_type": "stream",
          "name": "stdout",
          "text": [
            "[('A',), ('B',), ('C',)]\n",
            "[('A', 'B'), ('A', 'C'), ('B', 'C')]\n"
          ]
        }
      ]
    },
    {
      "cell_type": "code",
      "source": [
        "# 중복 조합\n",
        "from itertools import combinations_with_replacement\n",
        "\n",
        "resultA = combinations_with_replacement(random_list,1)\n",
        "resultB = combinations_with_replacement(random_list,2)\n",
        "\n",
        "print(list(resultA))\n",
        "print(list(resultB))"
      ],
      "metadata": {
        "colab": {
          "base_uri": "https://localhost:8080/"
        },
        "id": "HQ2J0vAFygXp",
        "outputId": "252609ba-2f1d-40ec-f3cb-f8b8fa21ba7a"
      },
      "execution_count": null,
      "outputs": [
        {
          "output_type": "stream",
          "name": "stdout",
          "text": [
            "[('A',), ('B',), ('C',)]\n",
            "[('A', 'A'), ('A', 'B'), ('A', 'C'), ('B', 'B'), ('B', 'C'), ('C', 'C')]\n"
          ]
        }
      ]
    }
  ]
}