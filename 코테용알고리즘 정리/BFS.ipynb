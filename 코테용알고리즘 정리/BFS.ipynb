{
  "nbformat": 4,
  "nbformat_minor": 0,
  "metadata": {
    "colab": {
      "provenance": [],
      "collapsed_sections": [],
      "authorship_tag": "ABX9TyNo5ptcrK+lZJhfKNULVbVr",
      "include_colab_link": true
    },
    "kernelspec": {
      "name": "python3",
      "display_name": "Python 3"
    },
    "language_info": {
      "name": "python"
    }
  },
  "cells": [
    {
      "cell_type": "markdown",
      "metadata": {
        "id": "view-in-github",
        "colab_type": "text"
      },
      "source": [
        "<a href=\"https://colab.research.google.com/github/InKyuHwang001/Algorithm/blob/master/BFS.ipynb\" target=\"_parent\"><img src=\"https://colab.research.google.com/assets/colab-badge.svg\" alt=\"Open In Colab\"/></a>"
      ]
    },
    {
      "cell_type": "markdown",
      "source": [
        "- DFS: 한놈만 팬다.\n",
        "- BFS: 여로놈을 한대씩 넣는다.\n",
        "- 한계 5*10^6승가지 경우의 수"
      ],
      "metadata": {
        "id": "rj77pPaTlZwn"
      }
    },
    {
      "cell_type": "markdown",
      "source": [
        "## 문제유형\n",
        "1. 경로탐색(최단거리, 시간)\n",
        "2. 네트워크(연결)\n",
        "3. 조합(모든 조합 만들기)"
      ],
      "metadata": {
        "id": "TQj4DjXZlD8x"
      }
    },
    {
      "cell_type": "code",
      "execution_count": null,
      "metadata": {
        "id": "Bxx97oxGdzF2"
      },
      "outputs": [],
      "source": [
        "from collections import deque\n",
        "\n",
        "visited = [False]*9\n",
        "def bfs(graph, start, visited):\n",
        "  q=deque()\n",
        "  q.append([start])\n",
        "  visited[start] = True\n",
        "  while q:\n",
        "    v=q.popleft()\n",
        "    for i in graph[v]:\n",
        "      if not visited[i]:\n",
        "        q.append(i)\n",
        "        visited[i] = True"
      ]
    },
    {
      "cell_type": "markdown",
      "source": [
        "## 경로탐색"
      ],
      "metadata": {
        "id": "xrDLwfSpnrdJ"
      }
    },
    {
      "cell_type": "code",
      "source": [
        "from collections import deque\n",
        "\n",
        "def solution(maps):\n",
        "    dx = [-1, 1, 0, 0]\n",
        "    dy = [0, 0, -1, 1]\n",
        "    \n",
        "    r = len(maps)\n",
        "    c = len(maps[0])\n",
        "\n",
        "    graph = [[-1 for _ in range(c)] for _ in range(r)]\n",
        "\n",
        "    queue = deque()\n",
        "    queue.append([0, 0])\n",
        "\n",
        "    graph[0][0] = 1\n",
        "\n",
        "    while queue:\n",
        "        y, x = queue.popleft()\n",
        "\n",
        "        # 현재 위치에서 4가지 방향으로 위치 확인\n",
        "        for i in range(4):\n",
        "            nx = x + dx[i]\n",
        "            ny = y + dy[i]\n",
        "\n",
        "            if 0 <= ny < r and 0 <= nx < c and maps[ny][nx] == 1:\n",
        "                if graph[ny][nx] == -1:\n",
        "                    graph[ny][nx] = graph[y][x] + 1\n",
        "                    queue.append([ny, nx])\n",
        "\n",
        "    answer = graph[-1][-1]\n",
        "    return answer"
      ],
      "metadata": {
        "id": "U-WUGQzdnv-d"
      },
      "execution_count": null,
      "outputs": []
    },
    {
      "cell_type": "markdown",
      "source": [
        "## 네트워크"
      ],
      "metadata": {
        "id": "hjj7nzJPnySd"
      }
    },
    {
      "cell_type": "code",
      "source": [
        "from collections import deque\n",
        "def solution(n, computers):\n",
        "    answer = 0\n",
        "    visited = [False] * n\n",
        "    def bfs(x):\n",
        "        q = deque([x])\n",
        "        while q:\n",
        "            now = q.popleft()\n",
        "            visited[now] = True\n",
        "            for i in range(n):\n",
        "                if computers[now][i] == 1 and not visited[i]:\n",
        "                    q.append(i)       \n",
        "    for i in range(n):\n",
        "        if not visited[i]:\n",
        "            bfs(i)\n",
        "            answer += 1\n",
        "    return answer"
      ],
      "metadata": {
        "id": "aAz8woCsnypk"
      },
      "execution_count": null,
      "outputs": []
    },
    {
      "cell_type": "markdown",
      "source": [
        "## 타겟 넘버"
      ],
      "metadata": {
        "id": "y4ufXZMPnzDO"
      }
    },
    {
      "cell_type": "code",
      "source": [
        "from collections import deque\n",
        "def solution(numbers, target):\n",
        "    answer = 0\n",
        "    queue = deque()\n",
        "    n = len(numbers)\n",
        "    queue.append([numbers[0],0])\n",
        "    queue.append([-1*numbers[0],0])\n",
        "    while queue:\n",
        "        temp, idx = queue.popleft()\n",
        "        idx += 1\n",
        "        if idx < n:\n",
        "            queue.append([temp+numbers[idx], idx])\n",
        "            queue.append([temp-numbers[idx], idx])\n",
        "        else:\n",
        "            if temp == target:\n",
        "                answer += 1\n",
        "    return answer"
      ],
      "metadata": {
        "id": "-xAa8yPhnzUE"
      },
      "execution_count": null,
      "outputs": []
    }
  ]
}