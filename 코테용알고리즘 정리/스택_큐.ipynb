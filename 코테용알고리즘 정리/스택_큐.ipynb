{
  "nbformat": 4,
  "nbformat_minor": 0,
  "metadata": {
    "colab": {
      "provenance": [],
      "authorship_tag": "ABX9TyNft/gxvDAx5yICL2b9IMh2",
      "include_colab_link": true
    },
    "kernelspec": {
      "name": "python3",
      "display_name": "Python 3"
    },
    "language_info": {
      "name": "python"
    },
    "accelerator": "GPU",
    "gpuClass": "standard"
  },
  "cells": [
    {
      "cell_type": "markdown",
      "metadata": {
        "id": "view-in-github",
        "colab_type": "text"
      },
      "source": [
        "<a href=\"https://colab.research.google.com/github/InKyuHwang001/Algorithm/blob/master/%EC%8A%A4%ED%83%9D_%ED%81%90.ipynb\" target=\"_parent\"><img src=\"https://colab.research.google.com/assets/colab-badge.svg\" alt=\"Open In Colab\"/></a>"
      ]
    },
    {
      "cell_type": "markdown",
      "source": [
        "# 큐"
      ],
      "metadata": {
        "id": "i6p-aKP7_l5I"
      }
    },
    {
      "cell_type": "markdown",
      "source": [
        "## 개념\n",
        "선입선출\n",
        "\n",
        "## 주요 쓰는 것들\n",
        "- 맨 오른쪽에 append로 추가하기\n",
        "- pop(0) 맨 왼쪽 빼기\n",
        "- 맨오른쪽 (\\[-1])확인\n",
        "- 맨 왼쪽(\\[0])확인\n",
        "\n",
        "## 푸는 유형\n",
        "0. 긴 파이프 통과\n",
        "1. 모인 변수가 한번에 쏟아질때"
      ],
      "metadata": {
        "id": "3MOPK3Og_qsF"
      }
    },
    {
      "cell_type": "code",
      "execution_count": 4,
      "metadata": {
        "colab": {
          "base_uri": "https://localhost:8080/"
        },
        "id": "1t08hwhY_gGL",
        "outputId": "dcf22bf5-c353-4628-e6da-88820cb6d419"
      },
      "outputs": [
        {
          "output_type": "stream",
          "name": "stdout",
          "text": [
            "7\n"
          ]
        }
      ],
      "source": [
        "def soulution(p):\n",
        "  ans=0\n",
        "  while p != []:\n",
        "    p0 = p[0]\n",
        "    minute = p0//10 + 1\n",
        "    for i in range(len(p)):\n",
        "      p[i] -= 10*minute\n",
        "    while p !=[] and p[0]<0:\n",
        "      p.pop(0)\n",
        "    if p !=[]:\n",
        "      p[0] += 20\n",
        "    ans += minute\n",
        "  return ans\n",
        "q1 = [25,5,20,45,15,55]\n",
        "print(soulution(q1))"
      ]
    },
    {
      "cell_type": "markdown",
      "source": [
        "**유의사항**"
      ],
      "metadata": {
        "id": "rL4Q6SaWCJWn"
      }
    },
    {
      "cell_type": "markdown",
      "source": [
        "- pop이나 append를 사용해야함\n",
        "  - = + , = \\[:-1] 쓰지 말자\n",
        "  - 새로운 리스트를 만들어 힘듬"
      ],
      "metadata": {
        "id": "hsZZ8hTbDQtN"
      }
    },
    {
      "cell_type": "markdown",
      "source": [
        "2. 좌표탐색"
      ],
      "metadata": {
        "id": "JTDllUrvDp9q"
      }
    }
  ]
}