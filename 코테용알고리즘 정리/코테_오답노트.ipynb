{
  "nbformat": 4,
  "nbformat_minor": 0,
  "metadata": {
    "colab": {
      "provenance": [],
      "collapsed_sections": [
        "kQz_zBYkp9x7",
        "wgMHfPeiuFIP",
        "TzqgefHc2UAp",
        "lUQP34z1hknu",
        "dHQkD5zXFjbG",
        "4wrVU5Q2KC9s",
        "lQnFsisVKdmT"
      ],
      "authorship_tag": "ABX9TyNJdWMhU4tUG84N9e0PumaW",
      "include_colab_link": true
    },
    "kernelspec": {
      "name": "python3",
      "display_name": "Python 3"
    },
    "language_info": {
      "name": "python"
    }
  },
  "cells": [
    {
      "cell_type": "markdown",
      "metadata": {
        "id": "view-in-github",
        "colab_type": "text"
      },
      "source": [
        "<a href=\"https://colab.research.google.com/github/InKyuHwang001/Algorithm/blob/master/%EC%BD%94%ED%85%8C_%EC%98%A4%EB%8B%B5%EB%85%B8%ED%8A%B8.ipynb\" target=\"_parent\"><img src=\"https://colab.research.google.com/assets/colab-badge.svg\" alt=\"Open In Colab\"/></a>"
      ]
    },
    {
      "cell_type": "markdown",
      "source": [
        "## 문자 나누기"
      ],
      "metadata": {
        "id": "kQz_zBYkp9x7"
      }
    },
    {
      "cell_type": "code",
      "execution_count": null,
      "metadata": {
        "colab": {
          "base_uri": "https://localhost:8080/"
        },
        "id": "2oHayT3Zokeh",
        "outputId": "cb79ef7a-e046-4264-e3d3-6a85208352d6"
      },
      "outputs": [
        {
          "output_type": "stream",
          "name": "stdout",
          "text": [
            "['R', 'a']\n",
            "a\n",
            "a\n"
          ]
        }
      ],
      "source": [
        "li=['Ra','Ca','Ja','Aa']\n",
        "print(list(li[0]))\n",
        "print(list(li[0])[1])\n",
        "print(li[0][1])"
      ]
    },
    {
      "cell_type": "markdown",
      "source": [
        "## set\n",
        "- sorted(list(set(answer)))"
      ],
      "metadata": {
        "id": "wgMHfPeiuFIP"
      }
    },
    {
      "cell_type": "code",
      "source": [
        "s=set([1,2,3,2])\n",
        "print(s)\n",
        "print(list(s))"
      ],
      "metadata": {
        "id": "iyPLyOewuHLk",
        "colab": {
          "base_uri": "https://localhost:8080/"
        },
        "outputId": "46c8f4cf-75ac-4b23-ef6b-6f0497478d54"
      },
      "execution_count": null,
      "outputs": [
        {
          "output_type": "stream",
          "name": "stdout",
          "text": [
            "{1, 2, 3}\n",
            "[1, 2, 3]\n"
          ]
        }
      ]
    },
    {
      "cell_type": "markdown",
      "source": [
        "## 키패트 누르기 리팩토링"
      ],
      "metadata": {
        "id": "TzqgefHc2UAp"
      }
    },
    {
      "cell_type": "code",
      "source": [
        "for i in range(len(key_list)):\n",
        "                for j in range(len(key_list[i])):\n",
        "                    if left == key_list[i][j]:\n",
        "                        l_loc = [i, j]\n",
        "                    if right == key_list[i][j]:\n",
        "                        r_loc = [i, j]\n",
        "                    if str(num) == key_list[i][j]:\n",
        "                        n_loc = [i, j]\n",
        "            l_len = abs(n_loc[0]-l_loc[0]) + abs(n_loc[1]-l_loc[1])\n",
        "            r_len = abs(n_loc[0]-r_loc[0]) + abs(n_loc[1]-r_loc[1])"
      ],
      "metadata": {
        "id": "OGQPhaKT2Tu_"
      },
      "execution_count": null,
      "outputs": []
    },
    {
      "cell_type": "code",
      "source": [
        "    key_dict = {1:(0,0),2:(0,1),3:(0,2),\n",
        "                4:(1,0),5:(1,1),6:(1,2),\n",
        "                7:(2,0),8:(2,1),9:(2,2),\n",
        "                '*':(3,0),0:(3,1),'#':(3,2)}\n",
        "#------------------------\n",
        "           curPos = key_dict[i]\n",
        "            lPos = key_dict[lhand]\n",
        "            rPos = key_dict[rhand]\n",
        "            ldist = abs(curPos[0]-lPos[0]) + abs(curPos[1]-lPos[1])\n",
        "            rdist = abs(curPos[0]-rPos[0]) + abs(curPos[1]-rPos[1])"
      ],
      "metadata": {
        "id": "C-wEnbLy2fA3"
      },
      "execution_count": null,
      "outputs": []
    },
    {
      "cell_type": "markdown",
      "source": [
        "## lambda &map\n"
      ],
      "metadata": {
        "id": "ZvIUntQt2l9I"
      }
    },
    {
      "cell_type": "code",
      "source": [
        "lambda 매개변수 : 표현식\n",
        "\n",
        "map(함수, 리스트)\n",
        "\n",
        "list(map(lambda x: x ** 2, range(5)))     \n",
        "[0, 1, 4, 9, 16]"
      ],
      "metadata": {
        "id": "BPBa-fe-5g3X"
      },
      "execution_count": null,
      "outputs": []
    },
    {
      "cell_type": "markdown",
      "source": [
        "# for else"
      ],
      "metadata": {
        "id": "lUQP34z1hknu"
      }
    },
    {
      "cell_type": "markdown",
      "source": [
        "파이썬에서는 else를 for문과 함께 사용가능 하다.\n"
      ],
      "metadata": {
        "id": "3XjgDcL6honO"
      }
    },
    {
      "cell_type": "code",
      "source": [
        "for i in range(5):\n",
        "    print(i, end=' ')\n",
        "else:\n",
        "    print(\"for문이 끝까지 실행됬습니다!\")"
      ],
      "metadata": {
        "colab": {
          "base_uri": "https://localhost:8080/"
        },
        "id": "5PSDsMELh0Qn",
        "outputId": "89a34219-211c-4fe2-a970-07a2a4772117"
      },
      "execution_count": null,
      "outputs": [
        {
          "output_type": "stream",
          "name": "stdout",
          "text": [
            "0 1 2 3 4 for문이 끝까지 실행됬습니다!\n"
          ]
        }
      ]
    },
    {
      "cell_type": "markdown",
      "source": [
        "# hash"
      ],
      "metadata": {
        "id": "dHQkD5zXFjbG"
      }
    },
    {
      "cell_type": "code",
      "source": [
        "hm={x:0 for x in participant}\n",
        "for x in participant:\n",
        "    hm[x]+=1\n",
        "for k,v in hm.items():\n",
        "    if v==1:\n",
        "      return k\n"
      ],
      "metadata": {
        "id": "b3sTaq6ZFmDc"
      },
      "execution_count": null,
      "outputs": []
    },
    {
      "cell_type": "markdown",
      "source": [
        "# 글자 뒤집기 reverse()+''.join(list)"
      ],
      "metadata": {
        "id": "4wrVU5Q2KC9s"
      }
    },
    {
      "cell_type": "code",
      "source": [
        "ternary=list(ternarymaker(n))\n",
        "ternary.reverse()\n",
        "answer=''.join(ternary)"
      ],
      "metadata": {
        "id": "o2R_Pv2zKC1h"
      },
      "execution_count": null,
      "outputs": []
    },
    {
      "cell_type": "markdown",
      "source": [
        "# if+else"
      ],
      "metadata": {
        "id": "lQnFsisVKdmT"
      }
    },
    {
      "cell_type": "code",
      "source": [
        "def ternarymaker(x):\n",
        "    if x<3:\n",
        "        return str(x)\n",
        "    else:\n",
        "        return str(ternarymaker(x//3))+str(x%3)"
      ],
      "metadata": {
        "id": "fDTnOujGKeM_"
      },
      "execution_count": null,
      "outputs": []
    },
    {
      "cell_type": "markdown",
      "source": [
        "# sorted"
      ],
      "metadata": {
        "id": "Qa14QKDMOZDU"
      }
    },
    {
      "cell_type": "code",
      "source": [
        "# sorted(정렬할 데이터, key 파라미터, reverse 파라미터)\n",
        "sorted(result, key=lambda x : result[x], reverse=True)"
      ],
      "metadata": {
        "id": "g4dSQeqBOZYq"
      },
      "execution_count": null,
      "outputs": []
    },
    {
      "cell_type": "markdown",
      "source": [
        "# 비트 연산자"
      ],
      "metadata": {
        "id": "6FCyNSIceLXp"
      }
    },
    {
      "cell_type": "code",
      "source": [
        ">>> bin(13)    # 10진수 13을 2진수로 변환\n",
        "'0b1101'\n",
        ">>> 0b1101     # 2진수 1101을 10진수로 변환\n",
        "13\n",
        "\n",
        "\n",
        ">>> int('1101', 2)    # 2진수로 된 문자열 1101을 10진수로 변환\n",
        "13\n",
        "\n",
        ">>> bin(0b1101 & 0b1001)    # 비트 AND\n",
        "'0b1001'\n",
        ">>> 13 & 9                  # 비트 AND\n",
        "9\n",
        ">>> bin(0b1101 | 0b1001)    # 비트 OR\n",
        "'0b1101'\n",
        ">>> 13 | 9                  # 비트 OR\n",
        "13\n",
        ">>> bin(0b1101 ^ 0b1001)    # 비트 XOR\n",
        "'0b100'\n",
        ">>> 13 ^ 9                  # 비트 XOR\n",
        "4\n",
        ">>> bin(~0b1101)            # 비트 NOT\n",
        "'-0b1110'\n",
        ">>> ~13                     # 비트 NOT\n",
        "-14"
      ],
      "metadata": {
        "id": "5rcV0A5teMuu"
      },
      "execution_count": null,
      "outputs": []
    },
    {
      "cell_type": "markdown",
      "source": [
        "#'ddd'.join(list)"
      ],
      "metadata": {
        "id": "07nLkEkWxpqa"
      }
    },
    {
      "cell_type": "code",
      "source": [
        "a= 'b'.join(['1','2','3'])\n",
        "a"
      ],
      "metadata": {
        "colab": {
          "base_uri": "https://localhost:8080/",
          "height": 35
        },
        "id": "iafEAnilxx_h",
        "outputId": "6e11a99e-d6cf-4015-b6c9-5d3c52f937ee"
      },
      "execution_count": 2,
      "outputs": [
        {
          "output_type": "execute_result",
          "data": {
            "text/plain": [
              "'1b2b3'"
            ],
            "application/vnd.google.colaboratory.intrinsic+json": {
              "type": "string"
            }
          },
          "metadata": {},
          "execution_count": 2
        }
      ]
    }
  ]
}