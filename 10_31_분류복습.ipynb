{
  "nbformat": 4,
  "nbformat_minor": 0,
  "metadata": {
    "colab": {
      "provenance": [],
      "authorship_tag": "ABX9TyOgBqUpWSzZeh8qp3ySSGri",
      "include_colab_link": true
    },
    "kernelspec": {
      "name": "python3",
      "display_name": "Python 3"
    },
    "language_info": {
      "name": "python"
    }
  },
  "cells": [
    {
      "cell_type": "markdown",
      "metadata": {
        "id": "view-in-github",
        "colab_type": "text"
      },
      "source": [
        "<a href=\"https://colab.research.google.com/github/InKyuHwang001/Algorithm/blob/master/10_31_%EB%B6%84%EB%A5%98%EB%B3%B5%EC%8A%B5.ipynb\" target=\"_parent\"><img src=\"https://colab.research.google.com/assets/colab-badge.svg\" alt=\"Open In Colab\"/></a>"
      ]
    },
    {
      "cell_type": "markdown",
      "source": [
        "# K번째수"
      ],
      "metadata": {
        "id": "MEWRDR6Pb2sy"
      }
    },
    {
      "cell_type": "code",
      "source": [
        "def solution(array, commands):\n",
        "    ans = []\n",
        "    for command in commands:\n",
        "        i,j,k = command\n",
        "        a=sorted(array[i-1:j])\n",
        "        ans.append(a[k-1])\n",
        "    return ans"
      ],
      "metadata": {
        "id": "VU5t6RoQb2ih"
      },
      "execution_count": null,
      "outputs": []
    },
    {
      "cell_type": "markdown",
      "source": [
        "# 가장 큰 수"
      ],
      "metadata": {
        "id": "WfZE_Ck0b2Gl"
      }
    },
    {
      "cell_type": "code",
      "execution_count": null,
      "metadata": {
        "id": "tWhSKItVaMEZ"
      },
      "outputs": [],
      "source": [
        "def solution(numbers):\n",
        "    numbers = list(map(str, numbers))\n",
        "    numbers.sort(key=lambda x: x*3, reverse=True)\n",
        "    return str(int(''.join(numbers)))"
      ]
    },
    {
      "cell_type": "markdown",
      "source": [
        "# H-Index"
      ],
      "metadata": {
        "id": "Eo2bVQPgb3Bn"
      }
    },
    {
      "cell_type": "code",
      "source": [
        "def solution(citations):\n",
        "    sorted_citations = sorted(citations, reverse=True)\n",
        "    for i in range(len(sorted_citations)):\n",
        "        if sorted_citations[i] <= i: \n",
        "            return i\n",
        "    return len(sorted_citations)"
      ],
      "metadata": {
        "id": "g2CVFnBQb3Uv"
      },
      "execution_count": null,
      "outputs": []
    }
  ]
}