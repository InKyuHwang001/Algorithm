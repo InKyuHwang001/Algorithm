{
  "nbformat": 4,
  "nbformat_minor": 0,
  "metadata": {
    "colab": {
      "provenance": [],
      "authorship_tag": "ABX9TyNW4ubzKe4TObdrzX/3vsbi",
      "include_colab_link": true
    },
    "kernelspec": {
      "name": "python3",
      "display_name": "Python 3"
    },
    "language_info": {
      "name": "python"
    }
  },
  "cells": [
    {
      "cell_type": "markdown",
      "metadata": {
        "id": "view-in-github",
        "colab_type": "text"
      },
      "source": [
        "<a href=\"https://colab.research.google.com/github/InKyuHwang001/Algorithm/blob/master/9_28.ipynb\" target=\"_parent\"><img src=\"https://colab.research.google.com/assets/colab-badge.svg\" alt=\"Open In Colab\"/></a>"
      ]
    },
    {
      "cell_type": "markdown",
      "source": [
        "# 튜플\n",
        "- https://school.programmers.co.kr/learn/courses/30/lessons/64065"
      ],
      "metadata": {
        "id": "DGDo_fVs1NKJ"
      }
    },
    {
      "cell_type": "code",
      "execution_count": null,
      "metadata": {
        "id": "GMEgGqJj1K71"
      },
      "outputs": [],
      "source": [
        "def solution(s):\n",
        "    answer = []\n",
        "    s = s[2:-2].split('},{')\n",
        "    s.sort(key = len)\n",
        "    \n",
        "    for i in s:\n",
        "        ni = i.split(',')\n",
        "        for j in ni:\n",
        "            if int(j) not in answer:\n",
        "                answer.append(int(j))\n",
        "    return answer"
      ]
    },
    {
      "cell_type": "code",
      "source": [
        "def solution(s):\n",
        "    # {{, }}를 제거 후 },{ 으로 나누기\n",
        "    data = s[2:-2].split(\"},{\")\n",
        "    # 길이 별로 오름차순 정렬\n",
        "    data = sorted(data, key=lambda x: len(x))\n",
        "    answer = []\n",
        "    for item in data:\n",
        "        # 각각의 원소로 분류 후\n",
        "        item = list(map(int, item.split(\",\")))\n",
        "        for value in item:\n",
        "            # 포함되어 있지 않으면 input\n",
        "            if value not in answer:\n",
        "                answer.append(value)\n",
        "    return answer"
      ],
      "metadata": {
        "id": "JabuLO7o1Niv"
      },
      "execution_count": null,
      "outputs": []
    }
  ]
}