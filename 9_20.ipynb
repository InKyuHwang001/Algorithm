{
  "nbformat": 4,
  "nbformat_minor": 0,
  "metadata": {
    "colab": {
      "provenance": [],
      "authorship_tag": "ABX9TyMTZj/JYlI++tcL+kUPIBuk",
      "include_colab_link": true
    },
    "kernelspec": {
      "name": "python3",
      "display_name": "Python 3"
    },
    "language_info": {
      "name": "python"
    }
  },
  "cells": [
    {
      "cell_type": "markdown",
      "metadata": {
        "id": "view-in-github",
        "colab_type": "text"
      },
      "source": [
        "<a href=\"https://colab.research.google.com/github/InKyuHwang001/Algorithm/blob/master/9_20.ipynb\" target=\"_parent\"><img src=\"https://colab.research.google.com/assets/colab-badge.svg\" alt=\"Open In Colab\"/></a>"
      ]
    },
    {
      "cell_type": "markdown",
      "source": [
        "# N개의 최소공배수\n",
        "- https://school.programmers.co.kr/learn/courses/30/lessons/12953"
      ],
      "metadata": {
        "id": "cghsXjfFctYs"
      }
    },
    {
      "cell_type": "code",
      "source": [
        "def solution(arr):\n",
        "    a = True\n",
        "    for num in range(max(arr), 1000000000):\n",
        "        a = True\n",
        "        for ar in arr:\n",
        "            if num%ar == 0:\n",
        "                pass\n",
        "            else:\n",
        "                a = False\n",
        "                break\n",
        "        if a == True:\n",
        "            return num"
      ],
      "metadata": {
        "id": "jEDSdlD8ctPD"
      },
      "execution_count": null,
      "outputs": []
    },
    {
      "cell_type": "code",
      "execution_count": null,
      "metadata": {
        "id": "rlxUN5kHcqSW"
      },
      "outputs": [],
      "source": [
        "def solution(arr):\n",
        "    n = 1\n",
        "    \n",
        "    while True:\n",
        "        answer = max(arr)*n\n",
        "        result = True \n",
        "        for num in arr:\n",
        "            if answer % num != 0:\n",
        "                result = False\n",
        "                break\n",
        "        if result:\n",
        "            break\n",
        "        n += 1\n",
        "    return answer"
      ]
    }
  ]
}