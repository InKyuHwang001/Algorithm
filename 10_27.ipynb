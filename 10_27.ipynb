{
  "nbformat": 4,
  "nbformat_minor": 0,
  "metadata": {
    "colab": {
      "provenance": [],
      "authorship_tag": "ABX9TyMx/Z1CJO/jXGhhhX/ZdOXK",
      "include_colab_link": true
    },
    "kernelspec": {
      "name": "python3",
      "display_name": "Python 3"
    },
    "language_info": {
      "name": "python"
    }
  },
  "cells": [
    {
      "cell_type": "markdown",
      "metadata": {
        "id": "view-in-github",
        "colab_type": "text"
      },
      "source": [
        "<a href=\"https://colab.research.google.com/github/InKyuHwang001/Algorithm/blob/master/10_27.ipynb\" target=\"_parent\"><img src=\"https://colab.research.google.com/assets/colab-badge.svg\" alt=\"Open In Colab\"/></a>"
      ]
    },
    {
      "cell_type": "markdown",
      "source": [
        "# 메뉴 리뉴얼\n",
        "- https://school.programmers.co.kr/learn/courses/30/lessons/72411"
      ],
      "metadata": {
        "id": "VNJ6gpcwiq_d"
      }
    },
    {
      "cell_type": "code",
      "execution_count": null,
      "metadata": {
        "id": "_dtR4oDCihM2"
      },
      "outputs": [],
      "source": [
        "from itertools import combinations\n",
        "from collections import Counter\n",
        "\n",
        "def solution(orders, course):\n",
        "    answer = []\n",
        "    \n",
        "    for c in course:\n",
        "        temp = []\n",
        "        \n",
        "        for order in orders:\n",
        "            combi = combinations(sorted(order), c)\n",
        "            temp += combi\n",
        "            \n",
        "        counter = Counter(temp)\n",
        "        \n",
        "        if len(counter) != 0 and max(counter.values()) != 1:\n",
        "            answer += [''.join(f) for f in counter if counter[f] == max(counter.values())]\n",
        "\n",
        "    return sorted(answer)"
      ]
    }
  ]
}