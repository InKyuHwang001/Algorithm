{
  "nbformat": 4,
  "nbformat_minor": 0,
  "metadata": {
    "colab": {
      "provenance": [],
      "authorship_tag": "ABX9TyPvFqrtslqaTHLERQ5+3duI",
      "include_colab_link": true
    },
    "kernelspec": {
      "name": "python3",
      "display_name": "Python 3"
    },
    "language_info": {
      "name": "python"
    }
  },
  "cells": [
    {
      "cell_type": "markdown",
      "metadata": {
        "id": "view-in-github",
        "colab_type": "text"
      },
      "source": [
        "<a href=\"https://colab.research.google.com/github/InKyuHwang001/Algorithm/blob/master/10_12.ipynb\" target=\"_parent\"><img src=\"https://colab.research.google.com/assets/colab-badge.svg\" alt=\"Open In Colab\"/></a>"
      ]
    },
    {
      "cell_type": "markdown",
      "source": [
        "# [3차] 압축\n",
        "- https://school.programmers.co.kr/learn/courses/30/lessons/17684"
      ],
      "metadata": {
        "id": "rudbfQf2xHnX"
      }
    },
    {
      "cell_type": "code",
      "execution_count": null,
      "metadata": {
        "id": "4ELk2oeMxBXF"
      },
      "outputs": [],
      "source": [
        "def solution(msg):\n",
        "    alphabet = \"ABCDEFGHIJKLMNOPQRSTUVWXYZ\"\n",
        "    d = {k:v for (k,v) in zip(alphabet, list(range(1,27)))}\n",
        "    answer = []\n",
        "\n",
        "    while True:\n",
        "        if msg in d:\n",
        "            answer.append(d[msg])\n",
        "            break\n",
        "        for i in range(1, len(msg)+1):\n",
        "            if msg[0:i] not in d:\n",
        "                answer.append(d[msg[0:i-1]])\n",
        "                d[msg[0:i]] = len(d)+1\n",
        "                msg = msg[i-1:]\n",
        "                break\n",
        "\n",
        "    return answer"
      ]
    }
  ]
}