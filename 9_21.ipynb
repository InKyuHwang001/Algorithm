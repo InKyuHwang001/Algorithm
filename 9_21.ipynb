{
  "nbformat": 4,
  "nbformat_minor": 0,
  "metadata": {
    "colab": {
      "provenance": [],
      "authorship_tag": "ABX9TyNW92E/EH6uvokWoz0JMsgx",
      "include_colab_link": true
    },
    "kernelspec": {
      "name": "python3",
      "display_name": "Python 3"
    },
    "language_info": {
      "name": "python"
    }
  },
  "cells": [
    {
      "cell_type": "markdown",
      "metadata": {
        "id": "view-in-github",
        "colab_type": "text"
      },
      "source": [
        "<a href=\"https://colab.research.google.com/github/InKyuHwang001/Algorithm/blob/master/9_21.ipynb\" target=\"_parent\"><img src=\"https://colab.research.google.com/assets/colab-badge.svg\" alt=\"Open In Colab\"/></a>"
      ]
    },
    {
      "cell_type": "markdown",
      "source": [
        "# 예상 대진표\n",
        "- https://school.programmers.co.kr/learn/courses/30/lessons/12985"
      ],
      "metadata": {
        "id": "L6KJlqOO1yZ6"
      }
    },
    {
      "cell_type": "code",
      "execution_count": null,
      "metadata": {
        "id": "HxNehIAA1wpm"
      },
      "outputs": [],
      "source": [
        "def solution(n,a,b):\n",
        "    answer = 0\n",
        "    while a != b:\n",
        "        a, b = (a+1)//2, (b+1)//2\n",
        "        answer +=1\n",
        "\n",
        "    return answer"
      ]
    },
    {
      "cell_type": "code",
      "source": [
        "def solution(n,a,b):\n",
        "    max_round = 0\n",
        "    while 2 ** max_round < n:\n",
        "        max_round += 1\n",
        "    \n",
        "    a, b = min(a, b), max(a, b) \n",
        "    mid = n // 2  \n",
        "    lower = 0 \n",
        "    upper = n \n",
        "    \n",
        "    while True:\n",
        "        if a <= mid and b > mid:\n",
        "            break\n",
        "        elif a >= mid:\n",
        "            lower = mid\n",
        "            mid = (mid + upper) // 2\n",
        "            max_round -= 1  \n",
        "        elif b <= mid:\n",
        "            upper = mid\n",
        "            mid = (mid + lower) // 2\n",
        "            max_round -= 1 \n",
        "    return max_round"
      ],
      "metadata": {
        "id": "KW9K9Qqb5hLq"
      },
      "execution_count": null,
      "outputs": []
    }
  ]
}