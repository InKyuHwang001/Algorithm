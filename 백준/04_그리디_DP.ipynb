{
  "nbformat": 4,
  "nbformat_minor": 0,
  "metadata": {
    "colab": {
      "name": "04.그리디/DP.ipynb",
      "provenance": [],
      "collapsed_sections": []
    },
    "kernelspec": {
      "name": "python3",
      "display_name": "Python 3"
    },
    "language_info": {
      "name": "python"
    }
  },
  "cells": [
    {
      "cell_type": "markdown",
      "source": [
        "#그리디"
      ],
      "metadata": {
        "id": "MKivtfpXMH73"
      }
    },
    {
      "cell_type": "markdown",
      "source": [
        "- 눈앞의 최선이 최고의 결과\n",
        "- 왜 그런지 증명하기 어렵\n",
        "- https://www.acmicpc.net/problem/11047"
      ],
      "metadata": {
        "id": "YvtrtQ3PMLT7"
      }
    },
    {
      "cell_type": "code",
      "execution_count": null,
      "metadata": {
        "id": "rRnuQr3MHHyc"
      },
      "outputs": [],
      "source": [
        "\"\"\"\n",
        "1. 아이디어\n",
        "- 동전을 저장한뒤, 반대로 뒤집음\n",
        "- 동전 for >\n",
        "    - 동전 사용개수 추가\n",
        "    - 동전 사용한만큼 K값 갱신\n",
        "2. 시간복잡도\n",
        "- O(N)\n",
        "3. 자료구조\n",
        "- 동전 금액 : int[]\n",
        "- 동전 사용 cnt : int\n",
        "- 남은 금액 : int\n",
        "\"\"\"\n",
        "\n",
        "import sys\n",
        "input = sys.stdin.readline\n",
        "\n",
        "N,K = map(int, input().split())\n",
        "coins = [ int(input()) for _ in range(N)]\n",
        "coins.reverse()\n",
        "cnt = 0\n",
        "\n",
        "for each_coin in coins:\n",
        "    cnt += K // each_coin\n",
        "    K = K % each_coin\n",
        "\n",
        "print(cnt)"
      ]
    },
    {
      "cell_type": "markdown",
      "source": [
        "# DP\n"
      ],
      "metadata": {
        "id": "vG6L00biN3P8"
      }
    },
    {
      "cell_type": "markdown",
      "source": [
        "- 이전의 값을 활용 하는 알고리즘\n",
        "- https://www.acmicpc.net/problem/11726\n",
        "- 점화식 구하기"
      ],
      "metadata": {
        "id": "sltEiAxSN5uh"
      }
    },
    {
      "cell_type": "code",
      "source": [
        "\"\"\"\n",
        "1. 아이디어\n",
        "- 점화식 : An = An-1 + An-2\n",
        "- N값 구하기 위해, for문 3부터 N까지의 값을 구해주기\n",
        "- 이전값, 이전이전값 더해서, 10007로 나눠 저장\n",
        "2. 시간복잡도\n",
        "- O(N)\n",
        "3. 자료구조\n",
        "- DP값 저장하는 (경우의수) 배열 : int[]\n",
        "    - 최대값 : 10007보다 작음 > INT\n",
        "\"\"\"\n",
        "\n",
        "import sys\n",
        "input = sys.stdin.readline\n",
        "\n",
        "n = int(input())\n",
        "rs = [0,1,2]\n",
        "\n",
        "for i in range(3, n+1):\n",
        "    rs.append((rs[i-1] + rs[i-2])%10007)\n",
        "\n",
        "print(rs[n])"
      ],
      "metadata": {
        "id": "NPsp9pOsPDl1"
      },
      "execution_count": null,
      "outputs": []
    }
  ]
}