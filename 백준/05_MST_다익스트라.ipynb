{
  "nbformat": 4,
  "nbformat_minor": 0,
  "metadata": {
    "colab": {
      "name": "05.MST/다익스트라.ipynb",
      "provenance": [],
      "collapsed_sections": []
    },
    "kernelspec": {
      "name": "python3",
      "display_name": "Python 3"
    },
    "language_info": {
      "name": "python"
    }
  },
  "cells": [
    {
      "cell_type": "markdown",
      "source": [
        "#MST"
      ],
      "metadata": {
        "id": "MKivtfpXMH73"
      }
    },
    {
      "cell_type": "markdown",
      "source": [
        "- MST: Minimum Spanning Tree\n",
        "- Spanning Tree: 모든 노드가 연결된 트리\n",
        "- 즉, 최소의 비용으로 모든 노드가 연결된 트리\n",
        "\n",
        "<br/>\n",
        "\n",
        "- 푸는 방법 \n",
        "  1. Kruscal: 전체 간선 중 작은 것부터 연결\n",
        "  2. Prim: 현재 연결된 트리에 이어진 간선 중 가장 작은 것을 추가\n",
        "\n"
      ],
      "metadata": {
        "id": "YvtrtQ3PMLT7"
      }
    },
    {
      "cell_type": "markdown",
      "source": [
        "- 기본문제 : https://www.acmicpc.net/problem/1197"
      ],
      "metadata": {
        "id": "oNoSoYNFefxr"
      }
    },
    {
      "cell_type": "markdown",
      "source": [
        "## heap\n",
        "- 최대값, 최소값을 빠르게 계산하기 위한 자료구조\n",
        "- 이진 트리 구조\n",
        "- 처음에 저장할 때부터 최대값 or 최소값 결정하도록"
      ],
      "metadata": {
        "id": "E6DS8pR-dSYt"
      }
    },
    {
      "cell_type": "code",
      "source": [
        "heap=[[0,1]]\n",
        "\n",
        "while heap:\n",
        "  w, next_node=heapq.heappop(heap)\n",
        "  if chk[next_node]==False:\n",
        "    chk[next_node]==True\n",
        "    rs+=w\n",
        "    for next_edge in edge[next_node]:\n",
        "      if chk[next_edge[1]]==False:\n",
        "        heapq.heappush(heap, next_edge)"
      ],
      "metadata": {
        "id": "0mGmYgofdoks"
      },
      "execution_count": null,
      "outputs": []
    },
    {
      "cell_type": "code",
      "execution_count": null,
      "metadata": {
        "id": "rRnuQr3MHHyc"
      },
      "outputs": [],
      "source": [
        "\"\"\"\n",
        "1. 아이디어\n",
        "- MST 기본문제, 외우기\n",
        "- 간선을 인접리스트에 집어넣기\n",
        "- 힙에 시작점넣기\n",
        "- 힙이 빌때까지 다음의 작업을 반복\n",
        "    - 힙의 최소값 꺼내서, 해당 노드 방문 안했다면\n",
        "            - 방분표시, 해당 비용 추가, 연결된 간선들 힙에 넣어주기\n",
        "2. 시간복잡도\n",
        "- MST : O(ElgE)\n",
        "3. 자료구조\n",
        "- 간선 저장 되는 인접리스트 : (무게, 노드번호)\n",
        "- 힙 : (무게, 노드번호)\n",
        "- 방문 여부 : bool[]\n",
        "- MST 결과값 : int\n",
        "\"\"\"\n",
        "\n",
        "import sys\n",
        "import heapq\n",
        "input = sys.stdin.readline\n",
        "\n",
        "V,E = map(int, input().split())\n",
        "edge = [[] for _ in range(V+1)]\n",
        "chk = [False] * (V+1)\n",
        "rs = 0\n",
        "for i in range(E):\n",
        "    a,b,c = map(int, input().split())\n",
        "    edge[a].append([c,b])\n",
        "    edge[b].append([c, a])\n",
        "\n",
        "heap = [[0,1]]\n",
        "\n",
        "while heap:\n",
        "    w, each_node = heapq.heappop(heap)\n",
        "    if chk[each_node] == False:\n",
        "        chk[each_node] = True\n",
        "        rs += w\n",
        "        for next_edge in edge[each_node]:\n",
        "            if chk[next_edge[1]] == False:\n",
        "                heapq.heappush(heap, next_edge)\n",
        "\n",
        "print(rs)"
      ]
    },
    {
      "cell_type": "markdown",
      "source": [
        "# 다익스트라\n"
      ],
      "metadata": {
        "id": "vG6L00biN3P8"
      }
    },
    {
      "cell_type": "markdown",
      "source": [
        "- 한 노드에서 다른 모든 노드까지 가는데 최소비용\n",
        "- 간선: 인접 리스트, 거리배열 초가값 무한대로 설정, 힙 시작점 추가\n",
        "- 힙에서 현재 노드 빼면서, 간손 통할 때 더 거리 짧아진다면\n",
        "  - 거리 갱신 및 합에 추가\n",
        "- https://www.acmicpc.net/problem/1753"
      ],
      "metadata": {
        "id": "sltEiAxSN5uh"
      }
    },
    {
      "cell_type": "code",
      "source": [
        "#핵심 코드\n",
        "dist[k]=0\n",
        "heapq.heappush(heap, (0,k))\n",
        "\n",
        "while heap:\n",
        "  w,v=heapq.heappop(heap)\n",
        "  if w !=dist[v]:\n",
        "    continue\n",
        "  for nw, nv in edge[v]:\n",
        "    if dist[nv]> dist[v]+nww:\n",
        "      dist[nv]=dist[v]+nw\n",
        "      heapq.heappush(heap(dist[nv],nv))"
      ],
      "metadata": {
        "id": "NPsp9pOsPDl1"
      },
      "execution_count": null,
      "outputs": []
    },
    {
      "cell_type": "code",
      "source": [
        "\"\"\"\n",
        "1. 아이디어\n",
        "- 한점시작, 모든 거리 : 다익스트라\n",
        "- 간선, 인접리스트 저장\n",
        "- 거리배열 무한대 초기화\n",
        "- 시작점 : 거리배열 0, 힙에 넣어주기\n",
        "- 힙에서 빼면서 다음의 것들 수행\n",
        "    - 최신값인지 먼저 확인\n",
        "    - 간선을 타고 간 비용이 더 작으면 갱신\n",
        "2. 시간복잡도\n",
        "- 다익스트라 : O(ElgV)\n",
        "    - E : 3e5\n",
        "    - V : 2e4, lgV ~= 20\n",
        "    - ElgV = 6e6 > 가능\n",
        "3. 변수\n",
        "- 힙 : (비용, 노드번호)\n",
        "- 거리 배열 : 비용 : int[]\n",
        "- 간선 저장, 인접리스트 : (비용, 노드번호)[]\n",
        "\"\"\"\n",
        "\n",
        "import sys\n",
        "import heapq\n",
        "input = sys.stdin.readline\n",
        "INF = sys.maxsize\n",
        "\n",
        "V, E = map(int, input().split())\n",
        "K = int(input())\n",
        "edge = [ [] for _ in range(V+1)]\n",
        "dist = [INF] * (V+1)\n",
        "\n",
        "for i in range(E):\n",
        "    u,v,w = map(int, input().split())\n",
        "    edge[u].append([w,v])\n",
        "\n",
        "# 시작점 초기화\n",
        "dist[K] = 0\n",
        "heap = [[0,K]]\n",
        "\n",
        "while heap:\n",
        "    ew, ev = heapq.heappop(heap)\n",
        "    if dist[ev] != ew: continue\n",
        "    for nw, nv in edge[ev]:\n",
        "        if dist[nv] > ew + nw:\n",
        "            dist[nv] = ew + nw\n",
        "            heapq.heappush(heap, [dist[nv], nv])\n",
        "\n",
        "for i in range(1, V+1):\n",
        "    if dist[i] == INF: print(\"INF\")\n",
        "    else: print(dist[i])"
      ],
      "metadata": {
        "id": "UsTBWeZHiET5"
      },
      "execution_count": null,
      "outputs": []
    }
  ]
}