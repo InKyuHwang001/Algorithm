{
 "cells": [
  {
   "cell_type": "code",
   "execution_count": null,
   "metadata": {
    "collapsed": true
   },
   "outputs": [],
   "source": [
    "import sys\n",
    "\n",
    "def dfs(idx) :\n",
    "    global visited\n",
    "    visited[idx] = True\n",
    "    print(idx, end = ' ')\n",
    "    for next in range(1, N+1) :\n",
    "        if not visited[next] and graph[idx][next]:\n",
    "            dfs(next)\n",
    "\n",
    "def bfs():\n",
    "    global q, visited\n",
    "    while q:\n",
    "        cur = q.pop(0)\n",
    "        visited[cur] = True\n",
    "        print(cur, end = ' ')\n",
    "        for next in range(1, N + 1) :\n",
    "            if not visited[next] and graph[cur][next]:\n",
    "                visited[next] = True\n",
    "                q.append(next)\n",
    "\n",
    "# 0. 입력 및 초기화\n",
    "input = sys.stdin.readline\n",
    "N, M, V = map(int, input().split())\n",
    "\n",
    "graph = [[False] * (N + 1) for _ in range(N + 1)]\n",
    "visited = [False] * (N + 1)\n",
    "\n",
    "# 1. graph 정보 입력\n",
    "for _ in range(M) :\n",
    "    a, b = map(int, input().split())\n",
    "    graph[a][b] = True\n",
    "    graph[b][a] = True\n",
    "\n",
    "# 2. dfs\n",
    "dfs(V)\n",
    "print()\n",
    "\n",
    "# 3. bfs\n",
    "visited = [False] * (N + 1)\n",
    "q = [V]\n",
    "bfs()"
   ]
  }
 ],
 "metadata": {
  "kernelspec": {
   "display_name": "Python 3",
   "language": "python",
   "name": "python3"
  },
  "language_info": {
   "codemirror_mode": {
    "name": "ipython",
    "version": 2
   },
   "file_extension": ".py",
   "mimetype": "text/x-python",
   "name": "python",
   "nbconvert_exporter": "python",
   "pygments_lexer": "ipython2",
   "version": "2.7.6"
  }
 },
 "nbformat": 4,
 "nbformat_minor": 0
}
