{
  "nbformat": 4,
  "nbformat_minor": 0,
  "metadata": {
    "colab": {
      "name": "BFS/DFS.ipynb",
      "provenance": [],
      "collapsed_sections": []
    },
    "kernelspec": {
      "name": "python3",
      "display_name": "Python 3"
    },
    "language_info": {
      "name": "python"
    }
  },
  "cells": [
    {
      "cell_type": "markdown",
      "source": [
        "## 그래프 탐색 종류\n",
        "- BFS: 넓이 우선 탐색\n",
        "  - 자식이 끝나야 자식에 자식\n",
        "  - Queue\n",
        "  - 시간 복잡도: O(V+E)\n",
        "- DFS: 깊이 운선 탐색\n",
        "  - 자식, 자식의 자식\n",
        "  - Stack, 재귀(백트랙킹에 중요)\n",
        "  - 그래프는 BFS로만 해도 가능하기에 재귀로 해봄\n",
        "\n",
        "- 재귀함수\n",
        "  - 자기자신 호출 함수\n",
        "  - **종료되는 시점 명시**"
      ],
      "metadata": {
        "id": "O97wZlg4aynH"
      }
    },
    {
      "cell_type": "markdown",
      "source": [
        "## BFS\n"
      ],
      "metadata": {
        "id": "9k5b6TIdbpjN"
      }
    },
    {
      "cell_type": "code",
      "execution_count": null,
      "metadata": {
        "id": "1VSPt-C2au-5"
      },
      "outputs": [],
      "source": [
        "#예제 백준 1926\n",
        "# https://www.acmicpc.net/problem/1926\n",
        "\"\"\"\n",
        "1. 아이디어\n",
        "- 2중 for => 값 1 & 방문 x =>BFS\n",
        "- BFS돌면서 그림개수 +1, 최대값을 갱신\n",
        "2. 시간복잡도\n",
        "BFS: O(V+E)\n",
        "V:m*n\n",
        "M:V*4\n",
        "3. 자료구조\n",
        "- 그래프 전체 기조: int[][]\n",
        "- 방문: bool[][]\n",
        "- Queue\n",
        "\"\"\"\n",
        "import sys\n",
        "input=sys.stdin.readline\n",
        "\n",
        "n,m= map(int, input().split())\n",
        "map=[list(map(int, input().split())) for _ in range(n)]\n",
        "chk=[[False]*m for _ in range(n)]\n",
        "\n",
        "dy=[0,1,0,-1]\n",
        "dx=[1,0,-1,0]\n",
        "def bfs(y,x):\n",
        "  rs=1\n",
        "  q=[(y,x)]\n",
        "  while q:\n",
        "    ey, ex=q.pop()\n",
        "    for k in range(4):\n",
        "      ny=ey+dy[k]\n",
        "      nx=ex+dx[k]\n",
        "      if 0<=ny<n and 0<=nx<m:\n",
        "        if map [ny][nx]==1 and chk[ny][nx]==False:\n",
        "          rs+=1\n",
        "          chk[ny][nx]=True\n",
        "          q.append((ny,nx))\n",
        "  return rs\n",
        "\n",
        "\n",
        "cnt=0\n",
        "maxv=0\n",
        "for j in range(n):\n",
        "  for i in range(m):\n",
        "    if map[j][i]== 1 and chk[j][i]==False:\n",
        "      chk[j][i]=True\n",
        "      #전체 그림 갯수를 +1\n",
        "      cnt+=1\n",
        "      #BFS > 그림 크기를 구해주고 최댓값 갱신\n",
        "      maxv=max(maxv, bfs(j,i))\n",
        "print(cnt)\n",
        "print(maxv)"
      ]
    },
    {
      "cell_type": "markdown",
      "source": [
        "## DFS"
      ],
      "metadata": {
        "id": "tnNS1U6Dho_i"
      }
    },
    {
      "cell_type": "code",
      "source": [
        "#예제 백준 2667\n",
        "# https://www.acmicpc.net/problem/2667\n",
        "\"\"\"\n",
        "1. 아이디어\n",
        "- 2중 for => 값 1 & 방문 x =>DFS\n",
        "- DFS를 통해 찾은 값을 저장 후 정렬 해서 출력\n",
        "2. 시간복잡도\n",
        "DFS: O(V+E)\n",
        "V:m*n\n",
        "M:V*4\n",
        "3. 자료구조\n",
        "- 그래프 전체 기조: int[][]\n",
        "- 방문: bool[][]\n",
        "- 결과값: int[][]\n",
        "\"\"\"\n",
        "import sys\n",
        "input = sys.stdin.readline\n",
        "\n",
        "N = int(input())\n",
        "map = [list(map(int, input().strip())) for _ in range(N)]\n",
        "chk = [[False] * N for _ in range(N)]\n",
        "result = []\n",
        "each = 0\n",
        "dy = [0,1,0,-1]\n",
        "dx = [1,0,-1,0]\n",
        "\n",
        "def dfs(y, x):\n",
        "    global each #전역 변수화\n",
        "    each += 1\n",
        "    for k in range(4):\n",
        "        ny = y + dy[k]\n",
        "        nx = x + dx[k]\n",
        "        if 0<=ny<N and 0<=nx<N:\n",
        "            if map[ny][nx] == 1 and chk[ny][nx] == False:\n",
        "                chk[ny][nx] = True\n",
        "                dfs(ny, nx)\n",
        "\n",
        "for j in range(N):\n",
        "    for i in range(N):\n",
        "        if map[j][i] == 1 and chk[j][i] == False:\n",
        "            chk[j][i] = True\n",
        "            each = 0\n",
        "            dfs(j,i)\n",
        "            result.append(each)\n",
        "\n",
        "result.sort()\n",
        "print(len(result))\n",
        "for i in result:\n",
        "    print(i)\n"
      ],
      "metadata": {
        "id": "Gm5cHhDrgJob"
      },
      "execution_count": null,
      "outputs": []
    }
  ]
}