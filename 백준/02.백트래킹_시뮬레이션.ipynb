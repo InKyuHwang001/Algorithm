{
  "nbformat": 4,
  "nbformat_minor": 0,
  "metadata": {
    "colab": {
      "name": "백트래킹/시뮬레이션.ipynb",
      "provenance": [],
      "collapsed_sections": []
    },
    "kernelspec": {
      "name": "python3",
      "display_name": "Python 3"
    },
    "language_info": {
      "name": "python"
    }
  },
  "cells": [
    {
      "cell_type": "markdown",
      "source": [
        "## 백트래킹\n",
        "\n"
      ],
      "metadata": {
        "id": "O97wZlg4aynH"
      }
    },
    {
      "cell_type": "markdown",
      "source": [
        "- 모든 경우의수를 확인해야 할때\n",
        "  - for로는 확인 불가능한 경우(깊이가 달라질 때)"
      ],
      "metadata": {
        "id": "3oqMl3Px_Y1D"
      }
    },
    {
      "cell_type": "code",
      "execution_count": null,
      "metadata": {
        "id": "1VSPt-C2au-5"
      },
      "outputs": [],
      "source": [
        "#예제 백준 15649\n",
        "# https://www.acmicpc.net/problem/15649\n",
        "\"\"\"\n",
        "1. 아이디어\n",
        "- 백트래킹 재귀함수 안에서, for 돌면서 숫자 선택(방문 여부 확인)\n",
        "- 재귀함수에서 M개를 선택한 경우 프린트\n",
        "2. 시간복잡도\n",
        "- N^N:중복이 가능 (8까지 가능)\n",
        "- N!: 중복이 불가 (10까지 가능)\n",
        "3. 자료구조\n",
        "- 방문여부 : bool\n",
        "- 선택한 값:int[]\n",
        "\"\"\"\n",
        "import sys\n",
        "input=sys.stdin.readline\n",
        "\n",
        "n,m= map(int, input().split())\n",
        "rs=[]\n",
        "chk=[False]*(n+1)\n",
        "#n+1을 이용해야 0부터 시작하는걸 수정할 필요가 없어짐\n",
        "\n",
        "def recur(num):\n",
        "  if num==M:\n",
        "    print(''.join(map(str, rs)))\n",
        "    return\n",
        "  for i in range(1,n+1):\n",
        "    if chk[i]==False:\n",
        "      chk[i]=True\n",
        "      re.append(i)\n",
        "      recur(num+1)\n",
        "      chk[i]=False\n",
        "      rs.pop()\n",
        "\n",
        "recur(0)"
      ]
    },
    {
      "cell_type": "markdown",
      "source": [
        "## 시뮬레이션"
      ],
      "metadata": {
        "id": "tnNS1U6Dho_i"
      }
    },
    {
      "cell_type": "markdown",
      "source": [
        "- 각 조건에 맞는 상황을 구현하는 문제\n",
        "  - 지도상 탐험, 배열안 탐험\n",
        "- 별도의 알고리즘 없이 풀수 있으나 구현력 중요"
      ],
      "metadata": {
        "id": "q7H0bXv_DAUW"
      }
    },
    {
      "cell_type": "code",
      "execution_count": null,
      "metadata": {
        "id": "4Ll1RHAh_VG8"
      },
      "outputs": [],
      "source": [
        "#예제 백준 14503\n",
        "# https://www.acmicpc.net/problem/14503\n",
        "\"\"\"\n",
        "1. 아이디어\n",
        "while 특정조건 종료될때까지 반복\n",
        "4방향 for문으로 탐색\n",
        "탐색 불가능할 경우 뒤로 한칸 후진\n",
        "후진이 불가능하면 종료 \n",
        "2. 시간복잡도\n",
        "while문 최대 n*m\n",
        "3. 자료구조\n",
        "전체 지도 int[][]\n",
        "내 위치 방향: int, int,int\n",
        "\"\"\"\n",
        "import sys\n",
        "input = sys.stdin.readline\n",
        "from collections import deque\n",
        "\n",
        "n,m = map(int,input().split())\n",
        "graph = [list(map(int, input().split())) for _ in range(n)]\n",
        "visited = [[0] * m for _ in range(n)]\n",
        "r,c,d = map(int,input().split())\n",
        "\n",
        "# d => 0,3,2,1 순서로 돌아야한다.\n",
        "dx = [-1,0,1,0]\n",
        "dy = [0,1,0,-1]\n",
        "\n",
        "# 처음 시작하는 곳 방문 처리\n",
        "visited[r][c] = 1\n",
        "cnt = 1\n",
        "\n",
        "while 1:\n",
        "    flag = 0\n",
        "    # 4방향 확인\n",
        "    for _ in range(4):\n",
        "        # 0,3,2,1 순서 만들어주기위한 식\n",
        "        nx = r + dx[(d+3)%4]\n",
        "        ny = c + dy[(d+3)%4]\n",
        "        # 한번 돌았으면 그 방향으로 작업시작\n",
        "        d = (d+3)%4\n",
        "        if 0 <= nx < n and 0 <= ny < m and graph[nx][ny] == 0:\n",
        "            if visited[nx][ny] == 0:\n",
        "                visited[nx][ny] = 1\n",
        "                cnt += 1\n",
        "                r = nx\n",
        "                c = ny\n",
        "                #청소 한 방향이라도 했으면 다음으로 넘어감\n",
        "                flag = 1\n",
        "                break\n",
        "    if flag == 0: # 4방향 모두 청소가 되어 있을 때,\n",
        "        if graph[r-dx[d]][c-dy[d]] == 1: #후진했는데 벽\n",
        "            print(cnt)\n",
        "            break\n",
        "        else:\n",
        "            r,c = r-dx[d],c-dy[d]\n",
        "  "
      ]
    }
  ]
}