{
  "nbformat": 4,
  "nbformat_minor": 0,
  "metadata": {
    "colab": {
      "name": "03.투포인터/이진탐색.ipynb",
      "provenance": [],
      "collapsed_sections": []
    },
    "kernelspec": {
      "name": "python3",
      "display_name": "Python 3"
    },
    "language_info": {
      "name": "python"
    }
  },
  "cells": [
    {
      "cell_type": "markdown",
      "source": [
        "# 투포인터"
      ],
      "metadata": {
        "id": "MKivtfpXMH73"
      }
    },
    {
      "cell_type": "markdown",
      "source": [
        "- 각 원소마다 모든 값을 순회해야할 때\n",
        "- 연속하다는 특성 처리\n",
        "- https://www.acmicpc.net/problem/2559"
      ],
      "metadata": {
        "id": "YvtrtQ3PMLT7"
      }
    },
    {
      "cell_type": "code",
      "execution_count": null,
      "metadata": {
        "id": "rRnuQr3MHHyc"
      },
      "outputs": [],
      "source": [
        "\"\"\"\n",
        "1. 아이디어\n",
        "- 투포인터를 활용\n",
        "- for문으로, 처음에 K개값을 저장\n",
        "- 다음인덱스 더해주고, 이전 인덱스 빼줌\n",
        "- 이때마다 최대값을 갱신\n",
        "2. 시간복잡도\n",
        "- O(N) = 1e5 > 가능\n",
        "3. 자료구조\n",
        "- 각 숫자들 N개 저장 배열 : int[]\n",
        "    - 숫자들 최대 100 > INT 가능\n",
        "- K개의 값을 저장 변수 : int\n",
        "    - 최대 : K * 100 = 1e5 * 100 = 1e7 > INT가능\n",
        "- 최대값, : int\n",
        "\"\"\"\n",
        "\n",
        "import sys\n",
        "input = sys.stdin.readline\n",
        "\n",
        "N,K = map(int, input().split())\n",
        "nums = list(map(int, input().split()))\n",
        "each = 0\n",
        "# K개를 더해주기\n",
        "for i in range(K):\n",
        "    each += nums[i]\n",
        "maxv = each\n",
        "\n",
        "# 다음인덱스 더해주고, 이전인덱스 빼주기\n",
        "for i in range(K, N):\n",
        "    each += nums[i]\n",
        "    each -= nums[i-K]\n",
        "    maxv = max(maxv, each)\n",
        "\n",
        "print(maxv)"
      ]
    },
    {
      "cell_type": "markdown",
      "source": [
        "# 이진탐색"
      ],
      "metadata": {
        "id": "vG6L00biN3P8"
      }
    },
    {
      "cell_type": "markdown",
      "source": [
        "- 어떤 값을 찾을 때 정렬의 특징 사용\n",
        "- https://www.acmicpc.net/problem/1920\n",
        "- 기본 코드 암기 필요"
      ],
      "metadata": {
        "id": "sltEiAxSN5uh"
      }
    },
    {
      "cell_type": "code",
      "source": [
        "#기본 \n",
        " def solution(st, en, tatgert):\n",
        "   if st==en:\n",
        "     //~~~\n",
        "     return\n",
        "   mid=(st+en)//2\n",
        "   if nums[mid]<tatget:\n",
        "     solution(mid+1,en, target)\n",
        "   else:\n",
        "     solution(st, mid, target)"
      ],
      "metadata": {
        "id": "pM528KrVOKzz"
      },
      "execution_count": null,
      "outputs": []
    },
    {
      "cell_type": "code",
      "source": [
        "\"\"\"\n",
        "1. 아이디어\n",
        "- N개의 숫자를 정렬\n",
        "- M개를 for 돌면서, 이진탐색\n",
        "- 이진탐색 안에서 마지막에 데이터 찾으면, 1출력, 아니면 0출력\n",
        "2. 시간복잡도\n",
        "- N개 입력값 정렬 = O(NlgN)\n",
        "- M개를 N개중에서 탐색 = O(M * lgN)\n",
        "- 총합 : O((N+M)lgN) > 가능\n",
        "3. 자료구조\n",
        "- N개 숫자 : int[]\n",
        "- M개 숫자 : int[]\n",
        "\"\"\"\n",
        "\n",
        "import sys\n",
        "input = sys.stdin.readline\n",
        "\n",
        "N = int(input())\n",
        "nums = list(map(int, input().split()))\n",
        "M = int(input())\n",
        "target_list = list(map(int, input().split()))\n",
        "\n",
        "nums.sort() # 이진탐색 가능\n",
        "\n",
        "def search(st, en, target):\n",
        "    if st == en:\n",
        "        if nums[st] == target:\n",
        "            print(1)\n",
        "        else:\n",
        "            print(0)\n",
        "        return\n",
        "    mid = (st+en)//2\n",
        "    if nums[mid] < target:\n",
        "        search(mid+1, en, target)\n",
        "    else :\n",
        "        search(st, mid, target)\n",
        "\n",
        "for each_target in target_list:\n",
        "    search(0, N-1, each_target)"
      ],
      "metadata": {
        "id": "NPsp9pOsPDl1"
      },
      "execution_count": null,
      "outputs": []
    }
  ]
}