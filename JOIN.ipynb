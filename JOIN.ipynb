{
  "nbformat": 4,
  "nbformat_minor": 0,
  "metadata": {
    "colab": {
      "provenance": [],
      "authorship_tag": "ABX9TyNvI60eAFS+kVuFMmKR3n7E",
      "include_colab_link": true
    },
    "kernelspec": {
      "name": "python3",
      "display_name": "Python 3"
    },
    "language_info": {
      "name": "python"
    }
  },
  "cells": [
    {
      "cell_type": "markdown",
      "metadata": {
        "id": "view-in-github",
        "colab_type": "text"
      },
      "source": [
        "<a href=\"https://colab.research.google.com/github/InKyuHwang001/Algorithm/blob/master/JOIN.ipynb\" target=\"_parent\"><img src=\"https://colab.research.google.com/assets/colab-badge.svg\" alt=\"Open In Colab\"/></a>"
      ]
    },
    {
      "cell_type": "markdown",
      "source": [
        "# 없어진 기록 찾기"
      ],
      "metadata": {
        "id": "BcT2eJm8hayU"
      }
    },
    {
      "cell_type": "code",
      "source": [
        "SELECT A.ANIMAL_ID,A.NAME\n",
        "FROM ANIMAL_OUTS A\n",
        "LEFT JOIN ANIMAL_INS B\n",
        "ON A.ANIMAL_ID=B.ANIMAL_ID\n",
        "WHERE B.ANIMAL_ID IS NULL\n",
        "ORDER BY ANIMAL_ID"
      ],
      "metadata": {
        "id": "8V5WJqMJhapS"
      },
      "execution_count": null,
      "outputs": []
    },
    {
      "cell_type": "markdown",
      "source": [
        "# 있었는데요 없었습니다"
      ],
      "metadata": {
        "id": "UWebnyfxhagh"
      }
    },
    {
      "cell_type": "code",
      "source": [
        "SELECT A.ANIMAL_ID, A.NAME\n",
        "FROM ANIMAL_INS A\n",
        "LEFT JOIN ANIMAL_OUTS B\n",
        "ON A.ANIMAL_ID = B.ANIMAL_ID\n",
        "WHERE A.DATETIME > B.DATETIME\n",
        "ORDER BY A.DATETIME"
      ],
      "metadata": {
        "id": "S-a8rQbFhaXA"
      },
      "execution_count": null,
      "outputs": []
    },
    {
      "cell_type": "markdown",
      "source": [
        "# 오랜 기간 보호한 동물(1)"
      ],
      "metadata": {
        "id": "6MheFBRXhaLi"
      }
    },
    {
      "cell_type": "code",
      "source": [
        "SELECT A.NAME, A.DATETIME\n",
        "FROM ANIMAL_INS A \n",
        "LEFT JOIN ANIMAL_OUTS B ON A.ANIMAL_ID = B.ANIMAL_ID\n",
        "WHERE B.ANIMAL_ID IS NULL\n",
        "ORDER BY A.DATETIME\n",
        "LIMIT 3"
      ],
      "metadata": {
        "id": "EVuHBzHnhaBF"
      },
      "execution_count": null,
      "outputs": []
    },
    {
      "cell_type": "markdown",
      "source": [
        "# 보호소에서 중성화한 동물"
      ],
      "metadata": {
        "id": "XPVeuU0BhZ2O"
      }
    },
    {
      "cell_type": "code",
      "execution_count": null,
      "metadata": {
        "id": "M_fflpHZfy7n"
      },
      "outputs": [],
      "source": [
        "SELECT A.ANIMAL_ID,A.ANIMAL_TYPE, A.NAME\n",
        "FROM ANIMAL_INS A\n",
        "JOIN ANIMAL_OUTS B ON A.ANIMAL_ID=B.ANIMAL_ID\n",
        "WHERE A.SEX_UPON_INTAKE LIKE 'INTACT%'\n",
        "AND (B.SEX_UPON_OUTCOME LIKE 'SPAYED%' OR B.SEX_UPON_OUTCOME LIKE 'NEUTERED%')\n",
        "ORDER BY A.ANIMAL_ID"
      ]
    }
  ]
}