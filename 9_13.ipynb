{
  "nbformat": 4,
  "nbformat_minor": 0,
  "metadata": {
    "colab": {
      "provenance": [],
      "authorship_tag": "ABX9TyMSbIWBxY1dmPZvupx7m9lO",
      "include_colab_link": true
    },
    "kernelspec": {
      "name": "python3",
      "display_name": "Python 3"
    },
    "language_info": {
      "name": "python"
    }
  },
  "cells": [
    {
      "cell_type": "markdown",
      "metadata": {
        "id": "view-in-github",
        "colab_type": "text"
      },
      "source": [
        "<a href=\"https://colab.research.google.com/github/InKyuHwang001/Algorithm/blob/master/9_13.ipynb\" target=\"_parent\"><img src=\"https://colab.research.google.com/assets/colab-badge.svg\" alt=\"Open In Colab\"/></a>"
      ]
    },
    {
      "cell_type": "markdown",
      "source": [
        "# 올바른 괄호\n",
        "- https://school.programmers.co.kr/learn/courses/30/lessons/12909"
      ],
      "metadata": {
        "id": "IOIYVyf4rQk1"
      }
    },
    {
      "cell_type": "code",
      "execution_count": null,
      "metadata": {
        "id": "IJUpsj2xrONP"
      },
      "outputs": [],
      "source": [
        "def solution(s):\n",
        "    cnt=0\n",
        "    for wo in s:\n",
        "        if wo == \"(\":\n",
        "            cnt+=1\n",
        "        else:\n",
        "            cnt-=1\n",
        "        if cnt<0:\n",
        "            return False\n",
        "    return cnt == 0 "
      ]
    },
    {
      "cell_type": "code",
      "source": [
        "def solution(s):\n",
        "    x = 0\n",
        "    for w in s:\n",
        "        if x < 0:\n",
        "            break\n",
        "        x = x+1 if w==\"(\" else x-1 if w==\")\" else x\n",
        "    return x==0"
      ],
      "metadata": {
        "id": "gHO_a4Zlr17i"
      },
      "execution_count": null,
      "outputs": []
    },
    {
      "cell_type": "code",
      "source": [
        "from collections import deque\n",
        "\n",
        "def solution(s):\n",
        "    stack = deque()\n",
        "    for i in s:\n",
        "        if i == ')' and not stack:  # 스택에 아무것도 없는데 ')'가 있는 경우\n",
        "            return False\n",
        "        elif i == ')' and stack[-1] == '(':  # 괄호쌍 없애줌\n",
        "            stack.pop()\n",
        "        else:  # i가 '('일 때\n",
        "            stack.append(i)\n",
        "    return True if not stack else False"
      ],
      "metadata": {
        "id": "5FPhhMH3s5Mq"
      },
      "execution_count": null,
      "outputs": []
    },
    {
      "cell_type": "markdown",
      "source": [
        "# 숫자의 표현\n",
        "- https://school.programmers.co.kr/learn/courses/30/lessons/12924"
      ],
      "metadata": {
        "id": "ZAjW2GRfsYkY"
      }
    },
    {
      "cell_type": "code",
      "source": [
        "def solution(n):\n",
        "    answer = 0\n",
        "    for i in range(1,n+1):\n",
        "        sumN=0\n",
        "        for j in range(i, n+1):\n",
        "            sumN+=j\n",
        "            if sumN == n:\n",
        "                answer += 1\n",
        "                break\n",
        "            elif sumN>n:\n",
        "                break\n",
        "    return answer"
      ],
      "metadata": {
        "id": "cWeKbUrgsYXL"
      },
      "execution_count": null,
      "outputs": []
    },
    {
      "cell_type": "code",
      "source": [
        "def solution(n):\n",
        "    return len([i  for i in range(1,n+1,2) if n % i is 0])"
      ],
      "metadata": {
        "id": "BO_xBZeKsYOR"
      },
      "execution_count": null,
      "outputs": []
    }
  ]
}