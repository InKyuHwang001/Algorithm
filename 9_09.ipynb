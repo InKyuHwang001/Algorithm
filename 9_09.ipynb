{
  "nbformat": 4,
  "nbformat_minor": 0,
  "metadata": {
    "colab": {
      "provenance": [],
      "collapsed_sections": [
        "ql2xtZTx-TcR",
        "GXIsHxPB-TJQ",
        "uvTogQSF-S0J",
        "PyNooW_Y-SS1",
        "N9xy_NWLAzzQ",
        "VDV71EDfCnyd",
        "-T_AErykDQxN"
      ],
      "authorship_tag": "ABX9TyMdc9CxTGK4WNqjW9DilCnj",
      "include_colab_link": true
    },
    "kernelspec": {
      "name": "python3",
      "display_name": "Python 3"
    },
    "language_info": {
      "name": "python"
    }
  },
  "cells": [
    {
      "cell_type": "markdown",
      "metadata": {
        "id": "view-in-github",
        "colab_type": "text"
      },
      "source": [
        "<a href=\"https://colab.research.google.com/github/InKyuHwang001/Algorithm/blob/master/9_09.ipynb\" target=\"_parent\"><img src=\"https://colab.research.google.com/assets/colab-badge.svg\" alt=\"Open In Colab\"/></a>"
      ]
    },
    {
      "cell_type": "markdown",
      "source": [
        "# 평균 구하기\n",
        "- https://school.programmers.co.kr/learn/courses/30/lessons/12944"
      ],
      "metadata": {
        "id": "ql2xtZTx-TcR"
      }
    },
    {
      "cell_type": "code",
      "source": [
        "def solution(arr):\n",
        "    return sum(arr)/len(arr)"
      ],
      "metadata": {
        "id": "U6oDBbPp-TS5"
      },
      "execution_count": null,
      "outputs": []
    },
    {
      "cell_type": "markdown",
      "source": [
        "# 자연수 뒤집어 배열로 만들기\n",
        "- https://school.programmers.co.kr/learn/courses/30/lessons/12932"
      ],
      "metadata": {
        "id": "GXIsHxPB-TJQ"
      }
    },
    {
      "cell_type": "code",
      "source": [
        "def solution(n):\n",
        "    answer = []\n",
        "    for i in str(n):\n",
        "        answer.append(int(i))\n",
        "    answer.reverse()\n",
        "    return answer"
      ],
      "metadata": {
        "id": "blFi3VRh-S-y"
      },
      "execution_count": null,
      "outputs": []
    },
    {
      "cell_type": "code",
      "source": [
        "def solution(n):\n",
        "    return list(map(int, reversed(str(n))))"
      ],
      "metadata": {
        "id": "-YpRAALe-_a8"
      },
      "execution_count": null,
      "outputs": []
    },
    {
      "cell_type": "markdown",
      "source": [
        "# 정수 내림차순으로 배치하기\n",
        "- https://school.programmers.co.kr/learn/courses/30/lessons/12933"
      ],
      "metadata": {
        "id": "uvTogQSF-S0J"
      }
    },
    {
      "cell_type": "code",
      "source": [
        "def solution(n):\n",
        "    answer = ''\n",
        "    a = [i for i in str(n)]\n",
        "    a.sort(reverse=True)\n",
        "    for i in a:\n",
        "        answer+=i\n",
        "    return int(answer)"
      ],
      "metadata": {
        "id": "m4t3j6Yp-Srm"
      },
      "execution_count": null,
      "outputs": []
    },
    {
      "cell_type": "code",
      "source": [
        "def solution(n):\n",
        "    ls = list(str(n))\n",
        "    ls.sort(reverse = True)\n",
        "    return int(\"\".join(ls))"
      ],
      "metadata": {
        "id": "QDmrauPRAmUr"
      },
      "execution_count": null,
      "outputs": []
    },
    {
      "cell_type": "markdown",
      "source": [
        "# 하샤드 수\n",
        "- https://school.programmers.co.kr/learn/courses/30/lessons/12947"
      ],
      "metadata": {
        "id": "PyNooW_Y-SS1"
      }
    },
    {
      "cell_type": "code",
      "execution_count": null,
      "metadata": {
        "id": "CsaHsYuP-O9-"
      },
      "outputs": [],
      "source": [
        "def solution(x):\n",
        "    tmp=sum(int(i) for i in str(x))\n",
        "    if x%tmp==0:\n",
        "        return True\n",
        "    else:\n",
        "        return False"
      ]
    },
    {
      "cell_type": "code",
      "source": [
        "def solution(x):\n",
        "    return n % sum([int(c) for c in str(n)]) == 0"
      ],
      "metadata": {
        "id": "K66Ws3OoB-mu"
      },
      "execution_count": null,
      "outputs": []
    },
    {
      "cell_type": "markdown",
      "source": [
        "# 문자열을 정수로 바꾸기\n",
        "- https://school.programmers.co.kr/learn/courses/30/lessons/12925"
      ],
      "metadata": {
        "id": "N9xy_NWLAzzQ"
      }
    },
    {
      "cell_type": "code",
      "source": [
        "def solution(s):\n",
        "    return int(s)"
      ],
      "metadata": {
        "id": "FUP_fUCcA0Sc"
      },
      "execution_count": null,
      "outputs": []
    },
    {
      "cell_type": "code",
      "source": [
        "def strToInt(str):\n",
        "    result = 0\n",
        "\n",
        "    for idx, number in enumerate(str[::-1]):\n",
        "        if number == '-':\n",
        "            result *= -1\n",
        "        else:\n",
        "            result += int(number) * (10 ** idx)\n",
        "\n",
        "    return result"
      ],
      "metadata": {
        "id": "Mocf3ypcCjI6"
      },
      "execution_count": null,
      "outputs": []
    },
    {
      "cell_type": "markdown",
      "source": [
        "# x만큼 간격이 있는 n개의 숫자\n",
        "- https://school.programmers.co.kr/learn/courses/30/lessons/12954"
      ],
      "metadata": {
        "id": "VDV71EDfCnyd"
      }
    },
    {
      "cell_type": "code",
      "source": [
        "def solution(x, n):\n",
        "    return [x*(i+1) for i in range(n)]"
      ],
      "metadata": {
        "id": "wIzTJTSOCoGa"
      },
      "execution_count": null,
      "outputs": []
    },
    {
      "cell_type": "markdown",
      "source": [
        "# 콜라츠 추측\n",
        "- https://school.programmers.co.kr/learn/courses/30/lessons/12943"
      ],
      "metadata": {
        "id": "-T_AErykDQxN"
      }
    },
    {
      "cell_type": "code",
      "source": [
        "def solution(num):\n",
        "    answer = 0\n",
        "    \n",
        "    if num == 1:\n",
        "        return 0\n",
        "    \n",
        "    while True:\n",
        "        num = num/2 if num % 2 == 0 else (num*3)+1\n",
        "        answer += 1\n",
        "        if num == 1:\n",
        "            return answer \n",
        "        elif answer == 500:\n",
        "            return -1\n",
        "    \n",
        "    return answer"
      ],
      "metadata": {
        "id": "Lk6Aq28NFbIT"
      },
      "execution_count": null,
      "outputs": []
    },
    {
      "cell_type": "code",
      "source": [
        "def solution(num):\n",
        "    answer = 0\n",
        "    \n",
        "    for i in range(500):\n",
        "        if num % 2 == 0:\n",
        "            num = num/2\n",
        "            answer += 1\n",
        "        if num == 1:\n",
        "            break\n",
        "        if num % 2 != 0:\n",
        "            num = (num*3)+1\n",
        "            answer += 1\n",
        "        if num == 1:\n",
        "            break\n",
        "        if answer > 500 and num != 1:\n",
        "            answer = -1\n",
        "            break\n",
        "    \n",
        "    return answer"
      ],
      "metadata": {
        "id": "lVH4S-ZRDQkn"
      },
      "execution_count": null,
      "outputs": []
    },
    {
      "cell_type": "markdown",
      "source": [
        "# 핸드폰 번호 가리기\n",
        "- https://school.programmers.co.kr/learn/courses/30/lessons/12948"
      ],
      "metadata": {
        "id": "HtC-gI_-DQXR"
      }
    },
    {
      "cell_type": "code",
      "source": [
        "def solution(phone_number):\n",
        "    return '*'*(len(phone_number)-4)+phone_number[-4:]"
      ],
      "metadata": {
        "id": "UJ5TRPlaDQK7"
      },
      "execution_count": null,
      "outputs": []
    },
    {
      "cell_type": "markdown",
      "source": [
        "# 제일 작은 수 제거하기\n",
        "- https://school.programmers.co.kr/learn/courses/30/lessons/12935"
      ],
      "metadata": {
        "id": "auv4dEFTDPTh"
      }
    },
    {
      "cell_type": "code",
      "source": [
        "def solution(arr):\n",
        "    if len(arr) ==1:\n",
        "        return [-1]\n",
        "    else:\n",
        "        arr.remove(sorted(arr)[0])\n",
        "        return arr"
      ],
      "metadata": {
        "id": "K7_UWaXiDPpD"
      },
      "execution_count": null,
      "outputs": []
    },
    {
      "cell_type": "markdown",
      "source": [
        "# 수박수박수박수박수박수?\n",
        "- https://school.programmers.co.kr/learn/courses/30/lessons/12922"
      ],
      "metadata": {
        "id": "xM5GfRhVKUiL"
      }
    },
    {
      "cell_type": "code",
      "source": [
        "def solution(n):\n",
        "    return (\"수박\"*(n//2+1))[:n]"
      ],
      "metadata": {
        "id": "Tpm_EZZUK2RZ"
      },
      "execution_count": null,
      "outputs": []
    },
    {
      "cell_type": "code",
      "source": [
        "def solution(n):\n",
        "    answer = ''\n",
        "    \n",
        "    for i in range(n):\n",
        "        if i % 2 == 0:\n",
        "            answer += '수'\n",
        "        else:\n",
        "            answer += '박'\n",
        "    \n",
        "    return answer"
      ],
      "metadata": {
        "id": "6UmJaltaKX5Y"
      },
      "execution_count": null,
      "outputs": []
    },
    {
      "cell_type": "markdown",
      "source": [
        "# 행렬의 덧셈\n",
        "- https://school.programmers.co.kr/learn/courses/30/lessons/12950"
      ],
      "metadata": {
        "id": "GPXxhn2nMdN1"
      }
    },
    {
      "cell_type": "code",
      "source": [
        "def solution(arr1, arr2):\n",
        "    arr=arr1\n",
        "    for i in range(len(arr1)):\n",
        "        for j in range(len(arr1[0])):\n",
        "            arr[i][j]= arr1[i][j]+arr2[i][j]\n",
        "    return arr"
      ],
      "metadata": {
        "id": "1Nql12lSMeEl"
      },
      "execution_count": null,
      "outputs": []
    },
    {
      "cell_type": "code",
      "source": [
        "def solution(arr1, arr2):\n",
        "    return [[c + d for c, d in zip(a, b)] for a, b in zip(arr1,arr2)]"
      ],
      "metadata": {
        "id": "qU2esz-VMdsX"
      },
      "execution_count": null,
      "outputs": []
    },
    {
      "cell_type": "markdown",
      "source": [
        "# 직사각형 별찍기\n",
        "- https://school.programmers.co.kr/learn/courses/30/lessons/12969"
      ],
      "metadata": {
        "id": "Aj_DbnrXOqpl"
      }
    },
    {
      "cell_type": "code",
      "source": [
        "a, b = map(int, input().strip().split(' '))\n",
        "for _ in range(b):\n",
        "    print('*'*a)"
      ],
      "metadata": {
        "id": "T23IdbeYOrZb"
      },
      "execution_count": null,
      "outputs": []
    },
    {
      "cell_type": "code",
      "source": [
        "a, b = map(int, input().strip().split(' '))\n",
        "print(('*'*a+\"\\n\")*b)"
      ],
      "metadata": {
        "id": "sOKxIV1WOq9K"
      },
      "execution_count": null,
      "outputs": []
    }
  ]
}