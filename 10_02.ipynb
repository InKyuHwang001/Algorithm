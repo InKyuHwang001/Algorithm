{
  "nbformat": 4,
  "nbformat_minor": 0,
  "metadata": {
    "colab": {
      "provenance": [],
      "authorship_tag": "ABX9TyP1b5r0N92N2Yu9pddMZcyr",
      "include_colab_link": true
    },
    "kernelspec": {
      "name": "python3",
      "display_name": "Python 3"
    },
    "language_info": {
      "name": "python"
    }
  },
  "cells": [
    {
      "cell_type": "markdown",
      "metadata": {
        "id": "view-in-github",
        "colab_type": "text"
      },
      "source": [
        "<a href=\"https://colab.research.google.com/github/InKyuHwang001/Algorithm/blob/master/10_02.ipynb\" target=\"_parent\"><img src=\"https://colab.research.google.com/assets/colab-badge.svg\" alt=\"Open In Colab\"/></a>"
      ]
    },
    {
      "cell_type": "markdown",
      "source": [
        "# 기능개발\n",
        "- https://school.programmers.co.kr/learn/courses/30/lessons/42586"
      ],
      "metadata": {
        "id": "3s1O_pPJBQpB"
      }
    },
    {
      "cell_type": "code",
      "source": [
        "def solution(progresses, speeds):\n",
        "\n",
        "    answer = []\n",
        "    time = 0\n",
        "    count = 0\n",
        "    \n",
        "    while len(progresses)> 0:\n",
        "        if (progresses[0] + time*speeds[0]) >= 100: \n",
        "            progresses.pop(0)\n",
        "            speeds.pop(0)\n",
        "            count += 1\n",
        "            \n",
        "        else:\n",
        "            if count > 0:\n",
        "                answer.append(count)\n",
        "                count = 0\n",
        "            time += 1\n",
        "    answer.append(count)\n",
        "    return answer"
      ],
      "metadata": {
        "id": "tS5pnU2kBQbW"
      },
      "execution_count": null,
      "outputs": []
    }
  ]
}