{
  "nbformat": 4,
  "nbformat_minor": 0,
  "metadata": {
    "colab": {
      "provenance": [],
      "authorship_tag": "ABX9TyNOJhScG46N9ZYaJu3ztSsI",
      "include_colab_link": true
    },
    "kernelspec": {
      "name": "python3",
      "display_name": "Python 3"
    },
    "language_info": {
      "name": "python"
    }
  },
  "cells": [
    {
      "cell_type": "markdown",
      "metadata": {
        "id": "view-in-github",
        "colab_type": "text"
      },
      "source": [
        "<a href=\"https://colab.research.google.com/github/InKyuHwang001/Algorithm/blob/master/9_08.ipynb\" target=\"_parent\"><img src=\"https://colab.research.google.com/assets/colab-badge.svg\" alt=\"Open In Colab\"/></a>"
      ]
    },
    {
      "cell_type": "markdown",
      "source": [
        "# 짝수와 홀수\n",
        "- https://school.programmers.co.kr/learn/courses/30/lessons/12937"
      ],
      "metadata": {
        "id": "9gR0xawdf0_o"
      }
    },
    {
      "cell_type": "code",
      "execution_count": null,
      "metadata": {
        "id": "TNkpXVdyfy76"
      },
      "outputs": [],
      "source": [
        "def solution(num):\n",
        "    return \"Odd\" if num%2==1 else \"Even\""
      ]
    },
    {
      "cell_type": "code",
      "source": [
        "def evenOrOdd(num):\n",
        "    if (num%2):\n",
        "        return \"Odd\"\n",
        "    else:\n",
        "        return \"Even\""
      ],
      "metadata": {
        "id": "6A9Ja-duf6Ju"
      },
      "execution_count": null,
      "outputs": []
    },
    {
      "cell_type": "markdown",
      "source": [
        "# 자릿수 더하기\n",
        "- https://school.programmers.co.kr/learn/courses/30/lessons/12931"
      ],
      "metadata": {
        "id": "pMpBa-_af65J"
      }
    },
    {
      "cell_type": "code",
      "source": [
        "def solution(n):\n",
        "    answer = 0\n",
        "    n=str(n)\n",
        "    for i in n:\n",
        "        answer+=int(i)\n",
        "    return answer"
      ],
      "metadata": {
        "id": "wqBBrIVxf6wJ"
      },
      "execution_count": null,
      "outputs": []
    },
    {
      "cell_type": "code",
      "source": [
        "def sum_digit(number):\n",
        "    if number < 10:\n",
        "        return number;\n",
        "    return (number % 10) + sum_digit(number // 10) "
      ],
      "metadata": {
        "id": "cxzh4PGFf6n9"
      },
      "execution_count": null,
      "outputs": []
    },
    {
      "cell_type": "markdown",
      "source": [
        "# 약수의 합\n",
        "- https://school.programmers.co.kr/learn/courses/30/lessons/12928"
      ],
      "metadata": {
        "id": "FbX0FctIg3jF"
      }
    },
    {
      "cell_type": "code",
      "source": [
        "def solution(n):\n",
        "    return sum(i for i in range(1,n+1) if n%i==0)"
      ],
      "metadata": {
        "id": "shOqhXibg4qu"
      },
      "execution_count": null,
      "outputs": []
    },
    {
      "cell_type": "markdown",
      "source": [
        "# 정수 제곱근 판별\n",
        "- https://school.programmers.co.kr/learn/courses/30/lessons/12934"
      ],
      "metadata": {
        "id": "orQdNsfvg3a1"
      }
    },
    {
      "cell_type": "code",
      "source": [
        "def solution(n):\n",
        "    if n**(1/2)== round(n**(1/2)):\n",
        "         return (n**(1/2)+1)**2\n",
        "    else:\n",
        "        return -1"
      ],
      "metadata": {
        "id": "B1cXgDRtg4Ng"
      },
      "execution_count": null,
      "outputs": []
    }
  ]
}