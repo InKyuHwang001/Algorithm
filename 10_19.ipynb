{
  "nbformat": 4,
  "nbformat_minor": 0,
  "metadata": {
    "colab": {
      "provenance": [],
      "authorship_tag": "ABX9TyPCZBMZtWWiaPb/jvZGe8qp",
      "include_colab_link": true
    },
    "kernelspec": {
      "name": "python3",
      "display_name": "Python 3"
    },
    "language_info": {
      "name": "python"
    }
  },
  "cells": [
    {
      "cell_type": "markdown",
      "metadata": {
        "id": "view-in-github",
        "colab_type": "text"
      },
      "source": [
        "<a href=\"https://colab.research.google.com/github/InKyuHwang001/Algorithm/blob/master/10_19.ipynb\" target=\"_parent\"><img src=\"https://colab.research.google.com/assets/colab-badge.svg\" alt=\"Open In Colab\"/></a>"
      ]
    },
    {
      "cell_type": "markdown",
      "source": [
        "# [1차] 프렌즈4블록\n",
        "- https://school.programmers.co.kr/learn/courses/30/lessons/17679"
      ],
      "metadata": {
        "id": "nEXRWjf-W52w"
      }
    },
    {
      "cell_type": "code",
      "execution_count": null,
      "metadata": {
        "id": "KBd7tV5cWq-V"
      },
      "outputs": [],
      "source": [
        "def solution(m, n, board):\n",
        "    for i in range(m):\n",
        "        board[i] = list(board[i])\n",
        "    \n",
        "    cnt = 0\n",
        "    rm = set()\n",
        "    while True:\n",
        "        # 보드를 순회하며 4블록이 된 곳의 좌표를 집합에 기록\n",
        "        for i in range(m-1):\n",
        "            for j in range(n-1):\n",
        "                t = board[i][j]\n",
        "                if t == []:\n",
        "                    continue\n",
        "                if board[i+1][j] == t and board[i][j+1] == t and board[i+1][j+1] == t:\n",
        "                    rm.add((i,j));rm.add((i+1,j))\n",
        "                    rm.add((i,j+1));rm.add((i+1,j+1))\n",
        "        \n",
        "        # 좌표가 존재한다면 집합의 길이만큼 세주고 블록을 지움 \n",
        "        if rm:\n",
        "            cnt += len(rm)\n",
        "            for i,j in rm:\n",
        "                board[i][j] = []\n",
        "            rm = set()\n",
        "        # 없다면 함수 종료\n",
        "        else:\n",
        "            return cnt\n",
        "        \n",
        "        # 블록을 위에서 아래로 당겨줌\n",
        "        while True:\n",
        "            moved = 0\n",
        "            for i in range(m-1):\n",
        "                for j in range(n):\n",
        "                    if board[i][j] and board[i+1][j]==[]:\n",
        "                        board[i+1][j] = board[i][j]\n",
        "                        board[i][j] = []\n",
        "                        moved = 1\n",
        "            if moved == 0:\n",
        "                break"
      ]
    },
    {
      "cell_type": "code",
      "source": [],
      "metadata": {
        "id": "WHdx4lA9XDw8"
      },
      "execution_count": null,
      "outputs": []
    }
  ]
}