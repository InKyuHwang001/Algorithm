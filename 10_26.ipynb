{
  "nbformat": 4,
  "nbformat_minor": 0,
  "metadata": {
    "colab": {
      "provenance": [],
      "authorship_tag": "ABX9TyO2nN4rxKpX43qsycPuRyVs",
      "include_colab_link": true
    },
    "kernelspec": {
      "name": "python3",
      "display_name": "Python 3"
    },
    "language_info": {
      "name": "python"
    }
  },
  "cells": [
    {
      "cell_type": "markdown",
      "metadata": {
        "id": "view-in-github",
        "colab_type": "text"
      },
      "source": [
        "<a href=\"https://colab.research.google.com/github/InKyuHwang001/Algorithm/blob/master/10_26.ipynb\" target=\"_parent\"><img src=\"https://colab.research.google.com/assets/colab-badge.svg\" alt=\"Open In Colab\"/></a>"
      ]
    },
    {
      "cell_type": "markdown",
      "source": [
        "# 방문 길이\n",
        "- https://school.programmers.co.kr/learn/courses/30/lessons/49994"
      ],
      "metadata": {
        "id": "OJS4ugJdZqHN"
      }
    },
    {
      "cell_type": "code",
      "execution_count": null,
      "metadata": {
        "id": "5t6GWraRZn_x"
      },
      "outputs": [],
      "source": [
        "def solution(dirs):\n",
        "    answer = set() # set()을 통해 중복을 제거\n",
        "    d = {\"U\" : [1, 0], \"D\" : [-1, 0], \"R\" : [0, 1], \"L\" : [0, -1]}\n",
        "    \n",
        "    x, y = 0, 0\n",
        "    \n",
        "    for i in dirs:\n",
        "        dx, dy = d[i]\n",
        "        nx = x + dx \n",
        "        ny = y + dy \n",
        "        if -5 <= nx <= 5 and -5 <= ny <= 5:\n",
        "            answer.add((x,y,nx,ny)) \n",
        "            answer.add((nx,ny,x,y))\n",
        "            x, y = nx, ny\n",
        "            \n",
        "    return len(answer)//2"
      ]
    }
  ]
}