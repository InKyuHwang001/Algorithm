{
  "nbformat": 4,
  "nbformat_minor": 0,
  "metadata": {
    "colab": {
      "provenance": [],
      "authorship_tag": "ABX9TyN/q7HuTlXKbotC+cOzynxv",
      "include_colab_link": true
    },
    "kernelspec": {
      "name": "python3",
      "display_name": "Python 3"
    },
    "language_info": {
      "name": "python"
    }
  },
  "cells": [
    {
      "cell_type": "markdown",
      "metadata": {
        "id": "view-in-github",
        "colab_type": "text"
      },
      "source": [
        "<a href=\"https://colab.research.google.com/github/InKyuHwang001/Algorithm/blob/master/11_08.ipynb\" target=\"_parent\"><img src=\"https://colab.research.google.com/assets/colab-badge.svg\" alt=\"Open In Colab\"/></a>"
      ]
    },
    {
      "cell_type": "markdown",
      "source": [
        "# 2 x n 타일링\n",
        "- https://school.programmers.co.kr/learn/courses/30/lessons/12900\n"
      ],
      "metadata": {
        "id": "XN_pRDp4T0X2"
      }
    },
    {
      "cell_type": "code",
      "execution_count": null,
      "metadata": {
        "id": "NQhbkXzjTy7X"
      },
      "outputs": [],
      "source": [
        "def solution(n):\n",
        "    dp = [0 for i in range(n)]\n",
        "    dp[0], dp[1] = 1, 2\n",
        "    for i in range(2, n):\n",
        "        dp[i] = (dp[i-1] + dp[i-2]) % 1000000007\n",
        "\n",
        "    return dp[n-1]"
      ]
    }
  ]
}