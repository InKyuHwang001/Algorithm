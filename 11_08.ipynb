{
  "nbformat": 4,
  "nbformat_minor": 0,
  "metadata": {
    "colab": {
      "provenance": [],
      "authorship_tag": "ABX9TyNsex0LHUyRb8LUN0+WUIkm"
    },
    "kernelspec": {
      "name": "python3",
      "display_name": "Python 3"
    },
    "language_info": {
      "name": "python"
    }
  },
  "cells": [
    {
      "cell_type": "markdown",
      "source": [
        "# 거리두기 확인하기\n",
        "- https://school.programmers.co.kr/learn/courses/30/lessons/81302"
      ],
      "metadata": {
        "id": "lW6U9pXvWkEB"
      }
    },
    {
      "cell_type": "code",
      "execution_count": 1,
      "metadata": {
        "id": "ft3SUl0SVYDH"
      },
      "outputs": [],
      "source": [
        "def solution(places):\n",
        "    answer = [];\n",
        "    for p in places:\n",
        "        key = False;\n",
        "        nowArr = [];\n",
        "        for n in p:\n",
        "            nowArr.append(list(n));\n",
        "        for i in range(5):\n",
        "            for j in range(5):\n",
        "                if key:\n",
        "                    break;\n",
        "                if nowArr[i][j] == \"P\":\n",
        "                    if i+1<5:\n",
        "                        if nowArr[i+1][j] == \"P\":\n",
        "                            key = True;\n",
        "                            break;\n",
        "                        if nowArr[i+1][j] == \"O\":\n",
        "                            if i+2<5:\n",
        "                                if nowArr[i+2][j] == \"P\":\n",
        "                                    key = True;\n",
        "                                    break;\n",
        "                    if j+1<5:\n",
        "                        if nowArr[i][j+1] == \"P\":\n",
        "                            key = True;\n",
        "                            break;\n",
        "                        if nowArr[i][j+1] == \"O\":\n",
        "                            if j+2<5:\n",
        "                                if nowArr[i][j+2] == \"P\":\n",
        "                                    key = True;\n",
        "                                    break;\n",
        "                    if i+1<5 and j+1<5:\n",
        "                        if nowArr[i+1][j+1] == \"P\" and (nowArr[i+1][j] == \"O\" or nowArr[i][j+1] == \"O\"):\n",
        "                            key = True;\n",
        "                            break;\n",
        "                    if i+1<5 and j-1>=0:\n",
        "                        if nowArr[i+1][j-1] == \"P\" and (nowArr[i+1][j] == \"O\" or nowArr[i][j-1] == \"O\"):\n",
        "                            key = True;\n",
        "                            break;\n",
        "        if key:\n",
        "            answer.append(0);\n",
        "        else:\n",
        "            answer.append(1);\n",
        "    return answer;"
      ]
    },
    {
      "cell_type": "code",
      "source": [
        "from collections import deque\n",
        "\n",
        "def bfs(p):\n",
        "    start = []\n",
        "    \n",
        "    for i in range(5): # 시작점이 되는 P 좌표 구하기\n",
        "        for j in range(5):\n",
        "            if p[i][j] == 'P':\n",
        "                start.append([i, j])\n",
        "    \n",
        "    for s in start:\n",
        "        queue = deque([s])  # 큐에 초기값\n",
        "        visited = [[0]*5 for i in range(5)]   # 방문 처리 리스트\n",
        "        distance = [[0]*5 for i in range(5)]  # 경로 길이 리스트\n",
        "        visited[s[0]][s[1]] = 1\n",
        "        \n",
        "        while queue:\n",
        "            y, x = queue.popleft()\n",
        "            dx = [-1, 1, 0, 0]  # 좌우\n",
        "            dy = [0, 0, -1, 1]  # 상하\n",
        "\n",
        "            for i in range(4):\n",
        "                nx = x + dx[i]\n",
        "                ny = y + dy[i]\n",
        "\n",
        "                if 0<=nx<5 and 0<=ny<5 and visited[ny][nx] == 0:\n",
        "                    \n",
        "                    if p[ny][nx] == 'O':\n",
        "                        queue.append([ny, nx])\n",
        "                        visited[ny][nx] = 1\n",
        "                        distance[ny][nx] = distance[y][x] + 1\n",
        "                    \n",
        "                    if p[ny][nx] == 'P' and distance[y][x] <= 1:\n",
        "                        return 0\n",
        "    return 1\n",
        "\n",
        "\n",
        "def solution(places):\n",
        "    answer = []\n",
        "    for i in places:\n",
        "        answer.append(bfs(i))\n",
        "    return answer"
      ],
      "metadata": {
        "id": "Ydq4H8XUWjIx"
      },
      "execution_count": null,
      "outputs": []
    }
  ]
}